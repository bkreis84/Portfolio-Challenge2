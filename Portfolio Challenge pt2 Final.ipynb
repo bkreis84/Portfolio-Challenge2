{
 "cells": [
  {
   "cell_type": "code",
   "execution_count": 24,
   "metadata": {
    "collapsed": true,
    "scrolled": true
   },
   "outputs": [],
   "source": [
    "import os\n",
    "import pandas as pd\n",
    "import numpy as np\n",
    "import pandas_datareader\n",
    "from pandas_datareader import data as pdr\n",
    "from datetime import datetime, timedelta\n",
    "import yfinance as yf\n",
    "\n",
    "def stockData(sList, stDate, endDate):\n",
    "    \"\"\"Take list of stocks and pull data for that stock and create technical indicator variables\n",
    "    sList requires list of stocks, dates should be entered in format 'YYYY-MM-DD' \"\"\"\n",
    "   \n",
    "    data = []\n",
    "    for element in sList:\n",
    "        try:\n",
    "            temp = pdr.get_data_yahoo(element, start = stDate, end = endDate)\n",
    "            #add an indentifier\n",
    "            temp['Symbol'] = element\n",
    "            temp['Close'] = temp['Close']\n",
    "        except: \n",
    "            #If stock symbol cannot be found make it $1\n",
    "            print (element)\n",
    "            temp['Symbol'] = element\n",
    "            temp['Close'] = 1\n",
    "        else:\n",
    "        #add data to list \n",
    "            data.append(temp)\n",
    "        #convert to dataframe    \n",
    "        df = pd.concat(data)\n",
    "        #drop rows for which we will not have all data points calculated\n",
    "        df = df.dropna()\n",
    "        #dates above what user entered\n",
    "        df = df.loc[stDate : endDate]\n",
    "        #order and limit columns to those needed\n",
    "        df = df.loc[:, ['Symbol', 'Close']]\n",
    "        df['Day'] = pd.to_datetime(df.index)\n",
    "\n",
    "    \n",
    "    return(df)\n"
   ]
  },
  {
   "cell_type": "code",
   "execution_count": 25,
   "metadata": {
    "collapsed": true
   },
   "outputs": [],
   "source": [
    "#set working directory \n",
    "os.chdir(\"/Users/bkrei/Desktop/Bk's Stuff Desktop/School/Github NEW PATH/Portfolio-Challenge\")"
   ]
  },
  {
   "cell_type": "code",
   "execution_count": 42,
   "metadata": {},
   "outputs": [],
   "source": [
    "#Read in individual portfolios\n",
    "portfolios = pd.read_csv(\"https://raw.githubusercontent.com/bkreis84/Portfolio-Challenge/master/New%20Baseline.csv\")"
   ]
  },
  {
   "cell_type": "code",
   "execution_count": 28,
   "metadata": {},
   "outputs": [],
   "source": [
    "port1 = portfolios.loc[portfolios['Port_Num'] == 1]"
   ]
  },
  {
   "cell_type": "code",
   "execution_count": 43,
   "metadata": {},
   "outputs": [],
   "source": [
    "port2 = portfolios.loc[portfolios['Port_Num'] == 2]"
   ]
  },
  {
   "cell_type": "code",
   "execution_count": 30,
   "metadata": {},
   "outputs": [
    {
     "data": {
      "text/plain": [
       "0     AAPL\n",
       "1    AGTHX\n",
       "2     AMZN\n",
       "3      CHE\n",
       "4     DOCU\n",
       "5    GSGRX\n",
       "6     ICLN\n",
       "7    OEGAX\n",
       "8     PBFS\n",
       "9      QQQ\n",
       "Name: Symbol, dtype: object"
      ]
     },
     "execution_count": 30,
     "metadata": {},
     "output_type": "execute_result"
    }
   ],
   "source": [
    "#List of all ticker symbols\n",
    "symbols1 = port1['Symbol'].drop_duplicates()\n",
    "symbols1.head(10)"
   ]
  },
  {
   "cell_type": "code",
   "execution_count": 44,
   "metadata": {},
   "outputs": [
    {
     "data": {
      "text/plain": [
       "283     AAPL\n",
       "284      IBM\n",
       "285      PIR\n",
       "286      WMT\n",
       "287    GOOGL\n",
       "288     DOCU\n",
       "289      GCO\n",
       "290     ATLC\n",
       "291      XOM\n",
       "292      FCA\n",
       "Name: Symbol, dtype: object"
      ]
     },
     "execution_count": 44,
     "metadata": {},
     "output_type": "execute_result"
    }
   ],
   "source": [
    "#List of all ticker symbols\n",
    "symbols2 = port2['Symbol'].drop_duplicates()\n",
    "symbols2.head(10)"
   ]
  },
  {
   "cell_type": "code",
   "execution_count": 39,
   "metadata": {
    "collapsed": true
   },
   "outputs": [],
   "source": [
    "symbols1.to_csv(\"symbols port1.csv\", header = False)\n",
    "symbols2.to_csv(\"symbols port2.csv\", header = False)"
   ]
  },
  {
   "cell_type": "code",
   "execution_count": null,
   "metadata": {
    "collapsed": true
   },
   "outputs": [],
   "source": []
  },
  {
   "cell_type": "code",
   "execution_count": 40,
   "metadata": {},
   "outputs": [
    {
     "name": "stdout",
     "output_type": "stream",
     "text": [
      "CASHPIO\n"
     ]
    },
    {
     "data": {
      "text/plain": [
       "(160, 3)"
      ]
     },
     "execution_count": 40,
     "metadata": {},
     "output_type": "execute_result"
    }
   ],
   "source": [
    "#Prices Port 1\n",
    "#Pass the ticker list to the function, print invalid stock symbols and create dataframe with intial prices\n",
    "beg_prices1 = stockData(list(symbols1), '2019-09-06', '2019-09-06')\n",
    "beg_prices1.shape"
   ]
  },
  {
   "cell_type": "code",
   "execution_count": 56,
   "metadata": {
    "collapsed": true
   },
   "outputs": [],
   "source": [
    "beg_prices1.to_csv(\"prices_port1.csv\", header = True)"
   ]
  },
  {
   "cell_type": "code",
   "execution_count": 35,
   "metadata": {
    "collapsed": true
   },
   "outputs": [],
   "source": [
    "#Error handling port 1\n",
    "#er1 = stockData(['SNAP'], '2019-09-06', '2019-09-06')"
   ]
  },
  {
   "cell_type": "code",
   "execution_count": 45,
   "metadata": {},
   "outputs": [
    {
     "data": {
      "text/plain": [
       "(104, 3)"
      ]
     },
     "execution_count": 45,
     "metadata": {},
     "output_type": "execute_result"
    }
   ],
   "source": [
    "#Prices Port 2\n",
    "#Pass the ticker list to the function, print invalid stock symbols and create dataframe with intial prices\n",
    "\n",
    "beg_prices2 = stockData(list(symbols2), '2019-09-27', '2019-09-27')\n",
    "beg_prices2.shape"
   ]
  },
  {
   "cell_type": "code",
   "execution_count": 8,
   "metadata": {
    "collapsed": true
   },
   "outputs": [],
   "source": [
    "#Pull SNAP which for some reason is the only stock with an issue.\n",
    "#er2 = stockData(['SNAP'], '2019-09-27', '2019-09-27')"
   ]
  },
  {
   "cell_type": "code",
   "execution_count": 55,
   "metadata": {},
   "outputs": [],
   "source": [
    "beg_prices2.to_csv(\"prices_port2.csv\", header = True)"
   ]
  },
  {
   "cell_type": "code",
   "execution_count": 52,
   "metadata": {},
   "outputs": [
    {
     "data": {
      "text/html": [
       "<div>\n",
       "<style scoped>\n",
       "    .dataframe tbody tr th:only-of-type {\n",
       "        vertical-align: middle;\n",
       "    }\n",
       "\n",
       "    .dataframe tbody tr th {\n",
       "        vertical-align: top;\n",
       "    }\n",
       "\n",
       "    .dataframe thead th {\n",
       "        text-align: right;\n",
       "    }\n",
       "</style>\n",
       "<table border=\"1\" class=\"dataframe\">\n",
       "  <thead>\n",
       "    <tr style=\"text-align: right;\">\n",
       "      <th></th>\n",
       "      <th>Port_Num</th>\n",
       "      <th>New Cost Basis</th>\n",
       "      <th>Name</th>\n",
       "      <th>Symbol</th>\n",
       "      <th>% of Portfolio</th>\n",
       "      <th>Cost Basis</th>\n",
       "    </tr>\n",
       "  </thead>\n",
       "  <tbody>\n",
       "    <tr>\n",
       "      <th>0</th>\n",
       "      <td>1</td>\n",
       "      <td>194413.7192</td>\n",
       "      <td>Adrienne Villano</td>\n",
       "      <td>AAPL</td>\n",
       "      <td>0.07</td>\n",
       "      <td>14000.0</td>\n",
       "    </tr>\n",
       "    <tr>\n",
       "      <th>1</th>\n",
       "      <td>1</td>\n",
       "      <td>194413.7192</td>\n",
       "      <td>Adrienne Villano</td>\n",
       "      <td>AGTHX</td>\n",
       "      <td>0.11</td>\n",
       "      <td>22000.0</td>\n",
       "    </tr>\n",
       "    <tr>\n",
       "      <th>2</th>\n",
       "      <td>1</td>\n",
       "      <td>194413.7192</td>\n",
       "      <td>Adrienne Villano</td>\n",
       "      <td>AMZN</td>\n",
       "      <td>0.07</td>\n",
       "      <td>14000.0</td>\n",
       "    </tr>\n",
       "    <tr>\n",
       "      <th>3</th>\n",
       "      <td>1</td>\n",
       "      <td>194413.7192</td>\n",
       "      <td>Adrienne Villano</td>\n",
       "      <td>CHE</td>\n",
       "      <td>0.18</td>\n",
       "      <td>36000.0</td>\n",
       "    </tr>\n",
       "    <tr>\n",
       "      <th>4</th>\n",
       "      <td>1</td>\n",
       "      <td>194413.7192</td>\n",
       "      <td>Adrienne Villano</td>\n",
       "      <td>DOCU</td>\n",
       "      <td>0.05</td>\n",
       "      <td>10000.0</td>\n",
       "    </tr>\n",
       "  </tbody>\n",
       "</table>\n",
       "</div>"
      ],
      "text/plain": [
       "   Port_Num  New Cost Basis              Name Symbol % of Portfolio  \\\n",
       "0         1     194413.7192  Adrienne Villano   AAPL           0.07   \n",
       "1         1     194413.7192  Adrienne Villano  AGTHX           0.11   \n",
       "2         1     194413.7192  Adrienne Villano   AMZN           0.07   \n",
       "3         1     194413.7192  Adrienne Villano    CHE           0.18   \n",
       "4         1     194413.7192  Adrienne Villano   DOCU           0.05   \n",
       "\n",
       "   Cost Basis  \n",
       "0     14000.0  \n",
       "1     22000.0  \n",
       "2     14000.0  \n",
       "3     36000.0  \n",
       "4     10000.0  "
      ]
     },
     "execution_count": 52,
     "metadata": {},
     "output_type": "execute_result"
    }
   ],
   "source": [
    "port1.head()"
   ]
  },
  {
   "cell_type": "code",
   "execution_count": 9,
   "metadata": {
    "collapsed": true
   },
   "outputs": [],
   "source": [
    "#Combine the main and SNAP dataframes\n",
    "#frames = [beg_prices, er]\n",
    "#beg_prices = pd.concat(frames)"
   ]
  },
  {
   "cell_type": "code",
   "execution_count": 58,
   "metadata": {},
   "outputs": [],
   "source": [
    "beg_prices1 = pd.read_csv(\"https://raw.githubusercontent.com/bkreis84/Portfolio-Challenge/master/prices_port1.csv\")\n"
   ]
  },
  {
   "cell_type": "code",
   "execution_count": 61,
   "metadata": {
    "collapsed": true
   },
   "outputs": [],
   "source": [
    "combined1 = pd.merge(port1, beg_prices1, how = 'left', on = \"Symbol\", validate=\"many_to_one\")"
   ]
  },
  {
   "cell_type": "code",
   "execution_count": 62,
   "metadata": {},
   "outputs": [
    {
     "data": {
      "text/html": [
       "<div>\n",
       "<style scoped>\n",
       "    .dataframe tbody tr th:only-of-type {\n",
       "        vertical-align: middle;\n",
       "    }\n",
       "\n",
       "    .dataframe tbody tr th {\n",
       "        vertical-align: top;\n",
       "    }\n",
       "\n",
       "    .dataframe thead th {\n",
       "        text-align: right;\n",
       "    }\n",
       "</style>\n",
       "<table border=\"1\" class=\"dataframe\">\n",
       "  <thead>\n",
       "    <tr style=\"text-align: right;\">\n",
       "      <th></th>\n",
       "      <th>Port_Num</th>\n",
       "      <th>New Cost Basis</th>\n",
       "      <th>Name</th>\n",
       "      <th>Symbol</th>\n",
       "      <th>% of Portfolio</th>\n",
       "      <th>Cost Basis</th>\n",
       "      <th>Close</th>\n",
       "      <th>Day</th>\n",
       "    </tr>\n",
       "  </thead>\n",
       "  <tbody>\n",
       "    <tr>\n",
       "      <th>0</th>\n",
       "      <td>1</td>\n",
       "      <td>194413.7192</td>\n",
       "      <td>Adrienne Villano</td>\n",
       "      <td>AAPL</td>\n",
       "      <td>0.07</td>\n",
       "      <td>14000.0</td>\n",
       "      <td>213.259995</td>\n",
       "      <td>2019-09-06</td>\n",
       "    </tr>\n",
       "    <tr>\n",
       "      <th>1</th>\n",
       "      <td>1</td>\n",
       "      <td>194413.7192</td>\n",
       "      <td>Adrienne Villano</td>\n",
       "      <td>AGTHX</td>\n",
       "      <td>0.11</td>\n",
       "      <td>22000.0</td>\n",
       "      <td>50.000000</td>\n",
       "      <td>2019-09-06</td>\n",
       "    </tr>\n",
       "    <tr>\n",
       "      <th>2</th>\n",
       "      <td>1</td>\n",
       "      <td>194413.7192</td>\n",
       "      <td>Adrienne Villano</td>\n",
       "      <td>AMZN</td>\n",
       "      <td>0.07</td>\n",
       "      <td>14000.0</td>\n",
       "      <td>1833.510010</td>\n",
       "      <td>2019-09-06</td>\n",
       "    </tr>\n",
       "    <tr>\n",
       "      <th>3</th>\n",
       "      <td>1</td>\n",
       "      <td>194413.7192</td>\n",
       "      <td>Adrienne Villano</td>\n",
       "      <td>CHE</td>\n",
       "      <td>0.18</td>\n",
       "      <td>36000.0</td>\n",
       "      <td>439.820007</td>\n",
       "      <td>2019-09-06</td>\n",
       "    </tr>\n",
       "    <tr>\n",
       "      <th>4</th>\n",
       "      <td>1</td>\n",
       "      <td>194413.7192</td>\n",
       "      <td>Adrienne Villano</td>\n",
       "      <td>DOCU</td>\n",
       "      <td>0.05</td>\n",
       "      <td>10000.0</td>\n",
       "      <td>56.270000</td>\n",
       "      <td>2019-09-06</td>\n",
       "    </tr>\n",
       "  </tbody>\n",
       "</table>\n",
       "</div>"
      ],
      "text/plain": [
       "   Port_Num  New Cost Basis              Name Symbol % of Portfolio  \\\n",
       "0         1     194413.7192  Adrienne Villano   AAPL           0.07   \n",
       "1         1     194413.7192  Adrienne Villano  AGTHX           0.11   \n",
       "2         1     194413.7192  Adrienne Villano   AMZN           0.07   \n",
       "3         1     194413.7192  Adrienne Villano    CHE           0.18   \n",
       "4         1     194413.7192  Adrienne Villano   DOCU           0.05   \n",
       "\n",
       "   Cost Basis        Close        Day  \n",
       "0     14000.0   213.259995 2019-09-06  \n",
       "1     22000.0    50.000000 2019-09-06  \n",
       "2     14000.0  1833.510010 2019-09-06  \n",
       "3     36000.0   439.820007 2019-09-06  \n",
       "4     10000.0    56.270000 2019-09-06  "
      ]
     },
     "execution_count": 62,
     "metadata": {},
     "output_type": "execute_result"
    }
   ],
   "source": [
    "combined1.head(5)"
   ]
  },
  {
   "cell_type": "code",
   "execution_count": 63,
   "metadata": {
    "collapsed": true
   },
   "outputs": [],
   "source": [
    "#Calc # of shares purchased\n",
    "combined1[\"# of Shares\"] = combined1[\"Cost Basis\"]/ combined1[\"Close\"]\n",
    "#Convert names to proper case\n",
    "#combined['Name'] = list(map(lambda x: x.title(), combined['Name']))\n",
    "#combined.head()"
   ]
  },
  {
   "cell_type": "code",
   "execution_count": 64,
   "metadata": {
    "collapsed": true
   },
   "outputs": [],
   "source": [
    "beg_prices2 = pd.read_csv(\"https://raw.githubusercontent.com/bkreis84/Portfolio-Challenge/master/prices_port2.csv\")"
   ]
  },
  {
   "cell_type": "code",
   "execution_count": 65,
   "metadata": {
    "collapsed": true
   },
   "outputs": [],
   "source": [
    "combined2 = pd.merge(port2, beg_prices2, how = 'left', on = \"Symbol\", validate=\"many_to_one\")"
   ]
  },
  {
   "cell_type": "code",
   "execution_count": 66,
   "metadata": {},
   "outputs": [
    {
     "data": {
      "text/html": [
       "<div>\n",
       "<style scoped>\n",
       "    .dataframe tbody tr th:only-of-type {\n",
       "        vertical-align: middle;\n",
       "    }\n",
       "\n",
       "    .dataframe tbody tr th {\n",
       "        vertical-align: top;\n",
       "    }\n",
       "\n",
       "    .dataframe thead th {\n",
       "        text-align: right;\n",
       "    }\n",
       "</style>\n",
       "<table border=\"1\" class=\"dataframe\">\n",
       "  <thead>\n",
       "    <tr style=\"text-align: right;\">\n",
       "      <th></th>\n",
       "      <th>Port_Num</th>\n",
       "      <th>New Cost Basis</th>\n",
       "      <th>Name</th>\n",
       "      <th>Symbol</th>\n",
       "      <th>% of Portfolio</th>\n",
       "      <th>Cost Basis</th>\n",
       "      <th>Date</th>\n",
       "      <th>Close</th>\n",
       "      <th>Day</th>\n",
       "    </tr>\n",
       "  </thead>\n",
       "  <tbody>\n",
       "    <tr>\n",
       "      <th>0</th>\n",
       "      <td>2</td>\n",
       "      <td>204011.836</td>\n",
       "      <td>Marie Barkamian</td>\n",
       "      <td>AAPL</td>\n",
       "      <td>0.1</td>\n",
       "      <td>20401.1836</td>\n",
       "      <td>2019-09-27</td>\n",
       "      <td>218.820007</td>\n",
       "      <td>2019-09-27</td>\n",
       "    </tr>\n",
       "    <tr>\n",
       "      <th>1</th>\n",
       "      <td>2</td>\n",
       "      <td>204011.836</td>\n",
       "      <td>Marie Barkamian</td>\n",
       "      <td>IBM</td>\n",
       "      <td>0.1</td>\n",
       "      <td>20401.1836</td>\n",
       "      <td>2019-09-27</td>\n",
       "      <td>143.240005</td>\n",
       "      <td>2019-09-27</td>\n",
       "    </tr>\n",
       "    <tr>\n",
       "      <th>2</th>\n",
       "      <td>2</td>\n",
       "      <td>204011.836</td>\n",
       "      <td>Marie Barkamian</td>\n",
       "      <td>PIR</td>\n",
       "      <td>0.1</td>\n",
       "      <td>20401.1836</td>\n",
       "      <td>2019-09-27</td>\n",
       "      <td>10.870000</td>\n",
       "      <td>2019-09-27</td>\n",
       "    </tr>\n",
       "    <tr>\n",
       "      <th>3</th>\n",
       "      <td>2</td>\n",
       "      <td>204011.836</td>\n",
       "      <td>Marie Barkamian</td>\n",
       "      <td>WMT</td>\n",
       "      <td>0.1</td>\n",
       "      <td>20401.1836</td>\n",
       "      <td>2019-09-27</td>\n",
       "      <td>118.449997</td>\n",
       "      <td>2019-09-27</td>\n",
       "    </tr>\n",
       "    <tr>\n",
       "      <th>4</th>\n",
       "      <td>2</td>\n",
       "      <td>204011.836</td>\n",
       "      <td>Marie Barkamian</td>\n",
       "      <td>GOOGL</td>\n",
       "      <td>0.2</td>\n",
       "      <td>40802.3672</td>\n",
       "      <td>2019-09-27</td>\n",
       "      <td>1225.949951</td>\n",
       "      <td>2019-09-27</td>\n",
       "    </tr>\n",
       "  </tbody>\n",
       "</table>\n",
       "</div>"
      ],
      "text/plain": [
       "   Port_Num  New Cost Basis             Name Symbol % of Portfolio  \\\n",
       "0         2      204011.836  Marie Barkamian   AAPL            0.1   \n",
       "1         2      204011.836  Marie Barkamian    IBM            0.1   \n",
       "2         2      204011.836  Marie Barkamian    PIR            0.1   \n",
       "3         2      204011.836  Marie Barkamian    WMT            0.1   \n",
       "4         2      204011.836  Marie Barkamian  GOOGL            0.2   \n",
       "\n",
       "   Cost Basis        Date        Close         Day  \n",
       "0  20401.1836  2019-09-27   218.820007  2019-09-27  \n",
       "1  20401.1836  2019-09-27   143.240005  2019-09-27  \n",
       "2  20401.1836  2019-09-27    10.870000  2019-09-27  \n",
       "3  20401.1836  2019-09-27   118.449997  2019-09-27  \n",
       "4  40802.3672  2019-09-27  1225.949951  2019-09-27  "
      ]
     },
     "execution_count": 66,
     "metadata": {},
     "output_type": "execute_result"
    }
   ],
   "source": [
    "combined2.head(5)"
   ]
  },
  {
   "cell_type": "code",
   "execution_count": 67,
   "metadata": {
    "collapsed": true
   },
   "outputs": [],
   "source": [
    "#Calc # of shares purchased\n",
    "combined2[\"# of Shares\"] = combined2[\"Cost Basis\"]/ combined2[\"Close\"]\n",
    "#Convert names to proper case\n",
    "#combined['Name'] = list(map(lambda x: x.title(), combined['Name']))\n",
    "#combined.head()"
   ]
  },
  {
   "cell_type": "code",
   "execution_count": 73,
   "metadata": {},
   "outputs": [],
   "source": [
    "combined2 = combined2.drop(['Date'], axis=1)"
   ]
  },
  {
   "cell_type": "code",
   "execution_count": 74,
   "metadata": {},
   "outputs": [],
   "source": [
    "#Combine the main and SNAP dataframes\n",
    "two_frames = [combined1, combined2]\n",
    "full_combined = pd.concat(two_frames)"
   ]
  },
  {
   "cell_type": "code",
   "execution_count": 91,
   "metadata": {
    "collapsed": true
   },
   "outputs": [],
   "source": [
    "full_combined = full_combined[full_combined.Name != 'Emmalie Giaimo']\n",
    "full_combined['initial_basis'] = 200000"
   ]
  },
  {
   "cell_type": "code",
   "execution_count": 92,
   "metadata": {
    "collapsed": true
   },
   "outputs": [],
   "source": [
    "full_combined.to_csv(\"full_combine.csv\")"
   ]
  },
  {
   "cell_type": "code",
   "execution_count": 93,
   "metadata": {
    "collapsed": true
   },
   "outputs": [],
   "source": [
    "new_base = pd.read_csv(\"https://raw.githubusercontent.com/bkreis84/Portfolio-Challenge/master/full_combine.csv\")"
   ]
  },
  {
   "cell_type": "code",
   "execution_count": 94,
   "metadata": {},
   "outputs": [
    {
     "data": {
      "text/plain": [
       "0     AAPL\n",
       "1    AGTHX\n",
       "2     AMZN\n",
       "3      CHE\n",
       "4     DOCU\n",
       "5    GSGRX\n",
       "6     ICLN\n",
       "7    OEGAX\n",
       "8     PBFS\n",
       "9      QQQ\n",
       "Name: Symbol, dtype: object"
      ]
     },
     "execution_count": 94,
     "metadata": {},
     "output_type": "execute_result"
    }
   ],
   "source": [
    "#List of all ticker symbols\n",
    "symbols = new_base['Symbol'].drop_duplicates()\n",
    "symbols.head(10)"
   ]
  },
  {
   "cell_type": "markdown",
   "metadata": {},
   "source": [
    "# Simple Comparison (Initial vs Current Value) START HERE TO UPDATE"
   ]
  },
  {
   "cell_type": "code",
   "execution_count": 81,
   "metadata": {},
   "outputs": [],
   "source": [
    "#Select date to compare to initial prices\n",
    "cur_prices = stockData(list(symbols), '2019-10-03', '2019-10-03')"
   ]
  },
  {
   "cell_type": "code",
   "execution_count": 46,
   "metadata": {
    "collapsed": true
   },
   "outputs": [],
   "source": []
  },
  {
   "cell_type": "code",
   "execution_count": 50,
   "metadata": {
    "collapsed": true
   },
   "outputs": [],
   "source": []
  },
  {
   "cell_type": "code",
   "execution_count": 82,
   "metadata": {
    "collapsed": true
   },
   "outputs": [],
   "source": [
    "cur_prices.sort_values(\"Symbol\", inplace = True)\n",
    "cur_prices.drop_duplicates(subset = \"Symbol\", inplace = True)"
   ]
  },
  {
   "cell_type": "code",
   "execution_count": 83,
   "metadata": {
    "collapsed": true
   },
   "outputs": [],
   "source": [
    "cur_prices.to_csv(\"cur_prices.csv\")"
   ]
  },
  {
   "cell_type": "code",
   "execution_count": 25,
   "metadata": {},
   "outputs": [
    {
     "data": {
      "text/html": [
       "<div>\n",
       "<style scoped>\n",
       "    .dataframe tbody tr th:only-of-type {\n",
       "        vertical-align: middle;\n",
       "    }\n",
       "\n",
       "    .dataframe tbody tr th {\n",
       "        vertical-align: top;\n",
       "    }\n",
       "\n",
       "    .dataframe thead th {\n",
       "        text-align: right;\n",
       "    }\n",
       "</style>\n",
       "<table border=\"1\" class=\"dataframe\">\n",
       "  <thead>\n",
       "    <tr style=\"text-align: right;\">\n",
       "      <th></th>\n",
       "      <th>Date</th>\n",
       "      <th>Symbol</th>\n",
       "      <th>Close</th>\n",
       "      <th>Day</th>\n",
       "    </tr>\n",
       "  </thead>\n",
       "  <tbody>\n",
       "    <tr>\n",
       "      <th>0</th>\n",
       "      <td>2019-09-27</td>\n",
       "      <td>AAL</td>\n",
       "      <td>27.010000</td>\n",
       "      <td>2019-09-27</td>\n",
       "    </tr>\n",
       "    <tr>\n",
       "      <th>1</th>\n",
       "      <td>2019-09-27</td>\n",
       "      <td>AAPL</td>\n",
       "      <td>218.820007</td>\n",
       "      <td>2019-09-27</td>\n",
       "    </tr>\n",
       "    <tr>\n",
       "      <th>2</th>\n",
       "      <td>2019-09-27</td>\n",
       "      <td>ACB</td>\n",
       "      <td>4.620000</td>\n",
       "      <td>2019-09-27</td>\n",
       "    </tr>\n",
       "    <tr>\n",
       "      <th>3</th>\n",
       "      <td>2019-09-27</td>\n",
       "      <td>ACER</td>\n",
       "      <td>3.300000</td>\n",
       "      <td>2019-09-27</td>\n",
       "    </tr>\n",
       "    <tr>\n",
       "      <th>4</th>\n",
       "      <td>2019-09-27</td>\n",
       "      <td>ACST</td>\n",
       "      <td>1.960000</td>\n",
       "      <td>2019-09-27</td>\n",
       "    </tr>\n",
       "  </tbody>\n",
       "</table>\n",
       "</div>"
      ],
      "text/plain": [
       "         Date Symbol       Close         Day\n",
       "0  2019-09-27    AAL   27.010000  2019-09-27\n",
       "1  2019-09-27   AAPL  218.820007  2019-09-27\n",
       "2  2019-09-27    ACB    4.620000  2019-09-27\n",
       "3  2019-09-27   ACER    3.300000  2019-09-27\n",
       "4  2019-09-27   ACST    1.960000  2019-09-27"
      ]
     },
     "execution_count": 25,
     "metadata": {},
     "output_type": "execute_result"
    }
   ],
   "source": [
    "#cur_prices= pd.read_csv(\"https://raw.githubusercontent.com/bkreis84/Portfolio-Challenge/master/cur_prices.csv\")\n",
    "#cur_prices.head()\n"
   ]
  },
  {
   "cell_type": "code",
   "execution_count": 95,
   "metadata": {
    "collapsed": true
   },
   "outputs": [],
   "source": [
    "detail = pd.merge(new_base, cur_prices, how = 'left', on = \"Symbol\", validate=\"many_to_one\")"
   ]
  },
  {
   "cell_type": "code",
   "execution_count": 96,
   "metadata": {},
   "outputs": [
    {
     "data": {
      "text/html": [
       "<div>\n",
       "<style scoped>\n",
       "    .dataframe tbody tr th:only-of-type {\n",
       "        vertical-align: middle;\n",
       "    }\n",
       "\n",
       "    .dataframe tbody tr th {\n",
       "        vertical-align: top;\n",
       "    }\n",
       "\n",
       "    .dataframe thead th {\n",
       "        text-align: right;\n",
       "    }\n",
       "</style>\n",
       "<table border=\"1\" class=\"dataframe\">\n",
       "  <thead>\n",
       "    <tr style=\"text-align: right;\">\n",
       "      <th></th>\n",
       "      <th>Unnamed: 0</th>\n",
       "      <th>Port_Num</th>\n",
       "      <th>New Cost Basis</th>\n",
       "      <th>Name</th>\n",
       "      <th>Symbol</th>\n",
       "      <th>% of Portfolio</th>\n",
       "      <th>Cost Basis</th>\n",
       "      <th>Close_x</th>\n",
       "      <th>Day_x</th>\n",
       "      <th># of Shares</th>\n",
       "      <th>initial_basis</th>\n",
       "      <th>Close_y</th>\n",
       "      <th>Day_y</th>\n",
       "    </tr>\n",
       "  </thead>\n",
       "  <tbody>\n",
       "    <tr>\n",
       "      <th>0</th>\n",
       "      <td>0</td>\n",
       "      <td>1</td>\n",
       "      <td>194413.7192</td>\n",
       "      <td>Adrienne Villano</td>\n",
       "      <td>AAPL</td>\n",
       "      <td>0.07</td>\n",
       "      <td>14000.0</td>\n",
       "      <td>213.259995</td>\n",
       "      <td>2019-09-06 00:00:00</td>\n",
       "      <td>65.647568</td>\n",
       "      <td>200000</td>\n",
       "      <td>220.820007</td>\n",
       "      <td>2019-10-03</td>\n",
       "    </tr>\n",
       "    <tr>\n",
       "      <th>1</th>\n",
       "      <td>1</td>\n",
       "      <td>1</td>\n",
       "      <td>194413.7192</td>\n",
       "      <td>Adrienne Villano</td>\n",
       "      <td>AGTHX</td>\n",
       "      <td>0.11</td>\n",
       "      <td>22000.0</td>\n",
       "      <td>50.000000</td>\n",
       "      <td>2019-09-06 00:00:00</td>\n",
       "      <td>440.000000</td>\n",
       "      <td>200000</td>\n",
       "      <td>48.520000</td>\n",
       "      <td>2019-10-03</td>\n",
       "    </tr>\n",
       "    <tr>\n",
       "      <th>2</th>\n",
       "      <td>2</td>\n",
       "      <td>1</td>\n",
       "      <td>194413.7192</td>\n",
       "      <td>Adrienne Villano</td>\n",
       "      <td>AMZN</td>\n",
       "      <td>0.07</td>\n",
       "      <td>14000.0</td>\n",
       "      <td>1833.510010</td>\n",
       "      <td>2019-09-06 00:00:00</td>\n",
       "      <td>7.635628</td>\n",
       "      <td>200000</td>\n",
       "      <td>1724.420044</td>\n",
       "      <td>2019-10-03</td>\n",
       "    </tr>\n",
       "    <tr>\n",
       "      <th>3</th>\n",
       "      <td>3</td>\n",
       "      <td>1</td>\n",
       "      <td>194413.7192</td>\n",
       "      <td>Adrienne Villano</td>\n",
       "      <td>CHE</td>\n",
       "      <td>0.18</td>\n",
       "      <td>36000.0</td>\n",
       "      <td>439.820007</td>\n",
       "      <td>2019-09-06 00:00:00</td>\n",
       "      <td>81.851665</td>\n",
       "      <td>200000</td>\n",
       "      <td>414.380005</td>\n",
       "      <td>2019-10-03</td>\n",
       "    </tr>\n",
       "    <tr>\n",
       "      <th>4</th>\n",
       "      <td>4</td>\n",
       "      <td>1</td>\n",
       "      <td>194413.7192</td>\n",
       "      <td>Adrienne Villano</td>\n",
       "      <td>DOCU</td>\n",
       "      <td>0.05</td>\n",
       "      <td>10000.0</td>\n",
       "      <td>56.270000</td>\n",
       "      <td>2019-09-06 00:00:00</td>\n",
       "      <td>177.714589</td>\n",
       "      <td>200000</td>\n",
       "      <td>62.209999</td>\n",
       "      <td>2019-10-03</td>\n",
       "    </tr>\n",
       "  </tbody>\n",
       "</table>\n",
       "</div>"
      ],
      "text/plain": [
       "   Unnamed: 0  Port_Num  New Cost Basis              Name Symbol  \\\n",
       "0           0         1     194413.7192  Adrienne Villano   AAPL   \n",
       "1           1         1     194413.7192  Adrienne Villano  AGTHX   \n",
       "2           2         1     194413.7192  Adrienne Villano   AMZN   \n",
       "3           3         1     194413.7192  Adrienne Villano    CHE   \n",
       "4           4         1     194413.7192  Adrienne Villano   DOCU   \n",
       "\n",
       "  % of Portfolio  Cost Basis      Close_x                Day_x  # of Shares  \\\n",
       "0           0.07     14000.0   213.259995  2019-09-06 00:00:00    65.647568   \n",
       "1           0.11     22000.0    50.000000  2019-09-06 00:00:00   440.000000   \n",
       "2           0.07     14000.0  1833.510010  2019-09-06 00:00:00     7.635628   \n",
       "3           0.18     36000.0   439.820007  2019-09-06 00:00:00    81.851665   \n",
       "4           0.05     10000.0    56.270000  2019-09-06 00:00:00   177.714589   \n",
       "\n",
       "   initial_basis      Close_y      Day_y  \n",
       "0         200000   220.820007 2019-10-03  \n",
       "1         200000    48.520000 2019-10-03  \n",
       "2         200000  1724.420044 2019-10-03  \n",
       "3         200000   414.380005 2019-10-03  \n",
       "4         200000    62.209999 2019-10-03  "
      ]
     },
     "execution_count": 96,
     "metadata": {},
     "output_type": "execute_result"
    }
   ],
   "source": [
    "detail.head()"
   ]
  },
  {
   "cell_type": "code",
   "execution_count": 97,
   "metadata": {},
   "outputs": [
    {
     "data": {
      "text/html": [
       "<div>\n",
       "<style scoped>\n",
       "    .dataframe tbody tr th:only-of-type {\n",
       "        vertical-align: middle;\n",
       "    }\n",
       "\n",
       "    .dataframe tbody tr th {\n",
       "        vertical-align: top;\n",
       "    }\n",
       "\n",
       "    .dataframe thead th {\n",
       "        text-align: right;\n",
       "    }\n",
       "</style>\n",
       "<table border=\"1\" class=\"dataframe\">\n",
       "  <thead>\n",
       "    <tr style=\"text-align: right;\">\n",
       "      <th></th>\n",
       "      <th>Unnamed: 0</th>\n",
       "      <th>Port_Num</th>\n",
       "      <th>New Cost Basis</th>\n",
       "      <th>Name</th>\n",
       "      <th>Symbol</th>\n",
       "      <th>% of Portfolio</th>\n",
       "      <th>Cost Basis</th>\n",
       "      <th>Close_x</th>\n",
       "      <th>Day_x</th>\n",
       "      <th># of Shares</th>\n",
       "      <th>initial_basis</th>\n",
       "      <th>Close_y</th>\n",
       "      <th>Day_y</th>\n",
       "      <th>Current_Value</th>\n",
       "      <th>Perc_Return</th>\n",
       "    </tr>\n",
       "  </thead>\n",
       "  <tbody>\n",
       "    <tr>\n",
       "      <th>0</th>\n",
       "      <td>0</td>\n",
       "      <td>1</td>\n",
       "      <td>194413.7192</td>\n",
       "      <td>Adrienne Villano</td>\n",
       "      <td>AAPL</td>\n",
       "      <td>0.07</td>\n",
       "      <td>14000.0</td>\n",
       "      <td>213.259995</td>\n",
       "      <td>2019-09-06 00:00:00</td>\n",
       "      <td>65.647568</td>\n",
       "      <td>200000</td>\n",
       "      <td>220.820007</td>\n",
       "      <td>2019-10-03</td>\n",
       "      <td>14496.296456</td>\n",
       "      <td>0.035450</td>\n",
       "    </tr>\n",
       "    <tr>\n",
       "      <th>1</th>\n",
       "      <td>1</td>\n",
       "      <td>1</td>\n",
       "      <td>194413.7192</td>\n",
       "      <td>Adrienne Villano</td>\n",
       "      <td>AGTHX</td>\n",
       "      <td>0.11</td>\n",
       "      <td>22000.0</td>\n",
       "      <td>50.000000</td>\n",
       "      <td>2019-09-06 00:00:00</td>\n",
       "      <td>440.000000</td>\n",
       "      <td>200000</td>\n",
       "      <td>48.520000</td>\n",
       "      <td>2019-10-03</td>\n",
       "      <td>21348.800201</td>\n",
       "      <td>-0.029600</td>\n",
       "    </tr>\n",
       "    <tr>\n",
       "      <th>2</th>\n",
       "      <td>2</td>\n",
       "      <td>1</td>\n",
       "      <td>194413.7192</td>\n",
       "      <td>Adrienne Villano</td>\n",
       "      <td>AMZN</td>\n",
       "      <td>0.07</td>\n",
       "      <td>14000.0</td>\n",
       "      <td>1833.510010</td>\n",
       "      <td>2019-09-06 00:00:00</td>\n",
       "      <td>7.635628</td>\n",
       "      <td>200000</td>\n",
       "      <td>1724.420044</td>\n",
       "      <td>2019-10-03</td>\n",
       "      <td>13167.029624</td>\n",
       "      <td>-0.059498</td>\n",
       "    </tr>\n",
       "    <tr>\n",
       "      <th>3</th>\n",
       "      <td>3</td>\n",
       "      <td>1</td>\n",
       "      <td>194413.7192</td>\n",
       "      <td>Adrienne Villano</td>\n",
       "      <td>CHE</td>\n",
       "      <td>0.18</td>\n",
       "      <td>36000.0</td>\n",
       "      <td>439.820007</td>\n",
       "      <td>2019-09-06 00:00:00</td>\n",
       "      <td>81.851665</td>\n",
       "      <td>200000</td>\n",
       "      <td>414.380005</td>\n",
       "      <td>2019-10-03</td>\n",
       "      <td>33917.693437</td>\n",
       "      <td>-0.057842</td>\n",
       "    </tr>\n",
       "    <tr>\n",
       "      <th>4</th>\n",
       "      <td>4</td>\n",
       "      <td>1</td>\n",
       "      <td>194413.7192</td>\n",
       "      <td>Adrienne Villano</td>\n",
       "      <td>DOCU</td>\n",
       "      <td>0.05</td>\n",
       "      <td>10000.0</td>\n",
       "      <td>56.270000</td>\n",
       "      <td>2019-09-06 00:00:00</td>\n",
       "      <td>177.714589</td>\n",
       "      <td>200000</td>\n",
       "      <td>62.209999</td>\n",
       "      <td>2019-10-03</td>\n",
       "      <td>11055.624414</td>\n",
       "      <td>0.105562</td>\n",
       "    </tr>\n",
       "  </tbody>\n",
       "</table>\n",
       "</div>"
      ],
      "text/plain": [
       "   Unnamed: 0  Port_Num  New Cost Basis              Name Symbol  \\\n",
       "0           0         1     194413.7192  Adrienne Villano   AAPL   \n",
       "1           1         1     194413.7192  Adrienne Villano  AGTHX   \n",
       "2           2         1     194413.7192  Adrienne Villano   AMZN   \n",
       "3           3         1     194413.7192  Adrienne Villano    CHE   \n",
       "4           4         1     194413.7192  Adrienne Villano   DOCU   \n",
       "\n",
       "  % of Portfolio  Cost Basis      Close_x                Day_x  # of Shares  \\\n",
       "0           0.07     14000.0   213.259995  2019-09-06 00:00:00    65.647568   \n",
       "1           0.11     22000.0    50.000000  2019-09-06 00:00:00   440.000000   \n",
       "2           0.07     14000.0  1833.510010  2019-09-06 00:00:00     7.635628   \n",
       "3           0.18     36000.0   439.820007  2019-09-06 00:00:00    81.851665   \n",
       "4           0.05     10000.0    56.270000  2019-09-06 00:00:00   177.714589   \n",
       "\n",
       "   initial_basis      Close_y      Day_y  Current_Value  Perc_Return  \n",
       "0         200000   220.820007 2019-10-03   14496.296456     0.035450  \n",
       "1         200000    48.520000 2019-10-03   21348.800201    -0.029600  \n",
       "2         200000  1724.420044 2019-10-03   13167.029624    -0.059498  \n",
       "3         200000   414.380005 2019-10-03   33917.693437    -0.057842  \n",
       "4         200000    62.209999 2019-10-03   11055.624414     0.105562  "
      ]
     },
     "execution_count": 97,
     "metadata": {},
     "output_type": "execute_result"
    }
   ],
   "source": [
    "detail['Current_Value'] = detail['Close_y'] * detail['# of Shares']\n",
    "detail['Perc_Return'] = detail['Close_y']/detail['Close_x']  -1\n",
    "detail.head(5)"
   ]
  },
  {
   "cell_type": "code",
   "execution_count": 87,
   "metadata": {
    "collapsed": true
   },
   "outputs": [],
   "source": [
    "detail.to_csv(\"pt2-detail.csv\")"
   ]
  },
  {
   "cell_type": "markdown",
   "metadata": {},
   "source": [
    "### Individual Performance"
   ]
  },
  {
   "cell_type": "code",
   "execution_count": 104,
   "metadata": {},
   "outputs": [],
   "source": [
    "ranking = detail.groupby(\"Name\")['Current_Value'].sum().reset_index().sort_values(\"Current_Value\", ascending=False)"
   ]
  },
  {
   "cell_type": "code",
   "execution_count": 107,
   "metadata": {
    "scrolled": true
   },
   "outputs": [
    {
     "data": {
      "text/html": [
       "<div>\n",
       "<style scoped>\n",
       "    .dataframe tbody tr th:only-of-type {\n",
       "        vertical-align: middle;\n",
       "    }\n",
       "\n",
       "    .dataframe tbody tr th {\n",
       "        vertical-align: top;\n",
       "    }\n",
       "\n",
       "    .dataframe thead th {\n",
       "        text-align: right;\n",
       "    }\n",
       "</style>\n",
       "<table border=\"1\" class=\"dataframe\">\n",
       "  <thead>\n",
       "    <tr style=\"text-align: right;\">\n",
       "      <th></th>\n",
       "      <th>Name</th>\n",
       "      <th>Current_Value</th>\n",
       "      <th>Perc_Return</th>\n",
       "      <th>Rank</th>\n",
       "    </tr>\n",
       "  </thead>\n",
       "  <tbody>\n",
       "    <tr>\n",
       "      <th>12</th>\n",
       "      <td>Colton Young</td>\n",
       "      <td>218311.322514</td>\n",
       "      <td>0.091557</td>\n",
       "      <td>1.0</td>\n",
       "    </tr>\n",
       "    <tr>\n",
       "      <th>25</th>\n",
       "      <td>Joelean Mcbride</td>\n",
       "      <td>210732.212648</td>\n",
       "      <td>0.053661</td>\n",
       "      <td>2.0</td>\n",
       "    </tr>\n",
       "    <tr>\n",
       "      <th>26</th>\n",
       "      <td>Joseph Lindner</td>\n",
       "      <td>204633.016109</td>\n",
       "      <td>0.023165</td>\n",
       "      <td>3.0</td>\n",
       "    </tr>\n",
       "    <tr>\n",
       "      <th>46</th>\n",
       "      <td>Robert Kovacs</td>\n",
       "      <td>204119.000226</td>\n",
       "      <td>0.020595</td>\n",
       "      <td>4.0</td>\n",
       "    </tr>\n",
       "    <tr>\n",
       "      <th>28</th>\n",
       "      <td>Kelly Nicholson</td>\n",
       "      <td>203007.946389</td>\n",
       "      <td>0.015040</td>\n",
       "      <td>5.0</td>\n",
       "    </tr>\n",
       "    <tr>\n",
       "      <th>5</th>\n",
       "      <td>Anil Mulchandani</td>\n",
       "      <td>199703.494276</td>\n",
       "      <td>-0.001483</td>\n",
       "      <td>6.0</td>\n",
       "    </tr>\n",
       "    <tr>\n",
       "      <th>21</th>\n",
       "      <td>Gregory Hanselman</td>\n",
       "      <td>199099.906967</td>\n",
       "      <td>-0.004500</td>\n",
       "      <td>7.0</td>\n",
       "    </tr>\n",
       "    <tr>\n",
       "      <th>9</th>\n",
       "      <td>Bradley Bonfante</td>\n",
       "      <td>198481.134375</td>\n",
       "      <td>-0.007594</td>\n",
       "      <td>8.0</td>\n",
       "    </tr>\n",
       "    <tr>\n",
       "      <th>36</th>\n",
       "      <td>Marie Barkamian</td>\n",
       "      <td>198102.593247</td>\n",
       "      <td>-0.009487</td>\n",
       "      <td>9.0</td>\n",
       "    </tr>\n",
       "    <tr>\n",
       "      <th>20</th>\n",
       "      <td>Estelle Genest</td>\n",
       "      <td>198089.425713</td>\n",
       "      <td>-0.009553</td>\n",
       "      <td>10.0</td>\n",
       "    </tr>\n",
       "    <tr>\n",
       "      <th>40</th>\n",
       "      <td>Nori Lansing</td>\n",
       "      <td>196797.927840</td>\n",
       "      <td>-0.016010</td>\n",
       "      <td>11.0</td>\n",
       "    </tr>\n",
       "    <tr>\n",
       "      <th>19</th>\n",
       "      <td>Elise Shaver</td>\n",
       "      <td>196716.656087</td>\n",
       "      <td>-0.016417</td>\n",
       "      <td>12.0</td>\n",
       "    </tr>\n",
       "    <tr>\n",
       "      <th>6</th>\n",
       "      <td>Antigona Beshello</td>\n",
       "      <td>196204.689407</td>\n",
       "      <td>-0.018977</td>\n",
       "      <td>13.0</td>\n",
       "    </tr>\n",
       "    <tr>\n",
       "      <th>22</th>\n",
       "      <td>Jacqueline Lorenz</td>\n",
       "      <td>196187.959627</td>\n",
       "      <td>-0.019060</td>\n",
       "      <td>14.0</td>\n",
       "    </tr>\n",
       "    <tr>\n",
       "      <th>43</th>\n",
       "      <td>Philip Cortese</td>\n",
       "      <td>195932.403164</td>\n",
       "      <td>-0.020338</td>\n",
       "      <td>15.0</td>\n",
       "    </tr>\n",
       "    <tr>\n",
       "      <th>29</th>\n",
       "      <td>Kimberly Matzen</td>\n",
       "      <td>195634.180918</td>\n",
       "      <td>-0.021829</td>\n",
       "      <td>16.0</td>\n",
       "    </tr>\n",
       "    <tr>\n",
       "      <th>48</th>\n",
       "      <td>Schuyler Bull</td>\n",
       "      <td>195127.699567</td>\n",
       "      <td>-0.024362</td>\n",
       "      <td>17.0</td>\n",
       "    </tr>\n",
       "    <tr>\n",
       "      <th>49</th>\n",
       "      <td>Sharon Strock</td>\n",
       "      <td>194543.531566</td>\n",
       "      <td>-0.027282</td>\n",
       "      <td>18.0</td>\n",
       "    </tr>\n",
       "    <tr>\n",
       "      <th>50</th>\n",
       "      <td>Sherlock Bacchus</td>\n",
       "      <td>194274.709106</td>\n",
       "      <td>-0.028626</td>\n",
       "      <td>19.0</td>\n",
       "    </tr>\n",
       "    <tr>\n",
       "      <th>44</th>\n",
       "      <td>Randy Benedict</td>\n",
       "      <td>194231.166054</td>\n",
       "      <td>-0.028844</td>\n",
       "      <td>20.0</td>\n",
       "    </tr>\n",
       "    <tr>\n",
       "      <th>7</th>\n",
       "      <td>Barb Derian</td>\n",
       "      <td>193994.850544</td>\n",
       "      <td>-0.030026</td>\n",
       "      <td>21.0</td>\n",
       "    </tr>\n",
       "    <tr>\n",
       "      <th>0</th>\n",
       "      <td>Adrienne Villano</td>\n",
       "      <td>193814.097162</td>\n",
       "      <td>-0.030930</td>\n",
       "      <td>22.0</td>\n",
       "    </tr>\n",
       "    <tr>\n",
       "      <th>16</th>\n",
       "      <td>Deanna Coleman</td>\n",
       "      <td>193635.151310</td>\n",
       "      <td>-0.031824</td>\n",
       "      <td>23.0</td>\n",
       "    </tr>\n",
       "    <tr>\n",
       "      <th>30</th>\n",
       "      <td>Krista Nash</td>\n",
       "      <td>193317.327943</td>\n",
       "      <td>-0.033413</td>\n",
       "      <td>24.0</td>\n",
       "    </tr>\n",
       "    <tr>\n",
       "      <th>42</th>\n",
       "      <td>Peter Odell</td>\n",
       "      <td>192986.989868</td>\n",
       "      <td>-0.035065</td>\n",
       "      <td>25.0</td>\n",
       "    </tr>\n",
       "    <tr>\n",
       "      <th>53</th>\n",
       "      <td>Trudy Seeber</td>\n",
       "      <td>192853.902519</td>\n",
       "      <td>-0.035730</td>\n",
       "      <td>26.0</td>\n",
       "    </tr>\n",
       "    <tr>\n",
       "      <th>27</th>\n",
       "      <td>Karen Koster</td>\n",
       "      <td>192803.901742</td>\n",
       "      <td>-0.035980</td>\n",
       "      <td>27.0</td>\n",
       "    </tr>\n",
       "    <tr>\n",
       "      <th>14</th>\n",
       "      <td>Danish Sharpe</td>\n",
       "      <td>192171.361897</td>\n",
       "      <td>-0.039143</td>\n",
       "      <td>28.0</td>\n",
       "    </tr>\n",
       "    <tr>\n",
       "      <th>33</th>\n",
       "      <td>Kwun Chan</td>\n",
       "      <td>191821.993766</td>\n",
       "      <td>-0.040890</td>\n",
       "      <td>29.0</td>\n",
       "    </tr>\n",
       "    <tr>\n",
       "      <th>38</th>\n",
       "      <td>Melissa Stamper</td>\n",
       "      <td>191785.021126</td>\n",
       "      <td>-0.041075</td>\n",
       "      <td>30.0</td>\n",
       "    </tr>\n",
       "    <tr>\n",
       "      <th>31</th>\n",
       "      <td>Kristen Kiefer</td>\n",
       "      <td>191592.272391</td>\n",
       "      <td>-0.042039</td>\n",
       "      <td>31.0</td>\n",
       "    </tr>\n",
       "    <tr>\n",
       "      <th>1</th>\n",
       "      <td>Alexandra Sautin</td>\n",
       "      <td>190446.108220</td>\n",
       "      <td>-0.047769</td>\n",
       "      <td>32.0</td>\n",
       "    </tr>\n",
       "    <tr>\n",
       "      <th>34</th>\n",
       "      <td>Luke Scarchilli</td>\n",
       "      <td>190239.328352</td>\n",
       "      <td>-0.048803</td>\n",
       "      <td>33.0</td>\n",
       "    </tr>\n",
       "    <tr>\n",
       "      <th>23</th>\n",
       "      <td>Jennah Hebert V1</td>\n",
       "      <td>190189.307572</td>\n",
       "      <td>-0.049053</td>\n",
       "      <td>34.0</td>\n",
       "    </tr>\n",
       "    <tr>\n",
       "      <th>10</th>\n",
       "      <td>Brian Kreis</td>\n",
       "      <td>190018.189824</td>\n",
       "      <td>-0.049909</td>\n",
       "      <td>35.0</td>\n",
       "    </tr>\n",
       "    <tr>\n",
       "      <th>13</th>\n",
       "      <td>Dan Cancelliere</td>\n",
       "      <td>188817.375131</td>\n",
       "      <td>-0.055913</td>\n",
       "      <td>36.0</td>\n",
       "    </tr>\n",
       "    <tr>\n",
       "      <th>52</th>\n",
       "      <td>Teresa Purcell</td>\n",
       "      <td>188708.164375</td>\n",
       "      <td>-0.056459</td>\n",
       "      <td>37.0</td>\n",
       "    </tr>\n",
       "    <tr>\n",
       "      <th>45</th>\n",
       "      <td>Rekha Singh</td>\n",
       "      <td>188609.944838</td>\n",
       "      <td>-0.056950</td>\n",
       "      <td>38.0</td>\n",
       "    </tr>\n",
       "    <tr>\n",
       "      <th>24</th>\n",
       "      <td>Jennah Hebert V2</td>\n",
       "      <td>187433.542576</td>\n",
       "      <td>-0.062832</td>\n",
       "      <td>39.0</td>\n",
       "    </tr>\n",
       "    <tr>\n",
       "      <th>39</th>\n",
       "      <td>Nick Capullo</td>\n",
       "      <td>187202.476325</td>\n",
       "      <td>-0.063988</td>\n",
       "      <td>40.0</td>\n",
       "    </tr>\n",
       "    <tr>\n",
       "      <th>4</th>\n",
       "      <td>Angela Macmurray</td>\n",
       "      <td>184559.364230</td>\n",
       "      <td>-0.077203</td>\n",
       "      <td>41.0</td>\n",
       "    </tr>\n",
       "    <tr>\n",
       "      <th>32</th>\n",
       "      <td>Kristyn Constantino</td>\n",
       "      <td>183953.773227</td>\n",
       "      <td>-0.080231</td>\n",
       "      <td>42.0</td>\n",
       "    </tr>\n",
       "    <tr>\n",
       "      <th>3</th>\n",
       "      <td>Angela Cannistraci</td>\n",
       "      <td>183870.347829</td>\n",
       "      <td>-0.080648</td>\n",
       "      <td>43.0</td>\n",
       "    </tr>\n",
       "    <tr>\n",
       "      <th>15</th>\n",
       "      <td>David Hunn</td>\n",
       "      <td>183233.763039</td>\n",
       "      <td>-0.083831</td>\n",
       "      <td>44.0</td>\n",
       "    </tr>\n",
       "    <tr>\n",
       "      <th>18</th>\n",
       "      <td>Eli Rabinowitz</td>\n",
       "      <td>182761.228471</td>\n",
       "      <td>-0.086194</td>\n",
       "      <td>45.0</td>\n",
       "    </tr>\n",
       "    <tr>\n",
       "      <th>2</th>\n",
       "      <td>Alisa Cianfarini</td>\n",
       "      <td>182357.798633</td>\n",
       "      <td>-0.088211</td>\n",
       "      <td>46.0</td>\n",
       "    </tr>\n",
       "    <tr>\n",
       "      <th>37</th>\n",
       "      <td>Mark Jewell</td>\n",
       "      <td>182180.954247</td>\n",
       "      <td>-0.089095</td>\n",
       "      <td>47.0</td>\n",
       "    </tr>\n",
       "    <tr>\n",
       "      <th>11</th>\n",
       "      <td>Caitlyn Fronckowiak</td>\n",
       "      <td>181481.347522</td>\n",
       "      <td>-0.092593</td>\n",
       "      <td>48.0</td>\n",
       "    </tr>\n",
       "    <tr>\n",
       "      <th>17</th>\n",
       "      <td>Dominick Baker</td>\n",
       "      <td>179191.581847</td>\n",
       "      <td>-0.104042</td>\n",
       "      <td>49.0</td>\n",
       "    </tr>\n",
       "    <tr>\n",
       "      <th>51</th>\n",
       "      <td>Sue Dymond</td>\n",
       "      <td>178382.476884</td>\n",
       "      <td>-0.108088</td>\n",
       "      <td>50.0</td>\n",
       "    </tr>\n",
       "  </tbody>\n",
       "</table>\n",
       "</div>"
      ],
      "text/plain": [
       "                   Name  Current_Value  Perc_Return  Rank\n",
       "12         Colton Young  218311.322514     0.091557   1.0\n",
       "25      Joelean Mcbride  210732.212648     0.053661   2.0\n",
       "26       Joseph Lindner  204633.016109     0.023165   3.0\n",
       "46        Robert Kovacs  204119.000226     0.020595   4.0\n",
       "28      Kelly Nicholson  203007.946389     0.015040   5.0\n",
       "5      Anil Mulchandani  199703.494276    -0.001483   6.0\n",
       "21    Gregory Hanselman  199099.906967    -0.004500   7.0\n",
       "9     Bradley Bonfante   198481.134375    -0.007594   8.0\n",
       "36      Marie Barkamian  198102.593247    -0.009487   9.0\n",
       "20       Estelle Genest  198089.425713    -0.009553  10.0\n",
       "40         Nori Lansing  196797.927840    -0.016010  11.0\n",
       "19         Elise Shaver  196716.656087    -0.016417  12.0\n",
       "6    Antigona Beshello   196204.689407    -0.018977  13.0\n",
       "22    Jacqueline Lorenz  196187.959627    -0.019060  14.0\n",
       "43       Philip Cortese  195932.403164    -0.020338  15.0\n",
       "29      Kimberly Matzen  195634.180918    -0.021829  16.0\n",
       "48        Schuyler Bull  195127.699567    -0.024362  17.0\n",
       "49       Sharon Strock   194543.531566    -0.027282  18.0\n",
       "50     Sherlock Bacchus  194274.709106    -0.028626  19.0\n",
       "44       Randy Benedict  194231.166054    -0.028844  20.0\n",
       "7           Barb Derian  193994.850544    -0.030026  21.0\n",
       "0      Adrienne Villano  193814.097162    -0.030930  22.0\n",
       "16       Deanna Coleman  193635.151310    -0.031824  23.0\n",
       "30          Krista Nash  193317.327943    -0.033413  24.0\n",
       "42          Peter Odell  192986.989868    -0.035065  25.0\n",
       "53         Trudy Seeber  192853.902519    -0.035730  26.0\n",
       "27         Karen Koster  192803.901742    -0.035980  27.0\n",
       "14        Danish Sharpe  192171.361897    -0.039143  28.0\n",
       "33            Kwun Chan  191821.993766    -0.040890  29.0\n",
       "38      Melissa Stamper  191785.021126    -0.041075  30.0\n",
       "31       Kristen Kiefer  191592.272391    -0.042039  31.0\n",
       "1      Alexandra Sautin  190446.108220    -0.047769  32.0\n",
       "34      Luke Scarchilli  190239.328352    -0.048803  33.0\n",
       "23     Jennah Hebert V1  190189.307572    -0.049053  34.0\n",
       "10          Brian Kreis  190018.189824    -0.049909  35.0\n",
       "13      Dan Cancelliere  188817.375131    -0.055913  36.0\n",
       "52       Teresa Purcell  188708.164375    -0.056459  37.0\n",
       "45         Rekha Singh   188609.944838    -0.056950  38.0\n",
       "24     Jennah Hebert V2  187433.542576    -0.062832  39.0\n",
       "39         Nick Capullo  187202.476325    -0.063988  40.0\n",
       "4      Angela Macmurray  184559.364230    -0.077203  41.0\n",
       "32  Kristyn Constantino  183953.773227    -0.080231  42.0\n",
       "3    Angela Cannistraci  183870.347829    -0.080648  43.0\n",
       "15           David Hunn  183233.763039    -0.083831  44.0\n",
       "18       Eli Rabinowitz  182761.228471    -0.086194  45.0\n",
       "2      Alisa Cianfarini  182357.798633    -0.088211  46.0\n",
       "37          Mark Jewell  182180.954247    -0.089095  47.0\n",
       "11  Caitlyn Fronckowiak  181481.347522    -0.092593  48.0\n",
       "17       Dominick Baker  179191.581847    -0.104042  49.0\n",
       "51           Sue Dymond  178382.476884    -0.108088  50.0"
      ]
     },
     "execution_count": 107,
     "metadata": {},
     "output_type": "execute_result"
    }
   ],
   "source": [
    "ranking['Perc_Return'] = ranking['Current_Value']/200000 -1\n",
    "ranking['Rank'] = ranking['Perc_Return'].rank(ascending=False)\n",
    "ranking.head(50)"
   ]
  },
  {
   "cell_type": "code",
   "execution_count": 108,
   "metadata": {
    "collapsed": true
   },
   "outputs": [],
   "source": [
    "ranking.to_csv(\"individual rankings.csv\")"
   ]
  },
  {
   "cell_type": "markdown",
   "metadata": {},
   "source": [
    "### Best Individual Stock Returns"
   ]
  },
  {
   "cell_type": "code",
   "execution_count": 109,
   "metadata": {
    "collapsed": true
   },
   "outputs": [],
   "source": [
    "best_stocks = detail.drop_duplicates(['Symbol']).reset_index().sort_values(['Perc_Return'], ascending=False)"
   ]
  },
  {
   "cell_type": "code",
   "execution_count": 110,
   "metadata": {},
   "outputs": [
    {
     "data": {
      "text/html": [
       "<div>\n",
       "<style scoped>\n",
       "    .dataframe tbody tr th:only-of-type {\n",
       "        vertical-align: middle;\n",
       "    }\n",
       "\n",
       "    .dataframe tbody tr th {\n",
       "        vertical-align: top;\n",
       "    }\n",
       "\n",
       "    .dataframe thead th {\n",
       "        text-align: right;\n",
       "    }\n",
       "</style>\n",
       "<table border=\"1\" class=\"dataframe\">\n",
       "  <thead>\n",
       "    <tr style=\"text-align: right;\">\n",
       "      <th></th>\n",
       "      <th>Symbol</th>\n",
       "      <th>Perc_Return</th>\n",
       "    </tr>\n",
       "  </thead>\n",
       "  <tbody>\n",
       "    <tr>\n",
       "      <th>63</th>\n",
       "      <td>PIR</td>\n",
       "      <td>0.514610</td>\n",
       "    </tr>\n",
       "    <tr>\n",
       "      <th>111</th>\n",
       "      <td>HOME</td>\n",
       "      <td>0.277624</td>\n",
       "    </tr>\n",
       "    <tr>\n",
       "      <th>167</th>\n",
       "      <td>DRIP</td>\n",
       "      <td>0.172521</td>\n",
       "    </tr>\n",
       "    <tr>\n",
       "      <th>96</th>\n",
       "      <td>VHC</td>\n",
       "      <td>0.170094</td>\n",
       "    </tr>\n",
       "    <tr>\n",
       "      <th>153</th>\n",
       "      <td>RVNC</td>\n",
       "      <td>0.142594</td>\n",
       "    </tr>\n",
       "    <tr>\n",
       "      <th>113</th>\n",
       "      <td>RH</td>\n",
       "      <td>0.137050</td>\n",
       "    </tr>\n",
       "    <tr>\n",
       "      <th>171</th>\n",
       "      <td>WORK</td>\n",
       "      <td>0.130100</td>\n",
       "    </tr>\n",
       "    <tr>\n",
       "      <th>4</th>\n",
       "      <td>DOCU</td>\n",
       "      <td>0.105562</td>\n",
       "    </tr>\n",
       "    <tr>\n",
       "      <th>28</th>\n",
       "      <td>BEP</td>\n",
       "      <td>0.104757</td>\n",
       "    </tr>\n",
       "    <tr>\n",
       "      <th>183</th>\n",
       "      <td>GLUU</td>\n",
       "      <td>0.087755</td>\n",
       "    </tr>\n",
       "  </tbody>\n",
       "</table>\n",
       "</div>"
      ],
      "text/plain": [
       "    Symbol  Perc_Return\n",
       "63     PIR     0.514610\n",
       "111   HOME     0.277624\n",
       "167   DRIP     0.172521\n",
       "96     VHC     0.170094\n",
       "153   RVNC     0.142594\n",
       "113     RH     0.137050\n",
       "171   WORK     0.130100\n",
       "4     DOCU     0.105562\n",
       "28     BEP     0.104757\n",
       "183   GLUU     0.087755"
      ]
     },
     "execution_count": 110,
     "metadata": {},
     "output_type": "execute_result"
    }
   ],
   "source": [
    "best_stocks = best_stocks.loc[:, ['Symbol', 'Perc_Return']]\n",
    "best_stocks.head(10)"
   ]
  },
  {
   "cell_type": "code",
   "execution_count": 111,
   "metadata": {
    "collapsed": true
   },
   "outputs": [],
   "source": [
    "best_stocks.to_csv(\"stock ranking.csv\")"
   ]
  },
  {
   "cell_type": "markdown",
   "metadata": {},
   "source": [
    "# Trend"
   ]
  },
  {
   "cell_type": "code",
   "execution_count": null,
   "metadata": {
    "collapsed": true
   },
   "outputs": [],
   "source": [
    "#Pull Only necessary columns\n",
    "combined = combined.loc[:, ['Name', 'Symbol', '# of Shares']]"
   ]
  },
  {
   "cell_type": "code",
   "execution_count": null,
   "metadata": {
    "collapsed": true
   },
   "outputs": [],
   "source": [
    "Price_History = stockData(stocks['Ticker'], '2019-08-01', '2019-09-06')"
   ]
  },
  {
   "cell_type": "code",
   "execution_count": null,
   "metadata": {
    "collapsed": true
   },
   "outputs": [],
   "source": [
    "historical = pd.merge(combined, Price_History, how = 'outer', on = \"Symbol\", validate=\"many_to_many\")\n"
   ]
  },
  {
   "cell_type": "code",
   "execution_count": null,
   "metadata": {
    "collapsed": true
   },
   "outputs": [],
   "source": [
    "historical['Value'] = historical['# of Shares'] * historical['Close']\n",
    "historical.head()"
   ]
  },
  {
   "cell_type": "code",
   "execution_count": null,
   "metadata": {
    "collapsed": true
   },
   "outputs": [],
   "source": [
    "trend_data = historical.groupby(['Name', 'Day'])['Value'].sum().reset_index().sort_values(['Name', 'Day'])"
   ]
  },
  {
   "cell_type": "code",
   "execution_count": null,
   "metadata": {
    "collapsed": true
   },
   "outputs": [],
   "source": [
    "trend_data.head()"
   ]
  },
  {
   "cell_type": "code",
   "execution_count": 1,
   "metadata": {
    "collapsed": true
   },
   "outputs": [],
   "source": [
    "import chart_studio.plotly as py\n",
    "import plotly.graph_objs as go\n",
    "from plotly.offline import iplot, init_notebook_mode"
   ]
  }
 ],
 "metadata": {
  "kernelspec": {
   "display_name": "Python 3",
   "language": "python",
   "name": "python3"
  },
  "language_info": {
   "codemirror_mode": {
    "name": "ipython",
    "version": 3
   },
   "file_extension": ".py",
   "mimetype": "text/x-python",
   "name": "python",
   "nbconvert_exporter": "python",
   "pygments_lexer": "ipython3",
   "version": "3.6.2"
  }
 },
 "nbformat": 4,
 "nbformat_minor": 2
}
