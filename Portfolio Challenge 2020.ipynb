{
 "cells": [
  {
   "cell_type": "code",
   "execution_count": 47,
   "metadata": {
    "scrolled": true
   },
   "outputs": [],
   "source": [
    "import os\n",
    "import pandas as pd\n",
    "import numpy as np\n",
    "import pandas_datareader\n",
    "from pandas_datareader import data as pdr\n",
    "from datetime import datetime, timedelta\n",
    "import yfinance as yf\n",
    "\n",
    "def stockData(sList, stDate, endDate):\n",
    "    \"\"\"Take list of stocks and pull data for that stock and create technical indicator variables\n",
    "    sList requires list of stocks, dates should be entered in format 'YYYY-MM-DD' \"\"\"\n",
    "   \n",
    "    data = []\n",
    "    for element in sList:\n",
    "        try:\n",
    "            temp = pdr.get_data_yahoo(element, start = stDate, end = endDate)\n",
    "            #add an indentifier\n",
    "            temp['Symbol'] = element\n",
    "            temp['Close'] = temp['Close']\n",
    "        except: \n",
    "            #If stock symbol cannot be found make it $1\n",
    "            print (element)\n",
    "        else:\n",
    "        #add data to list \n",
    "            data.append(temp)\n",
    "        #convert to dataframe    \n",
    "        df = pd.concat(data)\n",
    "        #drop rows for which we will not have all data points calculated\n",
    "        df = df.dropna()\n",
    "        #dates above what user entered\n",
    "        df = df.loc[stDate : endDate]\n",
    "        #order and limit columns to those needed\n",
    "        df = df.loc[:, ['Symbol', 'Close']]\n",
    "        df['Day'] = pd.to_datetime(df.index)\n",
    "\n",
    "    \n",
    "    return(df)\n",
    "\n"
   ]
  },
  {
   "cell_type": "code",
   "execution_count": 12,
   "metadata": {
    "collapsed": true
   },
   "outputs": [],
   "source": [
    "#set working directory \n",
    "os.chdir(\"/Users/bkrei/Desktop/Programming/Portfolio-Challenge2\")"
   ]
  },
  {
   "cell_type": "code",
   "execution_count": 48,
   "metadata": {
    "collapsed": true
   },
   "outputs": [],
   "source": [
    "#Read in individual portfolios\n",
    "portfolios = pd.read_csv(\"https://raw.githubusercontent.com/bkreis84/Portfolio-Challenge2/master/Portfolios.csv\")"
   ]
  },
  {
   "cell_type": "code",
   "execution_count": 49,
   "metadata": {
    "scrolled": true
   },
   "outputs": [
    {
     "data": {
      "text/plain": [
       "0      BRK-B\n",
       "1         BX\n",
       "2        RXL\n",
       "3        ROM\n",
       "4       AMZN\n",
       "5       REGN\n",
       "6        NEW\n",
       "7        WMT\n",
       "8       AAPL\n",
       "9       GRUB\n",
       "10      VXRT\n",
       "11      DELL\n",
       "12        BA\n",
       "13       LOW\n",
       "14      UBER\n",
       "15       HDS\n",
       "16      MSFT\n",
       "17      EXEL\n",
       "18     BGSAX\n",
       "19     TWCIX\n",
       "20     TRBCX\n",
       "24     GOOGL\n",
       "25      ATVI\n",
       "26     BKRRF\n",
       "27      CHTR\n",
       "28      ADBE\n",
       "29      BLFE\n",
       "30      QCOM\n",
       "31      PENN\n",
       "32       POR\n",
       "       ...  \n",
       "236     VIRT\n",
       "237      SNY\n",
       "238      NVS\n",
       "241      RDN\n",
       "242       SQ\n",
       "243     PYPL\n",
       "244      SNE\n",
       "246      LUV\n",
       "248     NCLH\n",
       "253     INTC\n",
       "255       MA\n",
       "256     QDEL\n",
       "257      BIG\n",
       "258      APT\n",
       "259      LPX\n",
       "260       DQ\n",
       "266     SHOP\n",
       "268     REGI\n",
       "273       GM\n",
       "274     ORLY\n",
       "275      EWH\n",
       "278     ORCL\n",
       "279      PKI\n",
       "280     EPAM\n",
       "281      CWH\n",
       "284     GMBL\n",
       "285      NEE\n",
       "287     SBUX\n",
       "288     DLTR\n",
       "289     PAAS\n",
       "Name: Symbol, Length: 185, dtype: object"
      ]
     },
     "execution_count": 49,
     "metadata": {},
     "output_type": "execute_result"
    }
   ],
   "source": [
    "#List of all ticker symbols\n",
    "symbols = portfolios['Symbol'].drop_duplicates()\n",
    "symbols.head(300)"
   ]
  },
  {
   "cell_type": "code",
   "execution_count": 50,
   "metadata": {
    "collapsed": true
   },
   "outputs": [],
   "source": [
    "symbols.to_csv(\"symbols.csv\", header = False)\n",
    "#symbols = pd.read_csv(\"https://raw.githubusercontent.com/bkreis84/Portfolio-Challenge2/master/symbols.csv\", header=None)\n"
   ]
  },
  {
   "cell_type": "code",
   "execution_count": 51,
   "metadata": {},
   "outputs": [
    {
     "name": "stdout",
     "output_type": "stream",
     "text": [
      "BLFE\n"
     ]
    },
    {
     "data": {
      "text/plain": [
       "(184, 3)"
      ]
     },
     "execution_count": 51,
     "metadata": {},
     "output_type": "execute_result"
    }
   ],
   "source": [
    "#Pass the ticker list to the function, print invalid stock symbols and create dataframe with intial prices\n",
    "beg_prices = stockData(symbols, '2020-09-18', '2020-09-18')\n",
    "beg_prices.shape"
   ]
  },
  {
   "cell_type": "code",
   "execution_count": 53,
   "metadata": {},
   "outputs": [
    {
     "data": {
      "text/html": [
       "<div>\n",
       "<style scoped>\n",
       "    .dataframe tbody tr th:only-of-type {\n",
       "        vertical-align: middle;\n",
       "    }\n",
       "\n",
       "    .dataframe tbody tr th {\n",
       "        vertical-align: top;\n",
       "    }\n",
       "\n",
       "    .dataframe thead th {\n",
       "        text-align: right;\n",
       "    }\n",
       "</style>\n",
       "<table border=\"1\" class=\"dataframe\">\n",
       "  <thead>\n",
       "    <tr style=\"text-align: right;\">\n",
       "      <th></th>\n",
       "      <th>Symbol</th>\n",
       "      <th>Close</th>\n",
       "      <th>Day</th>\n",
       "    </tr>\n",
       "    <tr>\n",
       "      <th>Date</th>\n",
       "      <th></th>\n",
       "      <th></th>\n",
       "      <th></th>\n",
       "    </tr>\n",
       "  </thead>\n",
       "  <tbody>\n",
       "    <tr>\n",
       "      <th>2020-09-18</th>\n",
       "      <td>BRK-B</td>\n",
       "      <td>218.210007</td>\n",
       "      <td>2020-09-18</td>\n",
       "    </tr>\n",
       "    <tr>\n",
       "      <th>2020-09-18</th>\n",
       "      <td>BX</td>\n",
       "      <td>52.700001</td>\n",
       "      <td>2020-09-18</td>\n",
       "    </tr>\n",
       "    <tr>\n",
       "      <th>2020-09-18</th>\n",
       "      <td>RXL</td>\n",
       "      <td>129.130005</td>\n",
       "      <td>2020-09-18</td>\n",
       "    </tr>\n",
       "    <tr>\n",
       "      <th>2020-09-18</th>\n",
       "      <td>ROM</td>\n",
       "      <td>51.900002</td>\n",
       "      <td>2020-09-18</td>\n",
       "    </tr>\n",
       "    <tr>\n",
       "      <th>2020-09-18</th>\n",
       "      <td>AMZN</td>\n",
       "      <td>2954.909912</td>\n",
       "      <td>2020-09-18</td>\n",
       "    </tr>\n",
       "    <tr>\n",
       "      <th>2020-09-18</th>\n",
       "      <td>REGN</td>\n",
       "      <td>555.239990</td>\n",
       "      <td>2020-09-18</td>\n",
       "    </tr>\n",
       "    <tr>\n",
       "      <th>2020-09-18</th>\n",
       "      <td>NEW</td>\n",
       "      <td>9.500000</td>\n",
       "      <td>2020-09-18</td>\n",
       "    </tr>\n",
       "    <tr>\n",
       "      <th>2020-09-18</th>\n",
       "      <td>WMT</td>\n",
       "      <td>135.289993</td>\n",
       "      <td>2020-09-18</td>\n",
       "    </tr>\n",
       "    <tr>\n",
       "      <th>2020-09-18</th>\n",
       "      <td>AAPL</td>\n",
       "      <td>106.839996</td>\n",
       "      <td>2020-09-18</td>\n",
       "    </tr>\n",
       "    <tr>\n",
       "      <th>2020-09-18</th>\n",
       "      <td>GRUB</td>\n",
       "      <td>69.250000</td>\n",
       "      <td>2020-09-18</td>\n",
       "    </tr>\n",
       "    <tr>\n",
       "      <th>2020-09-18</th>\n",
       "      <td>VXRT</td>\n",
       "      <td>8.220000</td>\n",
       "      <td>2020-09-18</td>\n",
       "    </tr>\n",
       "    <tr>\n",
       "      <th>2020-09-18</th>\n",
       "      <td>DELL</td>\n",
       "      <td>66.370003</td>\n",
       "      <td>2020-09-18</td>\n",
       "    </tr>\n",
       "    <tr>\n",
       "      <th>2020-09-18</th>\n",
       "      <td>BA</td>\n",
       "      <td>161.139999</td>\n",
       "      <td>2020-09-18</td>\n",
       "    </tr>\n",
       "    <tr>\n",
       "      <th>2020-09-18</th>\n",
       "      <td>LOW</td>\n",
       "      <td>160.100006</td>\n",
       "      <td>2020-09-18</td>\n",
       "    </tr>\n",
       "    <tr>\n",
       "      <th>2020-09-18</th>\n",
       "      <td>UBER</td>\n",
       "      <td>37.119999</td>\n",
       "      <td>2020-09-18</td>\n",
       "    </tr>\n",
       "    <tr>\n",
       "      <th>2020-09-18</th>\n",
       "      <td>HDS</td>\n",
       "      <td>40.200001</td>\n",
       "      <td>2020-09-18</td>\n",
       "    </tr>\n",
       "    <tr>\n",
       "      <th>2020-09-18</th>\n",
       "      <td>MSFT</td>\n",
       "      <td>200.389999</td>\n",
       "      <td>2020-09-18</td>\n",
       "    </tr>\n",
       "    <tr>\n",
       "      <th>2020-09-18</th>\n",
       "      <td>EXEL</td>\n",
       "      <td>26.799999</td>\n",
       "      <td>2020-09-18</td>\n",
       "    </tr>\n",
       "    <tr>\n",
       "      <th>2020-09-18</th>\n",
       "      <td>BGSAX</td>\n",
       "      <td>48.990002</td>\n",
       "      <td>2020-09-18</td>\n",
       "    </tr>\n",
       "    <tr>\n",
       "      <th>2020-09-18</th>\n",
       "      <td>TWCIX</td>\n",
       "      <td>93.339996</td>\n",
       "      <td>2020-09-18</td>\n",
       "    </tr>\n",
       "    <tr>\n",
       "      <th>2020-09-18</th>\n",
       "      <td>TRBCX</td>\n",
       "      <td>148.669998</td>\n",
       "      <td>2020-09-18</td>\n",
       "    </tr>\n",
       "    <tr>\n",
       "      <th>2020-09-18</th>\n",
       "      <td>GOOGL</td>\n",
       "      <td>1451.089966</td>\n",
       "      <td>2020-09-18</td>\n",
       "    </tr>\n",
       "    <tr>\n",
       "      <th>2020-09-18</th>\n",
       "      <td>ATVI</td>\n",
       "      <td>80.089996</td>\n",
       "      <td>2020-09-18</td>\n",
       "    </tr>\n",
       "    <tr>\n",
       "      <th>2020-09-18</th>\n",
       "      <td>BKRRF</td>\n",
       "      <td>0.760000</td>\n",
       "      <td>2020-09-18</td>\n",
       "    </tr>\n",
       "    <tr>\n",
       "      <th>2020-09-18</th>\n",
       "      <td>CHTR</td>\n",
       "      <td>625.250000</td>\n",
       "      <td>2020-09-18</td>\n",
       "    </tr>\n",
       "    <tr>\n",
       "      <th>2020-09-18</th>\n",
       "      <td>ADBE</td>\n",
       "      <td>467.549988</td>\n",
       "      <td>2020-09-18</td>\n",
       "    </tr>\n",
       "    <tr>\n",
       "      <th>2020-09-18</th>\n",
       "      <td>QCOM</td>\n",
       "      <td>110.690002</td>\n",
       "      <td>2020-09-18</td>\n",
       "    </tr>\n",
       "    <tr>\n",
       "      <th>2020-09-18</th>\n",
       "      <td>PENN</td>\n",
       "      <td>70.599998</td>\n",
       "      <td>2020-09-18</td>\n",
       "    </tr>\n",
       "    <tr>\n",
       "      <th>2020-09-18</th>\n",
       "      <td>POR</td>\n",
       "      <td>34.990002</td>\n",
       "      <td>2020-09-18</td>\n",
       "    </tr>\n",
       "    <tr>\n",
       "      <th>2020-09-18</th>\n",
       "      <td>OSTK</td>\n",
       "      <td>75.040001</td>\n",
       "      <td>2020-09-18</td>\n",
       "    </tr>\n",
       "    <tr>\n",
       "      <th>...</th>\n",
       "      <td>...</td>\n",
       "      <td>...</td>\n",
       "      <td>...</td>\n",
       "    </tr>\n",
       "    <tr>\n",
       "      <th>2020-09-18</th>\n",
       "      <td>VIRT</td>\n",
       "      <td>26.940001</td>\n",
       "      <td>2020-09-18</td>\n",
       "    </tr>\n",
       "    <tr>\n",
       "      <th>2020-09-18</th>\n",
       "      <td>SNY</td>\n",
       "      <td>52.439999</td>\n",
       "      <td>2020-09-18</td>\n",
       "    </tr>\n",
       "    <tr>\n",
       "      <th>2020-09-18</th>\n",
       "      <td>NVS</td>\n",
       "      <td>90.940002</td>\n",
       "      <td>2020-09-18</td>\n",
       "    </tr>\n",
       "    <tr>\n",
       "      <th>2020-09-18</th>\n",
       "      <td>RDN</td>\n",
       "      <td>15.180000</td>\n",
       "      <td>2020-09-18</td>\n",
       "    </tr>\n",
       "    <tr>\n",
       "      <th>2020-09-18</th>\n",
       "      <td>SQ</td>\n",
       "      <td>145.009995</td>\n",
       "      <td>2020-09-18</td>\n",
       "    </tr>\n",
       "    <tr>\n",
       "      <th>2020-09-18</th>\n",
       "      <td>PYPL</td>\n",
       "      <td>176.070007</td>\n",
       "      <td>2020-09-18</td>\n",
       "    </tr>\n",
       "    <tr>\n",
       "      <th>2020-09-18</th>\n",
       "      <td>SNE</td>\n",
       "      <td>78.959999</td>\n",
       "      <td>2020-09-18</td>\n",
       "    </tr>\n",
       "    <tr>\n",
       "      <th>2020-09-18</th>\n",
       "      <td>LUV</td>\n",
       "      <td>39.830002</td>\n",
       "      <td>2020-09-18</td>\n",
       "    </tr>\n",
       "    <tr>\n",
       "      <th>2020-09-18</th>\n",
       "      <td>NCLH</td>\n",
       "      <td>16.250000</td>\n",
       "      <td>2020-09-18</td>\n",
       "    </tr>\n",
       "    <tr>\n",
       "      <th>2020-09-18</th>\n",
       "      <td>INTC</td>\n",
       "      <td>49.889999</td>\n",
       "      <td>2020-09-18</td>\n",
       "    </tr>\n",
       "    <tr>\n",
       "      <th>2020-09-18</th>\n",
       "      <td>MA</td>\n",
       "      <td>335.260010</td>\n",
       "      <td>2020-09-18</td>\n",
       "    </tr>\n",
       "    <tr>\n",
       "      <th>2020-09-18</th>\n",
       "      <td>QDEL</td>\n",
       "      <td>189.309998</td>\n",
       "      <td>2020-09-18</td>\n",
       "    </tr>\n",
       "    <tr>\n",
       "      <th>2020-09-18</th>\n",
       "      <td>BIG</td>\n",
       "      <td>44.770000</td>\n",
       "      <td>2020-09-18</td>\n",
       "    </tr>\n",
       "    <tr>\n",
       "      <th>2020-09-18</th>\n",
       "      <td>APT</td>\n",
       "      <td>14.170000</td>\n",
       "      <td>2020-09-18</td>\n",
       "    </tr>\n",
       "    <tr>\n",
       "      <th>2020-09-18</th>\n",
       "      <td>LPX</td>\n",
       "      <td>31.129999</td>\n",
       "      <td>2020-09-18</td>\n",
       "    </tr>\n",
       "    <tr>\n",
       "      <th>2020-09-18</th>\n",
       "      <td>DQ</td>\n",
       "      <td>111.410004</td>\n",
       "      <td>2020-09-18</td>\n",
       "    </tr>\n",
       "    <tr>\n",
       "      <th>2020-09-18</th>\n",
       "      <td>SHOP</td>\n",
       "      <td>901.340027</td>\n",
       "      <td>2020-09-18</td>\n",
       "    </tr>\n",
       "    <tr>\n",
       "      <th>2020-09-18</th>\n",
       "      <td>REGI</td>\n",
       "      <td>48.799999</td>\n",
       "      <td>2020-09-18</td>\n",
       "    </tr>\n",
       "    <tr>\n",
       "      <th>2020-09-18</th>\n",
       "      <td>GM</td>\n",
       "      <td>31.500000</td>\n",
       "      <td>2020-09-18</td>\n",
       "    </tr>\n",
       "    <tr>\n",
       "      <th>2020-09-18</th>\n",
       "      <td>ORLY</td>\n",
       "      <td>463.899994</td>\n",
       "      <td>2020-09-18</td>\n",
       "    </tr>\n",
       "    <tr>\n",
       "      <th>2020-09-18</th>\n",
       "      <td>EWH</td>\n",
       "      <td>22.559999</td>\n",
       "      <td>2020-09-18</td>\n",
       "    </tr>\n",
       "    <tr>\n",
       "      <th>2020-09-18</th>\n",
       "      <td>ORCL</td>\n",
       "      <td>59.750000</td>\n",
       "      <td>2020-09-18</td>\n",
       "    </tr>\n",
       "    <tr>\n",
       "      <th>2020-09-18</th>\n",
       "      <td>PKI</td>\n",
       "      <td>118.199997</td>\n",
       "      <td>2020-09-18</td>\n",
       "    </tr>\n",
       "    <tr>\n",
       "      <th>2020-09-18</th>\n",
       "      <td>EPAM</td>\n",
       "      <td>316.190002</td>\n",
       "      <td>2020-09-18</td>\n",
       "    </tr>\n",
       "    <tr>\n",
       "      <th>2020-09-18</th>\n",
       "      <td>CWH</td>\n",
       "      <td>30.059999</td>\n",
       "      <td>2020-09-18</td>\n",
       "    </tr>\n",
       "    <tr>\n",
       "      <th>2020-09-18</th>\n",
       "      <td>GMBL</td>\n",
       "      <td>4.180000</td>\n",
       "      <td>2020-09-18</td>\n",
       "    </tr>\n",
       "    <tr>\n",
       "      <th>2020-09-18</th>\n",
       "      <td>NEE</td>\n",
       "      <td>276.920013</td>\n",
       "      <td>2020-09-18</td>\n",
       "    </tr>\n",
       "    <tr>\n",
       "      <th>2020-09-18</th>\n",
       "      <td>SBUX</td>\n",
       "      <td>84.949997</td>\n",
       "      <td>2020-09-18</td>\n",
       "    </tr>\n",
       "    <tr>\n",
       "      <th>2020-09-18</th>\n",
       "      <td>DLTR</td>\n",
       "      <td>88.019997</td>\n",
       "      <td>2020-09-18</td>\n",
       "    </tr>\n",
       "    <tr>\n",
       "      <th>2020-09-18</th>\n",
       "      <td>PAAS</td>\n",
       "      <td>34.630001</td>\n",
       "      <td>2020-09-18</td>\n",
       "    </tr>\n",
       "  </tbody>\n",
       "</table>\n",
       "<p>184 rows × 3 columns</p>\n",
       "</div>"
      ],
      "text/plain": [
       "           Symbol        Close        Day\n",
       "Date                                     \n",
       "2020-09-18  BRK-B   218.210007 2020-09-18\n",
       "2020-09-18     BX    52.700001 2020-09-18\n",
       "2020-09-18    RXL   129.130005 2020-09-18\n",
       "2020-09-18    ROM    51.900002 2020-09-18\n",
       "2020-09-18   AMZN  2954.909912 2020-09-18\n",
       "2020-09-18   REGN   555.239990 2020-09-18\n",
       "2020-09-18    NEW     9.500000 2020-09-18\n",
       "2020-09-18    WMT   135.289993 2020-09-18\n",
       "2020-09-18   AAPL   106.839996 2020-09-18\n",
       "2020-09-18   GRUB    69.250000 2020-09-18\n",
       "2020-09-18   VXRT     8.220000 2020-09-18\n",
       "2020-09-18   DELL    66.370003 2020-09-18\n",
       "2020-09-18     BA   161.139999 2020-09-18\n",
       "2020-09-18    LOW   160.100006 2020-09-18\n",
       "2020-09-18   UBER    37.119999 2020-09-18\n",
       "2020-09-18    HDS    40.200001 2020-09-18\n",
       "2020-09-18   MSFT   200.389999 2020-09-18\n",
       "2020-09-18   EXEL    26.799999 2020-09-18\n",
       "2020-09-18  BGSAX    48.990002 2020-09-18\n",
       "2020-09-18  TWCIX    93.339996 2020-09-18\n",
       "2020-09-18  TRBCX   148.669998 2020-09-18\n",
       "2020-09-18  GOOGL  1451.089966 2020-09-18\n",
       "2020-09-18   ATVI    80.089996 2020-09-18\n",
       "2020-09-18  BKRRF     0.760000 2020-09-18\n",
       "2020-09-18   CHTR   625.250000 2020-09-18\n",
       "2020-09-18   ADBE   467.549988 2020-09-18\n",
       "2020-09-18   QCOM   110.690002 2020-09-18\n",
       "2020-09-18   PENN    70.599998 2020-09-18\n",
       "2020-09-18    POR    34.990002 2020-09-18\n",
       "2020-09-18   OSTK    75.040001 2020-09-18\n",
       "...           ...          ...        ...\n",
       "2020-09-18   VIRT    26.940001 2020-09-18\n",
       "2020-09-18    SNY    52.439999 2020-09-18\n",
       "2020-09-18    NVS    90.940002 2020-09-18\n",
       "2020-09-18    RDN    15.180000 2020-09-18\n",
       "2020-09-18     SQ   145.009995 2020-09-18\n",
       "2020-09-18   PYPL   176.070007 2020-09-18\n",
       "2020-09-18    SNE    78.959999 2020-09-18\n",
       "2020-09-18    LUV    39.830002 2020-09-18\n",
       "2020-09-18   NCLH    16.250000 2020-09-18\n",
       "2020-09-18   INTC    49.889999 2020-09-18\n",
       "2020-09-18     MA   335.260010 2020-09-18\n",
       "2020-09-18   QDEL   189.309998 2020-09-18\n",
       "2020-09-18    BIG    44.770000 2020-09-18\n",
       "2020-09-18    APT    14.170000 2020-09-18\n",
       "2020-09-18    LPX    31.129999 2020-09-18\n",
       "2020-09-18     DQ   111.410004 2020-09-18\n",
       "2020-09-18   SHOP   901.340027 2020-09-18\n",
       "2020-09-18   REGI    48.799999 2020-09-18\n",
       "2020-09-18     GM    31.500000 2020-09-18\n",
       "2020-09-18   ORLY   463.899994 2020-09-18\n",
       "2020-09-18    EWH    22.559999 2020-09-18\n",
       "2020-09-18   ORCL    59.750000 2020-09-18\n",
       "2020-09-18    PKI   118.199997 2020-09-18\n",
       "2020-09-18   EPAM   316.190002 2020-09-18\n",
       "2020-09-18    CWH    30.059999 2020-09-18\n",
       "2020-09-18   GMBL     4.180000 2020-09-18\n",
       "2020-09-18    NEE   276.920013 2020-09-18\n",
       "2020-09-18   SBUX    84.949997 2020-09-18\n",
       "2020-09-18   DLTR    88.019997 2020-09-18\n",
       "2020-09-18   PAAS    34.630001 2020-09-18\n",
       "\n",
       "[184 rows x 3 columns]"
      ]
     },
     "execution_count": 53,
     "metadata": {},
     "output_type": "execute_result"
    }
   ],
   "source": [
    "beg_prices"
   ]
  },
  {
   "cell_type": "code",
   "execution_count": 54,
   "metadata": {},
   "outputs": [],
   "source": [
    "#errors\n",
    "#er = stockData(['DKMR'], '2020-09-14', '2020-09-14')\n",
    "er = pd.DataFrame([['BLFE',3.050000,'2020-09-18']], columns=['Symbol','Close', 'Day'])"
   ]
  },
  {
   "cell_type": "code",
   "execution_count": 55,
   "metadata": {
    "collapsed": true
   },
   "outputs": [],
   "source": [
    "#Combine the main and SNAP dataframes\n",
    "frames = [beg_prices, er]\n",
    "beg_prices = pd.concat(frames, sort=True).drop_duplicates(subset='Symbol')"
   ]
  },
  {
   "cell_type": "code",
   "execution_count": 56,
   "metadata": {},
   "outputs": [],
   "source": [
    "beg_prices.to_csv(\"beg_prices.csv\")"
   ]
  },
  {
   "cell_type": "code",
   "execution_count": 28,
   "metadata": {
    "collapsed": true,
    "scrolled": true
   },
   "outputs": [],
   "source": [
    "#beg_prices = pd.read_csv(\"https://raw.githubusercontent.com/bkreis84/Portfolio-Challenge2/master/beg_prices.csv\")\n",
    "combined = pd.merge(portfolios, beg_prices, how = 'left', on = \"Symbol\", validate=\"many_to_one\")"
   ]
  },
  {
   "cell_type": "code",
   "execution_count": 29,
   "metadata": {
    "scrolled": false
   },
   "outputs": [
    {
     "data": {
      "text/html": [
       "<div>\n",
       "<style scoped>\n",
       "    .dataframe tbody tr th:only-of-type {\n",
       "        vertical-align: middle;\n",
       "    }\n",
       "\n",
       "    .dataframe tbody tr th {\n",
       "        vertical-align: top;\n",
       "    }\n",
       "\n",
       "    .dataframe thead th {\n",
       "        text-align: right;\n",
       "    }\n",
       "</style>\n",
       "<table border=\"1\" class=\"dataframe\">\n",
       "  <thead>\n",
       "    <tr style=\"text-align: right;\">\n",
       "      <th></th>\n",
       "      <th>Name</th>\n",
       "      <th>Symbol</th>\n",
       "      <th>% of Portfolio</th>\n",
       "      <th>Cost Basis</th>\n",
       "      <th>Unnamed: 0</th>\n",
       "      <th>Close</th>\n",
       "      <th>Day</th>\n",
       "    </tr>\n",
       "  </thead>\n",
       "  <tbody>\n",
       "    <tr>\n",
       "      <th>0</th>\n",
       "      <td>Estelle Genest</td>\n",
       "      <td>BRK-B</td>\n",
       "      <td>0.03</td>\n",
       "      <td>6000</td>\n",
       "      <td>2020-09-18 00:00:00</td>\n",
       "      <td>218.210007</td>\n",
       "      <td>2020-09-18 00:00:00</td>\n",
       "    </tr>\n",
       "    <tr>\n",
       "      <th>1</th>\n",
       "      <td>Estelle Genest</td>\n",
       "      <td>BX</td>\n",
       "      <td>0.05</td>\n",
       "      <td>10000</td>\n",
       "      <td>2020-09-18 00:00:00</td>\n",
       "      <td>52.700001</td>\n",
       "      <td>2020-09-18 00:00:00</td>\n",
       "    </tr>\n",
       "    <tr>\n",
       "      <th>2</th>\n",
       "      <td>Estelle Genest</td>\n",
       "      <td>RXL</td>\n",
       "      <td>0.30</td>\n",
       "      <td>60000</td>\n",
       "      <td>2020-09-18 00:00:00</td>\n",
       "      <td>129.130005</td>\n",
       "      <td>2020-09-18 00:00:00</td>\n",
       "    </tr>\n",
       "    <tr>\n",
       "      <th>3</th>\n",
       "      <td>Estelle Genest</td>\n",
       "      <td>ROM</td>\n",
       "      <td>0.10</td>\n",
       "      <td>20000</td>\n",
       "      <td>2020-09-18 00:00:00</td>\n",
       "      <td>51.900002</td>\n",
       "      <td>2020-09-18 00:00:00</td>\n",
       "    </tr>\n",
       "    <tr>\n",
       "      <th>4</th>\n",
       "      <td>Estelle Genest</td>\n",
       "      <td>AMZN</td>\n",
       "      <td>0.10</td>\n",
       "      <td>20000</td>\n",
       "      <td>2020-09-18 00:00:00</td>\n",
       "      <td>2954.909912</td>\n",
       "      <td>2020-09-18 00:00:00</td>\n",
       "    </tr>\n",
       "  </tbody>\n",
       "</table>\n",
       "</div>"
      ],
      "text/plain": [
       "             Name Symbol  % of Portfolio  Cost Basis           Unnamed: 0  \\\n",
       "0  Estelle Genest  BRK-B            0.03        6000  2020-09-18 00:00:00   \n",
       "1  Estelle Genest     BX            0.05       10000  2020-09-18 00:00:00   \n",
       "2  Estelle Genest    RXL            0.30       60000  2020-09-18 00:00:00   \n",
       "3  Estelle Genest    ROM            0.10       20000  2020-09-18 00:00:00   \n",
       "4  Estelle Genest   AMZN            0.10       20000  2020-09-18 00:00:00   \n",
       "\n",
       "         Close                  Day  \n",
       "0   218.210007  2020-09-18 00:00:00  \n",
       "1    52.700001  2020-09-18 00:00:00  \n",
       "2   129.130005  2020-09-18 00:00:00  \n",
       "3    51.900002  2020-09-18 00:00:00  \n",
       "4  2954.909912  2020-09-18 00:00:00  "
      ]
     },
     "execution_count": 29,
     "metadata": {},
     "output_type": "execute_result"
    }
   ],
   "source": [
    "combined.head(5)"
   ]
  },
  {
   "cell_type": "code",
   "execution_count": 30,
   "metadata": {
    "collapsed": true
   },
   "outputs": [],
   "source": [
    "#Calc # of shares purchased\n",
    "combined[\"# of Shares\"] = combined[\"Cost Basis\"]/ combined[\"Close\"]\n",
    "#Convert names to proper case\n",
    "#combined['Name'] = list(map(lambda x: x.title(), combined['Name']))\n",
    "#combined.head()"
   ]
  },
  {
   "cell_type": "code",
   "execution_count": 31,
   "metadata": {
    "collapsed": true
   },
   "outputs": [],
   "source": [
    "combined.to_csv(\"initial portfolios.csv\")"
   ]
  },
  {
   "cell_type": "code",
   "execution_count": 32,
   "metadata": {
    "collapsed": true
   },
   "outputs": [],
   "source": [
    "initportfolios = pd.read_csv(\"https://raw.githubusercontent.com/bkreis84/Portfolio-Challenge2/master/initial%20portfolios.csv\")"
   ]
  },
  {
   "cell_type": "markdown",
   "metadata": {},
   "source": [
    "# Simple Comparison (Initial vs Current Value) START HERE TO UPDATE"
   ]
  },
  {
   "cell_type": "code",
   "execution_count": 33,
   "metadata": {},
   "outputs": [
    {
     "name": "stdout",
     "output_type": "stream",
     "text": [
      "BLFE\n"
     ]
    }
   ],
   "source": [
    "#Select date to compare to initial prices\n",
    "\n",
    "cur_prices = stockData(symbols, '2020-10-16', '2020-10-16')"
   ]
  },
  {
   "cell_type": "code",
   "execution_count": 36,
   "metadata": {
    "collapsed": true
   },
   "outputs": [],
   "source": [
    "#er2\n",
    "er2 = pd.DataFrame([['BLFE',2.500000,'2020-09-18']], columns=['Symbol','Close', 'Day'])\n"
   ]
  },
  {
   "cell_type": "code",
   "execution_count": 37,
   "metadata": {},
   "outputs": [
    {
     "data": {
      "text/html": [
       "<div>\n",
       "<style scoped>\n",
       "    .dataframe tbody tr th:only-of-type {\n",
       "        vertical-align: middle;\n",
       "    }\n",
       "\n",
       "    .dataframe tbody tr th {\n",
       "        vertical-align: top;\n",
       "    }\n",
       "\n",
       "    .dataframe thead th {\n",
       "        text-align: right;\n",
       "    }\n",
       "</style>\n",
       "<table border=\"1\" class=\"dataframe\">\n",
       "  <thead>\n",
       "    <tr style=\"text-align: right;\">\n",
       "      <th></th>\n",
       "      <th>Symbol</th>\n",
       "      <th>Close</th>\n",
       "      <th>Day</th>\n",
       "    </tr>\n",
       "  </thead>\n",
       "  <tbody>\n",
       "    <tr>\n",
       "      <th>0</th>\n",
       "      <td>BLFE</td>\n",
       "      <td>2.5</td>\n",
       "      <td>2020-09-18</td>\n",
       "    </tr>\n",
       "  </tbody>\n",
       "</table>\n",
       "</div>"
      ],
      "text/plain": [
       "  Symbol  Close         Day\n",
       "0   BLFE    2.5  2020-09-18"
      ]
     },
     "execution_count": 37,
     "metadata": {},
     "output_type": "execute_result"
    }
   ],
   "source": [
    "er2"
   ]
  },
  {
   "cell_type": "code",
   "execution_count": 38,
   "metadata": {
    "collapsed": true
   },
   "outputs": [],
   "source": [
    "#Combine the main and Er dataframes\n",
    "frames2 = [cur_prices, er2]\n",
    "cur_prices = pd.concat(frames2)"
   ]
  },
  {
   "cell_type": "code",
   "execution_count": 65,
   "metadata": {
    "collapsed": true
   },
   "outputs": [],
   "source": [
    "#cur_prices.sort_values(\"Symbol\", inplace = True)\n",
    "#cur_prices.drop_duplicates(subset = \"Symbol\", inplace = True)"
   ]
  },
  {
   "cell_type": "code",
   "execution_count": 41,
   "metadata": {
    "collapsed": true
   },
   "outputs": [],
   "source": [
    "cur_prices.to_csv(\"cur_prices.csv\")"
   ]
  },
  {
   "cell_type": "code",
   "execution_count": 42,
   "metadata": {
    "scrolled": true
   },
   "outputs": [
    {
     "data": {
      "text/html": [
       "<div>\n",
       "<style scoped>\n",
       "    .dataframe tbody tr th:only-of-type {\n",
       "        vertical-align: middle;\n",
       "    }\n",
       "\n",
       "    .dataframe tbody tr th {\n",
       "        vertical-align: top;\n",
       "    }\n",
       "\n",
       "    .dataframe thead th {\n",
       "        text-align: right;\n",
       "    }\n",
       "</style>\n",
       "<table border=\"1\" class=\"dataframe\">\n",
       "  <thead>\n",
       "    <tr style=\"text-align: right;\">\n",
       "      <th></th>\n",
       "      <th>Date</th>\n",
       "      <th>Symbol</th>\n",
       "      <th>Close</th>\n",
       "      <th>Day</th>\n",
       "    </tr>\n",
       "  </thead>\n",
       "  <tbody>\n",
       "    <tr>\n",
       "      <th>0</th>\n",
       "      <td>2020-10-14</td>\n",
       "      <td>BRK-B</td>\n",
       "      <td>210.910004</td>\n",
       "      <td>2020-10-14</td>\n",
       "    </tr>\n",
       "    <tr>\n",
       "      <th>1</th>\n",
       "      <td>2020-10-14</td>\n",
       "      <td>BX</td>\n",
       "      <td>55.099998</td>\n",
       "      <td>2020-10-14</td>\n",
       "    </tr>\n",
       "    <tr>\n",
       "      <th>2</th>\n",
       "      <td>2020-10-14</td>\n",
       "      <td>RXL</td>\n",
       "      <td>136.440002</td>\n",
       "      <td>2020-10-14</td>\n",
       "    </tr>\n",
       "    <tr>\n",
       "      <th>3</th>\n",
       "      <td>2020-10-14</td>\n",
       "      <td>ROM</td>\n",
       "      <td>63.439999</td>\n",
       "      <td>2020-10-14</td>\n",
       "    </tr>\n",
       "    <tr>\n",
       "      <th>4</th>\n",
       "      <td>2020-10-14</td>\n",
       "      <td>AMZN</td>\n",
       "      <td>3363.709961</td>\n",
       "      <td>2020-10-14</td>\n",
       "    </tr>\n",
       "  </tbody>\n",
       "</table>\n",
       "</div>"
      ],
      "text/plain": [
       "         Date Symbol        Close         Day\n",
       "0  2020-10-14  BRK-B   210.910004  2020-10-14\n",
       "1  2020-10-14     BX    55.099998  2020-10-14\n",
       "2  2020-10-14    RXL   136.440002  2020-10-14\n",
       "3  2020-10-14    ROM    63.439999  2020-10-14\n",
       "4  2020-10-14   AMZN  3363.709961  2020-10-14"
      ]
     },
     "execution_count": 42,
     "metadata": {},
     "output_type": "execute_result"
    }
   ],
   "source": [
    "cur_prices= pd.read_csv(\"https://raw.githubusercontent.com/bkreis84/Portfolio-Challenge2/master/cur_prices.csv\")\n",
    "cur_prices.head()\n"
   ]
  },
  {
   "cell_type": "code",
   "execution_count": 43,
   "metadata": {
    "collapsed": true
   },
   "outputs": [],
   "source": [
    "detail = pd.merge(initportfolios, cur_prices, how = 'left', on = \"Symbol\", validate=\"many_to_one\")"
   ]
  },
  {
   "cell_type": "code",
   "execution_count": 44,
   "metadata": {},
   "outputs": [
    {
     "data": {
      "text/html": [
       "<div>\n",
       "<style scoped>\n",
       "    .dataframe tbody tr th:only-of-type {\n",
       "        vertical-align: middle;\n",
       "    }\n",
       "\n",
       "    .dataframe tbody tr th {\n",
       "        vertical-align: top;\n",
       "    }\n",
       "\n",
       "    .dataframe thead th {\n",
       "        text-align: right;\n",
       "    }\n",
       "</style>\n",
       "<table border=\"1\" class=\"dataframe\">\n",
       "  <thead>\n",
       "    <tr style=\"text-align: right;\">\n",
       "      <th></th>\n",
       "      <th>Unnamed: 0</th>\n",
       "      <th>Name</th>\n",
       "      <th>Symbol</th>\n",
       "      <th>% of Portfolio</th>\n",
       "      <th>Cost Basis</th>\n",
       "      <th>Date_x</th>\n",
       "      <th>Close_x</th>\n",
       "      <th>Day_x</th>\n",
       "      <th># of Shares</th>\n",
       "      <th>Date_y</th>\n",
       "      <th>Close_y</th>\n",
       "      <th>Day_y</th>\n",
       "    </tr>\n",
       "  </thead>\n",
       "  <tbody>\n",
       "    <tr>\n",
       "      <th>0</th>\n",
       "      <td>0</td>\n",
       "      <td>Estelle Genest</td>\n",
       "      <td>BRK-B</td>\n",
       "      <td>0.03</td>\n",
       "      <td>6000</td>\n",
       "      <td>2020-09-18</td>\n",
       "      <td>218.210007</td>\n",
       "      <td>2020-09-18</td>\n",
       "      <td>27.496448</td>\n",
       "      <td>2020-10-14</td>\n",
       "      <td>210.910004</td>\n",
       "      <td>2020-10-14</td>\n",
       "    </tr>\n",
       "    <tr>\n",
       "      <th>1</th>\n",
       "      <td>1</td>\n",
       "      <td>Estelle Genest</td>\n",
       "      <td>BX</td>\n",
       "      <td>0.05</td>\n",
       "      <td>10000</td>\n",
       "      <td>2020-09-18</td>\n",
       "      <td>52.700001</td>\n",
       "      <td>2020-09-18</td>\n",
       "      <td>189.753318</td>\n",
       "      <td>2020-10-14</td>\n",
       "      <td>55.099998</td>\n",
       "      <td>2020-10-14</td>\n",
       "    </tr>\n",
       "    <tr>\n",
       "      <th>2</th>\n",
       "      <td>2</td>\n",
       "      <td>Estelle Genest</td>\n",
       "      <td>RXL</td>\n",
       "      <td>0.30</td>\n",
       "      <td>60000</td>\n",
       "      <td>2020-09-18</td>\n",
       "      <td>129.130005</td>\n",
       "      <td>2020-09-18</td>\n",
       "      <td>464.648012</td>\n",
       "      <td>2020-10-14</td>\n",
       "      <td>136.440002</td>\n",
       "      <td>2020-10-14</td>\n",
       "    </tr>\n",
       "    <tr>\n",
       "      <th>3</th>\n",
       "      <td>3</td>\n",
       "      <td>Estelle Genest</td>\n",
       "      <td>ROM</td>\n",
       "      <td>0.10</td>\n",
       "      <td>20000</td>\n",
       "      <td>2020-09-18</td>\n",
       "      <td>51.900002</td>\n",
       "      <td>2020-09-18</td>\n",
       "      <td>385.356443</td>\n",
       "      <td>2020-10-14</td>\n",
       "      <td>63.439999</td>\n",
       "      <td>2020-10-14</td>\n",
       "    </tr>\n",
       "    <tr>\n",
       "      <th>4</th>\n",
       "      <td>4</td>\n",
       "      <td>Estelle Genest</td>\n",
       "      <td>AMZN</td>\n",
       "      <td>0.10</td>\n",
       "      <td>20000</td>\n",
       "      <td>2020-09-18</td>\n",
       "      <td>2954.909912</td>\n",
       "      <td>2020-09-18</td>\n",
       "      <td>6.768396</td>\n",
       "      <td>2020-10-14</td>\n",
       "      <td>3363.709961</td>\n",
       "      <td>2020-10-14</td>\n",
       "    </tr>\n",
       "  </tbody>\n",
       "</table>\n",
       "</div>"
      ],
      "text/plain": [
       "   Unnamed: 0            Name Symbol  % of Portfolio  Cost Basis      Date_x  \\\n",
       "0           0  Estelle Genest  BRK-B            0.03        6000  2020-09-18   \n",
       "1           1  Estelle Genest     BX            0.05       10000  2020-09-18   \n",
       "2           2  Estelle Genest    RXL            0.30       60000  2020-09-18   \n",
       "3           3  Estelle Genest    ROM            0.10       20000  2020-09-18   \n",
       "4           4  Estelle Genest   AMZN            0.10       20000  2020-09-18   \n",
       "\n",
       "       Close_x       Day_x  # of Shares      Date_y      Close_y       Day_y  \n",
       "0   218.210007  2020-09-18    27.496448  2020-10-14   210.910004  2020-10-14  \n",
       "1    52.700001  2020-09-18   189.753318  2020-10-14    55.099998  2020-10-14  \n",
       "2   129.130005  2020-09-18   464.648012  2020-10-14   136.440002  2020-10-14  \n",
       "3    51.900002  2020-09-18   385.356443  2020-10-14    63.439999  2020-10-14  \n",
       "4  2954.909912  2020-09-18     6.768396  2020-10-14  3363.709961  2020-10-14  "
      ]
     },
     "execution_count": 44,
     "metadata": {},
     "output_type": "execute_result"
    }
   ],
   "source": [
    "detail.head()"
   ]
  },
  {
   "cell_type": "code",
   "execution_count": 45,
   "metadata": {},
   "outputs": [
    {
     "data": {
      "text/html": [
       "<div>\n",
       "<style scoped>\n",
       "    .dataframe tbody tr th:only-of-type {\n",
       "        vertical-align: middle;\n",
       "    }\n",
       "\n",
       "    .dataframe tbody tr th {\n",
       "        vertical-align: top;\n",
       "    }\n",
       "\n",
       "    .dataframe thead th {\n",
       "        text-align: right;\n",
       "    }\n",
       "</style>\n",
       "<table border=\"1\" class=\"dataframe\">\n",
       "  <thead>\n",
       "    <tr style=\"text-align: right;\">\n",
       "      <th></th>\n",
       "      <th>Unnamed: 0</th>\n",
       "      <th>Name</th>\n",
       "      <th>Symbol</th>\n",
       "      <th>% of Portfolio</th>\n",
       "      <th>Cost Basis</th>\n",
       "      <th>Date_x</th>\n",
       "      <th>Close_x</th>\n",
       "      <th>Day_x</th>\n",
       "      <th># of Shares</th>\n",
       "      <th>Date_y</th>\n",
       "      <th>Close_y</th>\n",
       "      <th>Day_y</th>\n",
       "      <th>Current_Value</th>\n",
       "      <th>Perc_Return</th>\n",
       "    </tr>\n",
       "  </thead>\n",
       "  <tbody>\n",
       "    <tr>\n",
       "      <th>0</th>\n",
       "      <td>0</td>\n",
       "      <td>Estelle Genest</td>\n",
       "      <td>BRK-B</td>\n",
       "      <td>0.03</td>\n",
       "      <td>6000</td>\n",
       "      <td>2020-09-18</td>\n",
       "      <td>218.210007</td>\n",
       "      <td>2020-09-18</td>\n",
       "      <td>27.496448</td>\n",
       "      <td>2020-10-14</td>\n",
       "      <td>210.910004</td>\n",
       "      <td>2020-10-14</td>\n",
       "      <td>5799.275849</td>\n",
       "      <td>-0.033454</td>\n",
       "    </tr>\n",
       "    <tr>\n",
       "      <th>1</th>\n",
       "      <td>1</td>\n",
       "      <td>Estelle Genest</td>\n",
       "      <td>BX</td>\n",
       "      <td>0.05</td>\n",
       "      <td>10000</td>\n",
       "      <td>2020-09-18</td>\n",
       "      <td>52.700001</td>\n",
       "      <td>2020-09-18</td>\n",
       "      <td>189.753318</td>\n",
       "      <td>2020-10-14</td>\n",
       "      <td>55.099998</td>\n",
       "      <td>2020-10-14</td>\n",
       "      <td>10455.407529</td>\n",
       "      <td>0.045541</td>\n",
       "    </tr>\n",
       "    <tr>\n",
       "      <th>2</th>\n",
       "      <td>2</td>\n",
       "      <td>Estelle Genest</td>\n",
       "      <td>RXL</td>\n",
       "      <td>0.30</td>\n",
       "      <td>60000</td>\n",
       "      <td>2020-09-18</td>\n",
       "      <td>129.130005</td>\n",
       "      <td>2020-09-18</td>\n",
       "      <td>464.648012</td>\n",
       "      <td>2020-10-14</td>\n",
       "      <td>136.440002</td>\n",
       "      <td>2020-10-14</td>\n",
       "      <td>63396.575830</td>\n",
       "      <td>0.056610</td>\n",
       "    </tr>\n",
       "    <tr>\n",
       "      <th>3</th>\n",
       "      <td>3</td>\n",
       "      <td>Estelle Genest</td>\n",
       "      <td>ROM</td>\n",
       "      <td>0.10</td>\n",
       "      <td>20000</td>\n",
       "      <td>2020-09-18</td>\n",
       "      <td>51.900002</td>\n",
       "      <td>2020-09-18</td>\n",
       "      <td>385.356443</td>\n",
       "      <td>2020-10-14</td>\n",
       "      <td>63.439999</td>\n",
       "      <td>2020-10-14</td>\n",
       "      <td>24447.012240</td>\n",
       "      <td>0.222351</td>\n",
       "    </tr>\n",
       "    <tr>\n",
       "      <th>4</th>\n",
       "      <td>4</td>\n",
       "      <td>Estelle Genest</td>\n",
       "      <td>AMZN</td>\n",
       "      <td>0.10</td>\n",
       "      <td>20000</td>\n",
       "      <td>2020-09-18</td>\n",
       "      <td>2954.909912</td>\n",
       "      <td>2020-09-18</td>\n",
       "      <td>6.768396</td>\n",
       "      <td>2020-10-14</td>\n",
       "      <td>3363.709961</td>\n",
       "      <td>2020-10-14</td>\n",
       "      <td>22766.920556</td>\n",
       "      <td>0.138346</td>\n",
       "    </tr>\n",
       "  </tbody>\n",
       "</table>\n",
       "</div>"
      ],
      "text/plain": [
       "   Unnamed: 0            Name Symbol  % of Portfolio  Cost Basis      Date_x  \\\n",
       "0           0  Estelle Genest  BRK-B            0.03        6000  2020-09-18   \n",
       "1           1  Estelle Genest     BX            0.05       10000  2020-09-18   \n",
       "2           2  Estelle Genest    RXL            0.30       60000  2020-09-18   \n",
       "3           3  Estelle Genest    ROM            0.10       20000  2020-09-18   \n",
       "4           4  Estelle Genest   AMZN            0.10       20000  2020-09-18   \n",
       "\n",
       "       Close_x       Day_x  # of Shares      Date_y      Close_y       Day_y  \\\n",
       "0   218.210007  2020-09-18    27.496448  2020-10-14   210.910004  2020-10-14   \n",
       "1    52.700001  2020-09-18   189.753318  2020-10-14    55.099998  2020-10-14   \n",
       "2   129.130005  2020-09-18   464.648012  2020-10-14   136.440002  2020-10-14   \n",
       "3    51.900002  2020-09-18   385.356443  2020-10-14    63.439999  2020-10-14   \n",
       "4  2954.909912  2020-09-18     6.768396  2020-10-14  3363.709961  2020-10-14   \n",
       "\n",
       "   Current_Value  Perc_Return  \n",
       "0    5799.275849    -0.033454  \n",
       "1   10455.407529     0.045541  \n",
       "2   63396.575830     0.056610  \n",
       "3   24447.012240     0.222351  \n",
       "4   22766.920556     0.138346  "
      ]
     },
     "execution_count": 45,
     "metadata": {},
     "output_type": "execute_result"
    }
   ],
   "source": [
    "detail['Current_Value'] = detail['Close_y'] * detail['# of Shares']\n",
    "detail['Perc_Return'] = detail['Close_y']/detail['Close_x']  -1\n",
    "detail.head(5)"
   ]
  },
  {
   "cell_type": "code",
   "execution_count": 46,
   "metadata": {
    "collapsed": true
   },
   "outputs": [],
   "source": [
    "detail.to_csv(\"pt1-detail.csv\")"
   ]
  },
  {
   "cell_type": "markdown",
   "metadata": {},
   "source": [
    "### Individual Performance"
   ]
  },
  {
   "cell_type": "code",
   "execution_count": 24,
   "metadata": {
    "collapsed": true
   },
   "outputs": [],
   "source": [
    "ranking = detail.groupby(\"Name\")['Cost Basis', 'Current_Value'].sum().reset_index().sort_values(\"Current_Value\", ascending=False)"
   ]
  },
  {
   "cell_type": "code",
   "execution_count": 25,
   "metadata": {
    "scrolled": true
   },
   "outputs": [
    {
     "data": {
      "text/html": [
       "<div>\n",
       "<style scoped>\n",
       "    .dataframe tbody tr th:only-of-type {\n",
       "        vertical-align: middle;\n",
       "    }\n",
       "\n",
       "    .dataframe tbody tr th {\n",
       "        vertical-align: top;\n",
       "    }\n",
       "\n",
       "    .dataframe thead th {\n",
       "        text-align: right;\n",
       "    }\n",
       "</style>\n",
       "<table border=\"1\" class=\"dataframe\">\n",
       "  <thead>\n",
       "    <tr style=\"text-align: right;\">\n",
       "      <th></th>\n",
       "      <th>Name</th>\n",
       "      <th>Cost Basis</th>\n",
       "      <th>Current_Value</th>\n",
       "      <th>Perc_Return</th>\n",
       "      <th>Rank</th>\n",
       "    </tr>\n",
       "  </thead>\n",
       "  <tbody>\n",
       "    <tr>\n",
       "      <th>39</th>\n",
       "      <td>Trudy Seeber</td>\n",
       "      <td>200000</td>\n",
       "      <td>262615.295571</td>\n",
       "      <td>0.313076</td>\n",
       "      <td>1.0</td>\n",
       "    </tr>\n",
       "    <tr>\n",
       "      <th>17</th>\n",
       "      <td>Joseph Lindner</td>\n",
       "      <td>200000</td>\n",
       "      <td>232396.384496</td>\n",
       "      <td>0.161982</td>\n",
       "      <td>2.0</td>\n",
       "    </tr>\n",
       "    <tr>\n",
       "      <th>34</th>\n",
       "      <td>Schuyler Bull</td>\n",
       "      <td>200000</td>\n",
       "      <td>231816.886247</td>\n",
       "      <td>0.159084</td>\n",
       "      <td>3.0</td>\n",
       "    </tr>\n",
       "    <tr>\n",
       "      <th>14</th>\n",
       "      <td>Jennah Hebert v2</td>\n",
       "      <td>200000</td>\n",
       "      <td>231046.026050</td>\n",
       "      <td>0.155230</td>\n",
       "      <td>4.0</td>\n",
       "    </tr>\n",
       "    <tr>\n",
       "      <th>29</th>\n",
       "      <td>Nori Lansing</td>\n",
       "      <td>200000</td>\n",
       "      <td>226931.822002</td>\n",
       "      <td>0.134659</td>\n",
       "      <td>5.0</td>\n",
       "    </tr>\n",
       "    <tr>\n",
       "      <th>20</th>\n",
       "      <td>Kwun Chan</td>\n",
       "      <td>200000</td>\n",
       "      <td>223348.209013</td>\n",
       "      <td>0.116741</td>\n",
       "      <td>6.0</td>\n",
       "    </tr>\n",
       "    <tr>\n",
       "      <th>15</th>\n",
       "      <td>Joanne Manzi</td>\n",
       "      <td>200000</td>\n",
       "      <td>221717.380884</td>\n",
       "      <td>0.108587</td>\n",
       "      <td>7.0</td>\n",
       "    </tr>\n",
       "    <tr>\n",
       "      <th>36</th>\n",
       "      <td>Sherry A Rosekrans</td>\n",
       "      <td>200000</td>\n",
       "      <td>219951.730644</td>\n",
       "      <td>0.099759</td>\n",
       "      <td>8.0</td>\n",
       "    </tr>\n",
       "    <tr>\n",
       "      <th>28</th>\n",
       "      <td>Nicholas Capullo</td>\n",
       "      <td>200000</td>\n",
       "      <td>218236.698037</td>\n",
       "      <td>0.091183</td>\n",
       "      <td>9.0</td>\n",
       "    </tr>\n",
       "    <tr>\n",
       "      <th>19</th>\n",
       "      <td>Kristen Kiefer</td>\n",
       "      <td>200000</td>\n",
       "      <td>217755.193488</td>\n",
       "      <td>0.088776</td>\n",
       "      <td>10.0</td>\n",
       "    </tr>\n",
       "    <tr>\n",
       "      <th>10</th>\n",
       "      <td>Estelle Genest</td>\n",
       "      <td>200000</td>\n",
       "      <td>217637.717144</td>\n",
       "      <td>0.088189</td>\n",
       "      <td>11.0</td>\n",
       "    </tr>\n",
       "    <tr>\n",
       "      <th>5</th>\n",
       "      <td>Claire Moylan</td>\n",
       "      <td>200000</td>\n",
       "      <td>217399.522226</td>\n",
       "      <td>0.086998</td>\n",
       "      <td>12.0</td>\n",
       "    </tr>\n",
       "    <tr>\n",
       "      <th>11</th>\n",
       "      <td>Giuseppe Tedesco</td>\n",
       "      <td>200000</td>\n",
       "      <td>215594.619326</td>\n",
       "      <td>0.077973</td>\n",
       "      <td>13.0</td>\n",
       "    </tr>\n",
       "    <tr>\n",
       "      <th>4</th>\n",
       "      <td>Bradley Bonfante</td>\n",
       "      <td>200000</td>\n",
       "      <td>215373.653808</td>\n",
       "      <td>0.076868</td>\n",
       "      <td>14.0</td>\n",
       "    </tr>\n",
       "    <tr>\n",
       "      <th>22</th>\n",
       "      <td>Lindsey Pelerin</td>\n",
       "      <td>200000</td>\n",
       "      <td>215159.599728</td>\n",
       "      <td>0.075798</td>\n",
       "      <td>15.0</td>\n",
       "    </tr>\n",
       "    <tr>\n",
       "      <th>7</th>\n",
       "      <td>Danish Sharpe</td>\n",
       "      <td>200000</td>\n",
       "      <td>214923.919280</td>\n",
       "      <td>0.074620</td>\n",
       "      <td>16.0</td>\n",
       "    </tr>\n",
       "    <tr>\n",
       "      <th>26</th>\n",
       "      <td>Melissa Stamper</td>\n",
       "      <td>200000</td>\n",
       "      <td>214632.361387</td>\n",
       "      <td>0.073162</td>\n",
       "      <td>17.0</td>\n",
       "    </tr>\n",
       "    <tr>\n",
       "      <th>12</th>\n",
       "      <td>Jacqueline Lorenz</td>\n",
       "      <td>200000</td>\n",
       "      <td>213832.009427</td>\n",
       "      <td>0.069160</td>\n",
       "      <td>18.0</td>\n",
       "    </tr>\n",
       "    <tr>\n",
       "      <th>31</th>\n",
       "      <td>Peter Odell</td>\n",
       "      <td>200000</td>\n",
       "      <td>213717.941176</td>\n",
       "      <td>0.068590</td>\n",
       "      <td>19.0</td>\n",
       "    </tr>\n",
       "    <tr>\n",
       "      <th>25</th>\n",
       "      <td>Melissa Lomaestro</td>\n",
       "      <td>200000</td>\n",
       "      <td>213604.476851</td>\n",
       "      <td>0.068022</td>\n",
       "      <td>20.0</td>\n",
       "    </tr>\n",
       "    <tr>\n",
       "      <th>24</th>\n",
       "      <td>Maggie Mahota</td>\n",
       "      <td>200000</td>\n",
       "      <td>213386.732530</td>\n",
       "      <td>0.066934</td>\n",
       "      <td>21.0</td>\n",
       "    </tr>\n",
       "    <tr>\n",
       "      <th>33</th>\n",
       "      <td>Rebecca Curtis</td>\n",
       "      <td>200000</td>\n",
       "      <td>212903.035886</td>\n",
       "      <td>0.064515</td>\n",
       "      <td>22.0</td>\n",
       "    </tr>\n",
       "    <tr>\n",
       "      <th>27</th>\n",
       "      <td>Michael Brandt</td>\n",
       "      <td>200000</td>\n",
       "      <td>211019.147088</td>\n",
       "      <td>0.055096</td>\n",
       "      <td>23.0</td>\n",
       "    </tr>\n",
       "    <tr>\n",
       "      <th>1</th>\n",
       "      <td>Amy Acerra</td>\n",
       "      <td>200000</td>\n",
       "      <td>210872.122380</td>\n",
       "      <td>0.054361</td>\n",
       "      <td>24.0</td>\n",
       "    </tr>\n",
       "    <tr>\n",
       "      <th>16</th>\n",
       "      <td>Joe Geis</td>\n",
       "      <td>200000</td>\n",
       "      <td>210165.443212</td>\n",
       "      <td>0.050827</td>\n",
       "      <td>25.0</td>\n",
       "    </tr>\n",
       "  </tbody>\n",
       "</table>\n",
       "</div>"
      ],
      "text/plain": [
       "                  Name  Cost Basis  Current_Value  Perc_Return  Rank\n",
       "39        Trudy Seeber      200000  262615.295571     0.313076   1.0\n",
       "17      Joseph Lindner      200000  232396.384496     0.161982   2.0\n",
       "34       Schuyler Bull      200000  231816.886247     0.159084   3.0\n",
       "14    Jennah Hebert v2      200000  231046.026050     0.155230   4.0\n",
       "29        Nori Lansing      200000  226931.822002     0.134659   5.0\n",
       "20           Kwun Chan      200000  223348.209013     0.116741   6.0\n",
       "15        Joanne Manzi      200000  221717.380884     0.108587   7.0\n",
       "36  Sherry A Rosekrans      200000  219951.730644     0.099759   8.0\n",
       "28    Nicholas Capullo      200000  218236.698037     0.091183   9.0\n",
       "19      Kristen Kiefer      200000  217755.193488     0.088776  10.0\n",
       "10      Estelle Genest      200000  217637.717144     0.088189  11.0\n",
       "5        Claire Moylan      200000  217399.522226     0.086998  12.0\n",
       "11    Giuseppe Tedesco      200000  215594.619326     0.077973  13.0\n",
       "4     Bradley Bonfante      200000  215373.653808     0.076868  14.0\n",
       "22     Lindsey Pelerin      200000  215159.599728     0.075798  15.0\n",
       "7        Danish Sharpe      200000  214923.919280     0.074620  16.0\n",
       "26     Melissa Stamper      200000  214632.361387     0.073162  17.0\n",
       "12   Jacqueline Lorenz      200000  213832.009427     0.069160  18.0\n",
       "31         Peter Odell      200000  213717.941176     0.068590  19.0\n",
       "25   Melissa Lomaestro      200000  213604.476851     0.068022  20.0\n",
       "24       Maggie Mahota      200000  213386.732530     0.066934  21.0\n",
       "33      Rebecca Curtis      200000  212903.035886     0.064515  22.0\n",
       "27      Michael Brandt      200000  211019.147088     0.055096  23.0\n",
       "1           Amy Acerra      200000  210872.122380     0.054361  24.0\n",
       "16            Joe Geis      200000  210165.443212     0.050827  25.0"
      ]
     },
     "execution_count": 25,
     "metadata": {},
     "output_type": "execute_result"
    }
   ],
   "source": [
    "ranking['Perc_Return'] = ranking['Current_Value']/ranking['Cost Basis'] -1\n",
    "ranking['Rank'] = ranking['Perc_Return'].rank(ascending=False)\n",
    "ranking.head(25)"
   ]
  },
  {
   "cell_type": "code",
   "execution_count": 26,
   "metadata": {
    "collapsed": true
   },
   "outputs": [],
   "source": [
    "ranking.to_csv(\"individual rankings.csv\")"
   ]
  },
  {
   "cell_type": "markdown",
   "metadata": {},
   "source": [
    "### Best Individual Stock Returns"
   ]
  },
  {
   "cell_type": "code",
   "execution_count": 27,
   "metadata": {
    "collapsed": true
   },
   "outputs": [],
   "source": [
    "best_stocks = detail.drop_duplicates(['Symbol']).reset_index().sort_values(['Perc_Return'], ascending=False)"
   ]
  },
  {
   "cell_type": "code",
   "execution_count": 28,
   "metadata": {},
   "outputs": [
    {
     "data": {
      "text/html": [
       "<div>\n",
       "<style scoped>\n",
       "    .dataframe tbody tr th:only-of-type {\n",
       "        vertical-align: middle;\n",
       "    }\n",
       "\n",
       "    .dataframe tbody tr th {\n",
       "        vertical-align: top;\n",
       "    }\n",
       "\n",
       "    .dataframe thead th {\n",
       "        text-align: right;\n",
       "    }\n",
       "</style>\n",
       "<table border=\"1\" class=\"dataframe\">\n",
       "  <thead>\n",
       "    <tr style=\"text-align: right;\">\n",
       "      <th></th>\n",
       "      <th>Symbol</th>\n",
       "      <th>Perc_Return</th>\n",
       "    </tr>\n",
       "  </thead>\n",
       "  <tbody>\n",
       "    <tr>\n",
       "      <th>169</th>\n",
       "      <td>DQ</td>\n",
       "      <td>0.963558</td>\n",
       "    </tr>\n",
       "    <tr>\n",
       "      <th>165</th>\n",
       "      <td>QDEL</td>\n",
       "      <td>0.429454</td>\n",
       "    </tr>\n",
       "    <tr>\n",
       "      <th>121</th>\n",
       "      <td>FVRR</td>\n",
       "      <td>0.420643</td>\n",
       "    </tr>\n",
       "    <tr>\n",
       "      <th>72</th>\n",
       "      <td>NIO</td>\n",
       "      <td>0.365276</td>\n",
       "    </tr>\n",
       "    <tr>\n",
       "      <th>87</th>\n",
       "      <td>ETSY</td>\n",
       "      <td>0.342013</td>\n",
       "    </tr>\n",
       "    <tr>\n",
       "      <th>68</th>\n",
       "      <td>EXAS</td>\n",
       "      <td>0.336001</td>\n",
       "    </tr>\n",
       "    <tr>\n",
       "      <th>34</th>\n",
       "      <td>CVNA</td>\n",
       "      <td>0.293968</td>\n",
       "    </tr>\n",
       "    <tr>\n",
       "      <th>158</th>\n",
       "      <td>SQ</td>\n",
       "      <td>0.292945</td>\n",
       "    </tr>\n",
       "    <tr>\n",
       "      <th>47</th>\n",
       "      <td>MELI</td>\n",
       "      <td>0.241108</td>\n",
       "    </tr>\n",
       "    <tr>\n",
       "      <th>49</th>\n",
       "      <td>NVTA</td>\n",
       "      <td>0.232000</td>\n",
       "    </tr>\n",
       "  </tbody>\n",
       "</table>\n",
       "</div>"
      ],
      "text/plain": [
       "    Symbol  Perc_Return\n",
       "169     DQ     0.963558\n",
       "165   QDEL     0.429454\n",
       "121   FVRR     0.420643\n",
       "72     NIO     0.365276\n",
       "87    ETSY     0.342013\n",
       "68    EXAS     0.336001\n",
       "34    CVNA     0.293968\n",
       "158     SQ     0.292945\n",
       "47    MELI     0.241108\n",
       "49    NVTA     0.232000"
      ]
     },
     "execution_count": 28,
     "metadata": {},
     "output_type": "execute_result"
    }
   ],
   "source": [
    "best_stocks = best_stocks.loc[:, ['Symbol', 'Perc_Return']]\n",
    "best_stocks.head(10)"
   ]
  },
  {
   "cell_type": "code",
   "execution_count": 29,
   "metadata": {
    "collapsed": true
   },
   "outputs": [],
   "source": [
    "best_stocks.to_csv(\"stock ranking.csv\")"
   ]
  },
  {
   "cell_type": "markdown",
   "metadata": {},
   "source": [
    "# Trend"
   ]
  },
  {
   "cell_type": "code",
   "execution_count": 24,
   "metadata": {
    "collapsed": true
   },
   "outputs": [],
   "source": [
    "#Pull Only necessary columns\n",
    "combined = combined.loc[:, ['Name', 'Symbol', '# of Shares']]"
   ]
  },
  {
   "cell_type": "code",
   "execution_count": 25,
   "metadata": {},
   "outputs": [
    {
     "data": {
      "text/html": [
       "<div>\n",
       "<style scoped>\n",
       "    .dataframe tbody tr th:only-of-type {\n",
       "        vertical-align: middle;\n",
       "    }\n",
       "\n",
       "    .dataframe tbody tr th {\n",
       "        vertical-align: top;\n",
       "    }\n",
       "\n",
       "    .dataframe thead th {\n",
       "        text-align: right;\n",
       "    }\n",
       "</style>\n",
       "<table border=\"1\" class=\"dataframe\">\n",
       "  <thead>\n",
       "    <tr style=\"text-align: right;\">\n",
       "      <th></th>\n",
       "      <th>Name</th>\n",
       "      <th>Symbol</th>\n",
       "      <th># of Shares</th>\n",
       "    </tr>\n",
       "  </thead>\n",
       "  <tbody>\n",
       "    <tr>\n",
       "      <th>0</th>\n",
       "      <td>Estelle Genest</td>\n",
       "      <td>BRK-B</td>\n",
       "      <td>27.496448</td>\n",
       "    </tr>\n",
       "    <tr>\n",
       "      <th>1</th>\n",
       "      <td>Estelle Genest</td>\n",
       "      <td>BX</td>\n",
       "      <td>189.753318</td>\n",
       "    </tr>\n",
       "    <tr>\n",
       "      <th>2</th>\n",
       "      <td>Estelle Genest</td>\n",
       "      <td>RXL</td>\n",
       "      <td>464.648012</td>\n",
       "    </tr>\n",
       "    <tr>\n",
       "      <th>3</th>\n",
       "      <td>Estelle Genest</td>\n",
       "      <td>ROM</td>\n",
       "      <td>385.356443</td>\n",
       "    </tr>\n",
       "    <tr>\n",
       "      <th>4</th>\n",
       "      <td>Estelle Genest</td>\n",
       "      <td>AMZN</td>\n",
       "      <td>6.768396</td>\n",
       "    </tr>\n",
       "    <tr>\n",
       "      <th>5</th>\n",
       "      <td>Estelle Genest</td>\n",
       "      <td>REGN</td>\n",
       "      <td>28.816368</td>\n",
       "    </tr>\n",
       "    <tr>\n",
       "      <th>6</th>\n",
       "      <td>Estelle Genest</td>\n",
       "      <td>NEW</td>\n",
       "      <td>842.105263</td>\n",
       "    </tr>\n",
       "    <tr>\n",
       "      <th>7</th>\n",
       "      <td>Estelle Genest</td>\n",
       "      <td>WMT</td>\n",
       "      <td>221.745890</td>\n",
       "    </tr>\n",
       "    <tr>\n",
       "      <th>8</th>\n",
       "      <td>Estelle Genest</td>\n",
       "      <td>AAPL</td>\n",
       "      <td>280.793720</td>\n",
       "    </tr>\n",
       "    <tr>\n",
       "      <th>9</th>\n",
       "      <td>Angela Calsolaro</td>\n",
       "      <td>GRUB</td>\n",
       "      <td>577.617329</td>\n",
       "    </tr>\n",
       "    <tr>\n",
       "      <th>10</th>\n",
       "      <td>Angela Calsolaro</td>\n",
       "      <td>VXRT</td>\n",
       "      <td>1216.544973</td>\n",
       "    </tr>\n",
       "    <tr>\n",
       "      <th>11</th>\n",
       "      <td>Angela Calsolaro</td>\n",
       "      <td>DELL</td>\n",
       "      <td>301.340955</td>\n",
       "    </tr>\n",
       "    <tr>\n",
       "      <th>12</th>\n",
       "      <td>Angela Calsolaro</td>\n",
       "      <td>BA</td>\n",
       "      <td>86.880973</td>\n",
       "    </tr>\n",
       "    <tr>\n",
       "      <th>13</th>\n",
       "      <td>Angela Calsolaro</td>\n",
       "      <td>LOW</td>\n",
       "      <td>149.906303</td>\n",
       "    </tr>\n",
       "    <tr>\n",
       "      <th>14</th>\n",
       "      <td>Angela Calsolaro</td>\n",
       "      <td>UBER</td>\n",
       "      <td>808.189678</td>\n",
       "    </tr>\n",
       "    <tr>\n",
       "      <th>15</th>\n",
       "      <td>Angela Calsolaro</td>\n",
       "      <td>HDS</td>\n",
       "      <td>497.512428</td>\n",
       "    </tr>\n",
       "    <tr>\n",
       "      <th>16</th>\n",
       "      <td>Angela Calsolaro</td>\n",
       "      <td>MSFT</td>\n",
       "      <td>109.785918</td>\n",
       "    </tr>\n",
       "    <tr>\n",
       "      <th>17</th>\n",
       "      <td>Angela Calsolaro</td>\n",
       "      <td>EXEL</td>\n",
       "      <td>373.134339</td>\n",
       "    </tr>\n",
       "    <tr>\n",
       "      <th>18</th>\n",
       "      <td>Sherry A Rosekrans</td>\n",
       "      <td>BGSAX</td>\n",
       "      <td>2041.232835</td>\n",
       "    </tr>\n",
       "    <tr>\n",
       "      <th>19</th>\n",
       "      <td>Sherry A Rosekrans</td>\n",
       "      <td>TWCIX</td>\n",
       "      <td>535.676044</td>\n",
       "    </tr>\n",
       "    <tr>\n",
       "      <th>20</th>\n",
       "      <td>Sherry A Rosekrans</td>\n",
       "      <td>TRBCX</td>\n",
       "      <td>336.315333</td>\n",
       "    </tr>\n",
       "    <tr>\n",
       "      <th>21</th>\n",
       "      <td>Kristen Kiefer</td>\n",
       "      <td>WMT</td>\n",
       "      <td>147.830593</td>\n",
       "    </tr>\n",
       "    <tr>\n",
       "      <th>22</th>\n",
       "      <td>Kristen Kiefer</td>\n",
       "      <td>AAPL</td>\n",
       "      <td>467.989533</td>\n",
       "    </tr>\n",
       "    <tr>\n",
       "      <th>23</th>\n",
       "      <td>Kristen Kiefer</td>\n",
       "      <td>AMZN</td>\n",
       "      <td>13.536792</td>\n",
       "    </tr>\n",
       "    <tr>\n",
       "      <th>24</th>\n",
       "      <td>Kristen Kiefer</td>\n",
       "      <td>GOOGL</td>\n",
       "      <td>27.565486</td>\n",
       "    </tr>\n",
       "    <tr>\n",
       "      <th>25</th>\n",
       "      <td>Kristen Kiefer</td>\n",
       "      <td>ATVI</td>\n",
       "      <td>624.297694</td>\n",
       "    </tr>\n",
       "    <tr>\n",
       "      <th>26</th>\n",
       "      <td>Sue Dymond</td>\n",
       "      <td>BKRRF</td>\n",
       "      <td>65789.474510</td>\n",
       "    </tr>\n",
       "    <tr>\n",
       "      <th>27</th>\n",
       "      <td>Sue Dymond</td>\n",
       "      <td>CHTR</td>\n",
       "      <td>31.987205</td>\n",
       "    </tr>\n",
       "    <tr>\n",
       "      <th>28</th>\n",
       "      <td>Sue Dymond</td>\n",
       "      <td>ADBE</td>\n",
       "      <td>64.164262</td>\n",
       "    </tr>\n",
       "    <tr>\n",
       "      <th>29</th>\n",
       "      <td>Sue Dymond</td>\n",
       "      <td>QCOM</td>\n",
       "      <td>451.711978</td>\n",
       "    </tr>\n",
       "    <tr>\n",
       "      <th>...</th>\n",
       "      <td>...</td>\n",
       "      <td>...</td>\n",
       "      <td>...</td>\n",
       "    </tr>\n",
       "    <tr>\n",
       "      <th>251</th>\n",
       "      <td>Joe Geis</td>\n",
       "      <td>SNOW</td>\n",
       "      <td>291.666667</td>\n",
       "    </tr>\n",
       "    <tr>\n",
       "      <th>252</th>\n",
       "      <td>Joe Geis</td>\n",
       "      <td>INTC</td>\n",
       "      <td>400.881945</td>\n",
       "    </tr>\n",
       "    <tr>\n",
       "      <th>253</th>\n",
       "      <td>Joe Geis</td>\n",
       "      <td>TSLA</td>\n",
       "      <td>90.467037</td>\n",
       "    </tr>\n",
       "    <tr>\n",
       "      <th>254</th>\n",
       "      <td>Joe Geis</td>\n",
       "      <td>MA</td>\n",
       "      <td>89.482787</td>\n",
       "    </tr>\n",
       "    <tr>\n",
       "      <th>255</th>\n",
       "      <td>Trudy Seeber</td>\n",
       "      <td>QDEL</td>\n",
       "      <td>211.293648</td>\n",
       "    </tr>\n",
       "    <tr>\n",
       "      <th>256</th>\n",
       "      <td>Trudy Seeber</td>\n",
       "      <td>BIG</td>\n",
       "      <td>893.455430</td>\n",
       "    </tr>\n",
       "    <tr>\n",
       "      <th>257</th>\n",
       "      <td>Trudy Seeber</td>\n",
       "      <td>APT</td>\n",
       "      <td>2822.865193</td>\n",
       "    </tr>\n",
       "    <tr>\n",
       "      <th>258</th>\n",
       "      <td>Trudy Seeber</td>\n",
       "      <td>LPX</td>\n",
       "      <td>1284.934182</td>\n",
       "    </tr>\n",
       "    <tr>\n",
       "      <th>259</th>\n",
       "      <td>Trudy Seeber</td>\n",
       "      <td>DQ</td>\n",
       "      <td>359.034186</td>\n",
       "    </tr>\n",
       "    <tr>\n",
       "      <th>260</th>\n",
       "      <td>Jennah Hebert</td>\n",
       "      <td>TSLA</td>\n",
       "      <td>452.335187</td>\n",
       "    </tr>\n",
       "    <tr>\n",
       "      <th>261</th>\n",
       "      <td>Schuyler Bull</td>\n",
       "      <td>SQ</td>\n",
       "      <td>275.843056</td>\n",
       "    </tr>\n",
       "    <tr>\n",
       "      <th>262</th>\n",
       "      <td>Schuyler Bull</td>\n",
       "      <td>TRBCX</td>\n",
       "      <td>269.052267</td>\n",
       "    </tr>\n",
       "    <tr>\n",
       "      <th>263</th>\n",
       "      <td>Schuyler Bull</td>\n",
       "      <td>AAPL</td>\n",
       "      <td>374.391626</td>\n",
       "    </tr>\n",
       "    <tr>\n",
       "      <th>264</th>\n",
       "      <td>Schuyler Bull</td>\n",
       "      <td>FB</td>\n",
       "      <td>158.397023</td>\n",
       "    </tr>\n",
       "    <tr>\n",
       "      <th>265</th>\n",
       "      <td>Schuyler Bull</td>\n",
       "      <td>SHOP</td>\n",
       "      <td>44.378369</td>\n",
       "    </tr>\n",
       "    <tr>\n",
       "      <th>266</th>\n",
       "      <td>Jennah Hebert v2</td>\n",
       "      <td>ZM</td>\n",
       "      <td>227.930612</td>\n",
       "    </tr>\n",
       "    <tr>\n",
       "      <th>267</th>\n",
       "      <td>Jennah Hebert v2</td>\n",
       "      <td>REGI</td>\n",
       "      <td>1024.590180</td>\n",
       "    </tr>\n",
       "    <tr>\n",
       "      <th>268</th>\n",
       "      <td>Jennah Hebert v2</td>\n",
       "      <td>TGT</td>\n",
       "      <td>134.390532</td>\n",
       "    </tr>\n",
       "    <tr>\n",
       "      <th>269</th>\n",
       "      <td>Jennah Hebert v2</td>\n",
       "      <td>CRM</td>\n",
       "      <td>41.189555</td>\n",
       "    </tr>\n",
       "    <tr>\n",
       "      <th>270</th>\n",
       "      <td>Jennah Hebert v2</td>\n",
       "      <td>SQ</td>\n",
       "      <td>68.960764</td>\n",
       "    </tr>\n",
       "    <tr>\n",
       "      <th>271</th>\n",
       "      <td>Jennah Hebert v2</td>\n",
       "      <td>AAPL</td>\n",
       "      <td>93.597907</td>\n",
       "    </tr>\n",
       "    <tr>\n",
       "      <th>272</th>\n",
       "      <td>Barbaranne Way</td>\n",
       "      <td>GM</td>\n",
       "      <td>317.460317</td>\n",
       "    </tr>\n",
       "    <tr>\n",
       "      <th>273</th>\n",
       "      <td>Barbaranne Way</td>\n",
       "      <td>ORLY</td>\n",
       "      <td>43.112740</td>\n",
       "    </tr>\n",
       "    <tr>\n",
       "      <th>274</th>\n",
       "      <td>Barbaranne Way</td>\n",
       "      <td>EWH</td>\n",
       "      <td>1329.787266</td>\n",
       "    </tr>\n",
       "    <tr>\n",
       "      <th>275</th>\n",
       "      <td>Barbaranne Way</td>\n",
       "      <td>VXRT</td>\n",
       "      <td>3406.325923</td>\n",
       "    </tr>\n",
       "    <tr>\n",
       "      <th>276</th>\n",
       "      <td>Barbaranne Way</td>\n",
       "      <td>AZN</td>\n",
       "      <td>496.014165</td>\n",
       "    </tr>\n",
       "    <tr>\n",
       "      <th>277</th>\n",
       "      <td>Barbaranne Way</td>\n",
       "      <td>ORCL</td>\n",
       "      <td>200.836820</td>\n",
       "    </tr>\n",
       "    <tr>\n",
       "      <th>278</th>\n",
       "      <td>Barbaranne Way</td>\n",
       "      <td>PKI</td>\n",
       "      <td>67.681897</td>\n",
       "    </tr>\n",
       "    <tr>\n",
       "      <th>279</th>\n",
       "      <td>Barbaranne Way</td>\n",
       "      <td>EPAM</td>\n",
       "      <td>94.879660</td>\n",
       "    </tr>\n",
       "    <tr>\n",
       "      <th>280</th>\n",
       "      <td>Barbaranne Way</td>\n",
       "      <td>CWH</td>\n",
       "      <td>1131.071211</td>\n",
       "    </tr>\n",
       "  </tbody>\n",
       "</table>\n",
       "<p>281 rows × 3 columns</p>\n",
       "</div>"
      ],
      "text/plain": [
       "                   Name Symbol   # of Shares\n",
       "0        Estelle Genest  BRK-B     27.496448\n",
       "1        Estelle Genest     BX    189.753318\n",
       "2        Estelle Genest    RXL    464.648012\n",
       "3        Estelle Genest    ROM    385.356443\n",
       "4        Estelle Genest   AMZN      6.768396\n",
       "5        Estelle Genest   REGN     28.816368\n",
       "6        Estelle Genest    NEW    842.105263\n",
       "7        Estelle Genest    WMT    221.745890\n",
       "8        Estelle Genest   AAPL    280.793720\n",
       "9      Angela Calsolaro   GRUB    577.617329\n",
       "10     Angela Calsolaro   VXRT   1216.544973\n",
       "11     Angela Calsolaro   DELL    301.340955\n",
       "12     Angela Calsolaro     BA     86.880973\n",
       "13     Angela Calsolaro    LOW    149.906303\n",
       "14     Angela Calsolaro   UBER    808.189678\n",
       "15     Angela Calsolaro    HDS    497.512428\n",
       "16     Angela Calsolaro   MSFT    109.785918\n",
       "17     Angela Calsolaro   EXEL    373.134339\n",
       "18   Sherry A Rosekrans  BGSAX   2041.232835\n",
       "19   Sherry A Rosekrans  TWCIX    535.676044\n",
       "20   Sherry A Rosekrans  TRBCX    336.315333\n",
       "21       Kristen Kiefer    WMT    147.830593\n",
       "22       Kristen Kiefer   AAPL    467.989533\n",
       "23       Kristen Kiefer   AMZN     13.536792\n",
       "24       Kristen Kiefer  GOOGL     27.565486\n",
       "25       Kristen Kiefer   ATVI    624.297694\n",
       "26           Sue Dymond  BKRRF  65789.474510\n",
       "27           Sue Dymond   CHTR     31.987205\n",
       "28           Sue Dymond   ADBE     64.164262\n",
       "29           Sue Dymond   QCOM    451.711978\n",
       "..                  ...    ...           ...\n",
       "251            Joe Geis   SNOW    291.666667\n",
       "252            Joe Geis   INTC    400.881945\n",
       "253            Joe Geis   TSLA     90.467037\n",
       "254            Joe Geis     MA     89.482787\n",
       "255        Trudy Seeber   QDEL    211.293648\n",
       "256        Trudy Seeber    BIG    893.455430\n",
       "257        Trudy Seeber    APT   2822.865193\n",
       "258        Trudy Seeber    LPX   1284.934182\n",
       "259        Trudy Seeber     DQ    359.034186\n",
       "260       Jennah Hebert   TSLA    452.335187\n",
       "261       Schuyler Bull     SQ    275.843056\n",
       "262       Schuyler Bull  TRBCX    269.052267\n",
       "263       Schuyler Bull   AAPL    374.391626\n",
       "264       Schuyler Bull     FB    158.397023\n",
       "265       Schuyler Bull   SHOP     44.378369\n",
       "266    Jennah Hebert v2     ZM    227.930612\n",
       "267    Jennah Hebert v2   REGI   1024.590180\n",
       "268    Jennah Hebert v2    TGT    134.390532\n",
       "269    Jennah Hebert v2    CRM     41.189555\n",
       "270    Jennah Hebert v2     SQ     68.960764\n",
       "271    Jennah Hebert v2   AAPL     93.597907\n",
       "272      Barbaranne Way     GM    317.460317\n",
       "273      Barbaranne Way   ORLY     43.112740\n",
       "274      Barbaranne Way    EWH   1329.787266\n",
       "275      Barbaranne Way   VXRT   3406.325923\n",
       "276      Barbaranne Way    AZN    496.014165\n",
       "277      Barbaranne Way   ORCL    200.836820\n",
       "278      Barbaranne Way    PKI     67.681897\n",
       "279      Barbaranne Way   EPAM     94.879660\n",
       "280      Barbaranne Way    CWH   1131.071211\n",
       "\n",
       "[281 rows x 3 columns]"
      ]
     },
     "execution_count": 25,
     "metadata": {},
     "output_type": "execute_result"
    }
   ],
   "source": [
    "combined"
   ]
  },
  {
   "cell_type": "code",
   "execution_count": 30,
   "metadata": {
    "collapsed": true
   },
   "outputs": [],
   "source": [
    "Price_History = stockData(symbols, '2020-09-18', '2020-10-07')"
   ]
  },
  {
   "cell_type": "code",
   "execution_count": 31,
   "metadata": {
    "scrolled": true
   },
   "outputs": [
    {
     "data": {
      "text/html": [
       "<div>\n",
       "<style scoped>\n",
       "    .dataframe tbody tr th:only-of-type {\n",
       "        vertical-align: middle;\n",
       "    }\n",
       "\n",
       "    .dataframe tbody tr th {\n",
       "        vertical-align: top;\n",
       "    }\n",
       "\n",
       "    .dataframe thead th {\n",
       "        text-align: right;\n",
       "    }\n",
       "</style>\n",
       "<table border=\"1\" class=\"dataframe\">\n",
       "  <thead>\n",
       "    <tr style=\"text-align: right;\">\n",
       "      <th></th>\n",
       "      <th>Symbol</th>\n",
       "      <th>Close</th>\n",
       "      <th>Day</th>\n",
       "    </tr>\n",
       "    <tr>\n",
       "      <th>Date</th>\n",
       "      <th></th>\n",
       "      <th></th>\n",
       "      <th></th>\n",
       "    </tr>\n",
       "  </thead>\n",
       "  <tbody>\n",
       "    <tr>\n",
       "      <th>2020-09-18</th>\n",
       "      <td>BRK-B</td>\n",
       "      <td>218.210007</td>\n",
       "      <td>2020-09-18</td>\n",
       "    </tr>\n",
       "    <tr>\n",
       "      <th>2020-09-21</th>\n",
       "      <td>BRK-B</td>\n",
       "      <td>213.020004</td>\n",
       "      <td>2020-09-21</td>\n",
       "    </tr>\n",
       "    <tr>\n",
       "      <th>2020-09-22</th>\n",
       "      <td>BRK-B</td>\n",
       "      <td>214.160004</td>\n",
       "      <td>2020-09-22</td>\n",
       "    </tr>\n",
       "    <tr>\n",
       "      <th>2020-09-23</th>\n",
       "      <td>BRK-B</td>\n",
       "      <td>209.610001</td>\n",
       "      <td>2020-09-23</td>\n",
       "    </tr>\n",
       "    <tr>\n",
       "      <th>2020-09-24</th>\n",
       "      <td>BRK-B</td>\n",
       "      <td>208.720001</td>\n",
       "      <td>2020-09-24</td>\n",
       "    </tr>\n",
       "    <tr>\n",
       "      <th>2020-09-25</th>\n",
       "      <td>BRK-B</td>\n",
       "      <td>210.449997</td>\n",
       "      <td>2020-09-25</td>\n",
       "    </tr>\n",
       "    <tr>\n",
       "      <th>2020-09-28</th>\n",
       "      <td>BRK-B</td>\n",
       "      <td>213.539993</td>\n",
       "      <td>2020-09-28</td>\n",
       "    </tr>\n",
       "    <tr>\n",
       "      <th>2020-09-29</th>\n",
       "      <td>BRK-B</td>\n",
       "      <td>210.440002</td>\n",
       "      <td>2020-09-29</td>\n",
       "    </tr>\n",
       "    <tr>\n",
       "      <th>2020-09-30</th>\n",
       "      <td>BRK-B</td>\n",
       "      <td>212.940002</td>\n",
       "      <td>2020-09-30</td>\n",
       "    </tr>\n",
       "    <tr>\n",
       "      <th>2020-10-01</th>\n",
       "      <td>BRK-B</td>\n",
       "      <td>212.020004</td>\n",
       "      <td>2020-10-01</td>\n",
       "    </tr>\n",
       "    <tr>\n",
       "      <th>2020-10-02</th>\n",
       "      <td>BRK-B</td>\n",
       "      <td>211.179993</td>\n",
       "      <td>2020-10-02</td>\n",
       "    </tr>\n",
       "    <tr>\n",
       "      <th>2020-10-05</th>\n",
       "      <td>BRK-B</td>\n",
       "      <td>212.360001</td>\n",
       "      <td>2020-10-05</td>\n",
       "    </tr>\n",
       "    <tr>\n",
       "      <th>2020-10-06</th>\n",
       "      <td>BRK-B</td>\n",
       "      <td>210.259995</td>\n",
       "      <td>2020-10-06</td>\n",
       "    </tr>\n",
       "    <tr>\n",
       "      <th>2020-10-07</th>\n",
       "      <td>BRK-B</td>\n",
       "      <td>213.289993</td>\n",
       "      <td>2020-10-07</td>\n",
       "    </tr>\n",
       "    <tr>\n",
       "      <th>2020-09-18</th>\n",
       "      <td>BX</td>\n",
       "      <td>52.700001</td>\n",
       "      <td>2020-09-18</td>\n",
       "    </tr>\n",
       "    <tr>\n",
       "      <th>2020-09-21</th>\n",
       "      <td>BX</td>\n",
       "      <td>51.730000</td>\n",
       "      <td>2020-09-21</td>\n",
       "    </tr>\n",
       "    <tr>\n",
       "      <th>2020-09-22</th>\n",
       "      <td>BX</td>\n",
       "      <td>51.299999</td>\n",
       "      <td>2020-09-22</td>\n",
       "    </tr>\n",
       "    <tr>\n",
       "      <th>2020-09-23</th>\n",
       "      <td>BX</td>\n",
       "      <td>50.790001</td>\n",
       "      <td>2020-09-23</td>\n",
       "    </tr>\n",
       "    <tr>\n",
       "      <th>2020-09-24</th>\n",
       "      <td>BX</td>\n",
       "      <td>49.950001</td>\n",
       "      <td>2020-09-24</td>\n",
       "    </tr>\n",
       "    <tr>\n",
       "      <th>2020-09-25</th>\n",
       "      <td>BX</td>\n",
       "      <td>51.150002</td>\n",
       "      <td>2020-09-25</td>\n",
       "    </tr>\n",
       "    <tr>\n",
       "      <th>2020-09-28</th>\n",
       "      <td>BX</td>\n",
       "      <td>52.660000</td>\n",
       "      <td>2020-09-28</td>\n",
       "    </tr>\n",
       "    <tr>\n",
       "      <th>2020-09-29</th>\n",
       "      <td>BX</td>\n",
       "      <td>52.709999</td>\n",
       "      <td>2020-09-29</td>\n",
       "    </tr>\n",
       "    <tr>\n",
       "      <th>2020-09-30</th>\n",
       "      <td>BX</td>\n",
       "      <td>52.200001</td>\n",
       "      <td>2020-09-30</td>\n",
       "    </tr>\n",
       "    <tr>\n",
       "      <th>2020-10-01</th>\n",
       "      <td>BX</td>\n",
       "      <td>53.509998</td>\n",
       "      <td>2020-10-01</td>\n",
       "    </tr>\n",
       "    <tr>\n",
       "      <th>2020-10-02</th>\n",
       "      <td>BX</td>\n",
       "      <td>53.680000</td>\n",
       "      <td>2020-10-02</td>\n",
       "    </tr>\n",
       "    <tr>\n",
       "      <th>2020-10-05</th>\n",
       "      <td>BX</td>\n",
       "      <td>54.290001</td>\n",
       "      <td>2020-10-05</td>\n",
       "    </tr>\n",
       "    <tr>\n",
       "      <th>2020-10-06</th>\n",
       "      <td>BX</td>\n",
       "      <td>54.040001</td>\n",
       "      <td>2020-10-06</td>\n",
       "    </tr>\n",
       "    <tr>\n",
       "      <th>2020-10-07</th>\n",
       "      <td>BX</td>\n",
       "      <td>54.459999</td>\n",
       "      <td>2020-10-07</td>\n",
       "    </tr>\n",
       "    <tr>\n",
       "      <th>2020-09-18</th>\n",
       "      <td>RXL</td>\n",
       "      <td>129.130005</td>\n",
       "      <td>2020-09-18</td>\n",
       "    </tr>\n",
       "    <tr>\n",
       "      <th>2020-09-21</th>\n",
       "      <td>RXL</td>\n",
       "      <td>123.790001</td>\n",
       "      <td>2020-09-21</td>\n",
       "    </tr>\n",
       "    <tr>\n",
       "      <th>...</th>\n",
       "      <td>...</td>\n",
       "      <td>...</td>\n",
       "      <td>...</td>\n",
       "    </tr>\n",
       "    <tr>\n",
       "      <th>2020-10-06</th>\n",
       "      <td>PKI</td>\n",
       "      <td>126.550003</td>\n",
       "      <td>2020-10-06</td>\n",
       "    </tr>\n",
       "    <tr>\n",
       "      <th>2020-10-07</th>\n",
       "      <td>PKI</td>\n",
       "      <td>128.240005</td>\n",
       "      <td>2020-10-07</td>\n",
       "    </tr>\n",
       "    <tr>\n",
       "      <th>2020-09-18</th>\n",
       "      <td>EPAM</td>\n",
       "      <td>316.190002</td>\n",
       "      <td>2020-09-18</td>\n",
       "    </tr>\n",
       "    <tr>\n",
       "      <th>2020-09-21</th>\n",
       "      <td>EPAM</td>\n",
       "      <td>314.299988</td>\n",
       "      <td>2020-09-21</td>\n",
       "    </tr>\n",
       "    <tr>\n",
       "      <th>2020-09-22</th>\n",
       "      <td>EPAM</td>\n",
       "      <td>321.730011</td>\n",
       "      <td>2020-09-22</td>\n",
       "    </tr>\n",
       "    <tr>\n",
       "      <th>2020-09-23</th>\n",
       "      <td>EPAM</td>\n",
       "      <td>314.750000</td>\n",
       "      <td>2020-09-23</td>\n",
       "    </tr>\n",
       "    <tr>\n",
       "      <th>2020-09-24</th>\n",
       "      <td>EPAM</td>\n",
       "      <td>314.980011</td>\n",
       "      <td>2020-09-24</td>\n",
       "    </tr>\n",
       "    <tr>\n",
       "      <th>2020-09-25</th>\n",
       "      <td>EPAM</td>\n",
       "      <td>322.950012</td>\n",
       "      <td>2020-09-25</td>\n",
       "    </tr>\n",
       "    <tr>\n",
       "      <th>2020-09-28</th>\n",
       "      <td>EPAM</td>\n",
       "      <td>328.959991</td>\n",
       "      <td>2020-09-28</td>\n",
       "    </tr>\n",
       "    <tr>\n",
       "      <th>2020-09-29</th>\n",
       "      <td>EPAM</td>\n",
       "      <td>325.559998</td>\n",
       "      <td>2020-09-29</td>\n",
       "    </tr>\n",
       "    <tr>\n",
       "      <th>2020-09-30</th>\n",
       "      <td>EPAM</td>\n",
       "      <td>323.279999</td>\n",
       "      <td>2020-09-30</td>\n",
       "    </tr>\n",
       "    <tr>\n",
       "      <th>2020-10-01</th>\n",
       "      <td>EPAM</td>\n",
       "      <td>334.119995</td>\n",
       "      <td>2020-10-01</td>\n",
       "    </tr>\n",
       "    <tr>\n",
       "      <th>2020-10-02</th>\n",
       "      <td>EPAM</td>\n",
       "      <td>326.920013</td>\n",
       "      <td>2020-10-02</td>\n",
       "    </tr>\n",
       "    <tr>\n",
       "      <th>2020-10-05</th>\n",
       "      <td>EPAM</td>\n",
       "      <td>333.779999</td>\n",
       "      <td>2020-10-05</td>\n",
       "    </tr>\n",
       "    <tr>\n",
       "      <th>2020-10-06</th>\n",
       "      <td>EPAM</td>\n",
       "      <td>335.339996</td>\n",
       "      <td>2020-10-06</td>\n",
       "    </tr>\n",
       "    <tr>\n",
       "      <th>2020-10-07</th>\n",
       "      <td>EPAM</td>\n",
       "      <td>344.320007</td>\n",
       "      <td>2020-10-07</td>\n",
       "    </tr>\n",
       "    <tr>\n",
       "      <th>2020-09-18</th>\n",
       "      <td>CWH</td>\n",
       "      <td>30.059999</td>\n",
       "      <td>2020-09-18</td>\n",
       "    </tr>\n",
       "    <tr>\n",
       "      <th>2020-09-21</th>\n",
       "      <td>CWH</td>\n",
       "      <td>30.990000</td>\n",
       "      <td>2020-09-21</td>\n",
       "    </tr>\n",
       "    <tr>\n",
       "      <th>2020-09-22</th>\n",
       "      <td>CWH</td>\n",
       "      <td>31.200001</td>\n",
       "      <td>2020-09-22</td>\n",
       "    </tr>\n",
       "    <tr>\n",
       "      <th>2020-09-23</th>\n",
       "      <td>CWH</td>\n",
       "      <td>29.200001</td>\n",
       "      <td>2020-09-23</td>\n",
       "    </tr>\n",
       "    <tr>\n",
       "      <th>2020-09-24</th>\n",
       "      <td>CWH</td>\n",
       "      <td>28.270000</td>\n",
       "      <td>2020-09-24</td>\n",
       "    </tr>\n",
       "    <tr>\n",
       "      <th>2020-09-25</th>\n",
       "      <td>CWH</td>\n",
       "      <td>28.219999</td>\n",
       "      <td>2020-09-25</td>\n",
       "    </tr>\n",
       "    <tr>\n",
       "      <th>2020-09-28</th>\n",
       "      <td>CWH</td>\n",
       "      <td>28.459999</td>\n",
       "      <td>2020-09-28</td>\n",
       "    </tr>\n",
       "    <tr>\n",
       "      <th>2020-09-29</th>\n",
       "      <td>CWH</td>\n",
       "      <td>28.850000</td>\n",
       "      <td>2020-09-29</td>\n",
       "    </tr>\n",
       "    <tr>\n",
       "      <th>2020-09-30</th>\n",
       "      <td>CWH</td>\n",
       "      <td>29.750000</td>\n",
       "      <td>2020-09-30</td>\n",
       "    </tr>\n",
       "    <tr>\n",
       "      <th>2020-10-01</th>\n",
       "      <td>CWH</td>\n",
       "      <td>31.209999</td>\n",
       "      <td>2020-10-01</td>\n",
       "    </tr>\n",
       "    <tr>\n",
       "      <th>2020-10-02</th>\n",
       "      <td>CWH</td>\n",
       "      <td>31.200001</td>\n",
       "      <td>2020-10-02</td>\n",
       "    </tr>\n",
       "    <tr>\n",
       "      <th>2020-10-05</th>\n",
       "      <td>CWH</td>\n",
       "      <td>32.450001</td>\n",
       "      <td>2020-10-05</td>\n",
       "    </tr>\n",
       "    <tr>\n",
       "      <th>2020-10-06</th>\n",
       "      <td>CWH</td>\n",
       "      <td>31.639999</td>\n",
       "      <td>2020-10-06</td>\n",
       "    </tr>\n",
       "    <tr>\n",
       "      <th>2020-10-07</th>\n",
       "      <td>CWH</td>\n",
       "      <td>32.400002</td>\n",
       "      <td>2020-10-07</td>\n",
       "    </tr>\n",
       "  </tbody>\n",
       "</table>\n",
       "<p>2506 rows × 3 columns</p>\n",
       "</div>"
      ],
      "text/plain": [
       "           Symbol       Close        Day\n",
       "Date                                    \n",
       "2020-09-18  BRK-B  218.210007 2020-09-18\n",
       "2020-09-21  BRK-B  213.020004 2020-09-21\n",
       "2020-09-22  BRK-B  214.160004 2020-09-22\n",
       "2020-09-23  BRK-B  209.610001 2020-09-23\n",
       "2020-09-24  BRK-B  208.720001 2020-09-24\n",
       "2020-09-25  BRK-B  210.449997 2020-09-25\n",
       "2020-09-28  BRK-B  213.539993 2020-09-28\n",
       "2020-09-29  BRK-B  210.440002 2020-09-29\n",
       "2020-09-30  BRK-B  212.940002 2020-09-30\n",
       "2020-10-01  BRK-B  212.020004 2020-10-01\n",
       "2020-10-02  BRK-B  211.179993 2020-10-02\n",
       "2020-10-05  BRK-B  212.360001 2020-10-05\n",
       "2020-10-06  BRK-B  210.259995 2020-10-06\n",
       "2020-10-07  BRK-B  213.289993 2020-10-07\n",
       "2020-09-18     BX   52.700001 2020-09-18\n",
       "2020-09-21     BX   51.730000 2020-09-21\n",
       "2020-09-22     BX   51.299999 2020-09-22\n",
       "2020-09-23     BX   50.790001 2020-09-23\n",
       "2020-09-24     BX   49.950001 2020-09-24\n",
       "2020-09-25     BX   51.150002 2020-09-25\n",
       "2020-09-28     BX   52.660000 2020-09-28\n",
       "2020-09-29     BX   52.709999 2020-09-29\n",
       "2020-09-30     BX   52.200001 2020-09-30\n",
       "2020-10-01     BX   53.509998 2020-10-01\n",
       "2020-10-02     BX   53.680000 2020-10-02\n",
       "2020-10-05     BX   54.290001 2020-10-05\n",
       "2020-10-06     BX   54.040001 2020-10-06\n",
       "2020-10-07     BX   54.459999 2020-10-07\n",
       "2020-09-18    RXL  129.130005 2020-09-18\n",
       "2020-09-21    RXL  123.790001 2020-09-21\n",
       "...           ...         ...        ...\n",
       "2020-10-06    PKI  126.550003 2020-10-06\n",
       "2020-10-07    PKI  128.240005 2020-10-07\n",
       "2020-09-18   EPAM  316.190002 2020-09-18\n",
       "2020-09-21   EPAM  314.299988 2020-09-21\n",
       "2020-09-22   EPAM  321.730011 2020-09-22\n",
       "2020-09-23   EPAM  314.750000 2020-09-23\n",
       "2020-09-24   EPAM  314.980011 2020-09-24\n",
       "2020-09-25   EPAM  322.950012 2020-09-25\n",
       "2020-09-28   EPAM  328.959991 2020-09-28\n",
       "2020-09-29   EPAM  325.559998 2020-09-29\n",
       "2020-09-30   EPAM  323.279999 2020-09-30\n",
       "2020-10-01   EPAM  334.119995 2020-10-01\n",
       "2020-10-02   EPAM  326.920013 2020-10-02\n",
       "2020-10-05   EPAM  333.779999 2020-10-05\n",
       "2020-10-06   EPAM  335.339996 2020-10-06\n",
       "2020-10-07   EPAM  344.320007 2020-10-07\n",
       "2020-09-18    CWH   30.059999 2020-09-18\n",
       "2020-09-21    CWH   30.990000 2020-09-21\n",
       "2020-09-22    CWH   31.200001 2020-09-22\n",
       "2020-09-23    CWH   29.200001 2020-09-23\n",
       "2020-09-24    CWH   28.270000 2020-09-24\n",
       "2020-09-25    CWH   28.219999 2020-09-25\n",
       "2020-09-28    CWH   28.459999 2020-09-28\n",
       "2020-09-29    CWH   28.850000 2020-09-29\n",
       "2020-09-30    CWH   29.750000 2020-09-30\n",
       "2020-10-01    CWH   31.209999 2020-10-01\n",
       "2020-10-02    CWH   31.200001 2020-10-02\n",
       "2020-10-05    CWH   32.450001 2020-10-05\n",
       "2020-10-06    CWH   31.639999 2020-10-06\n",
       "2020-10-07    CWH   32.400002 2020-10-07\n",
       "\n",
       "[2506 rows x 3 columns]"
      ]
     },
     "execution_count": 31,
     "metadata": {},
     "output_type": "execute_result"
    }
   ],
   "source": [
    "Price_History"
   ]
  },
  {
   "cell_type": "code",
   "execution_count": 32,
   "metadata": {
    "collapsed": true
   },
   "outputs": [],
   "source": [
    "historical = pd.merge(combined, Price_History, how = 'outer', on = \"Symbol\", validate=\"many_to_many\")\n"
   ]
  },
  {
   "cell_type": "code",
   "execution_count": 33,
   "metadata": {},
   "outputs": [
    {
     "data": {
      "text/html": [
       "<div>\n",
       "<style scoped>\n",
       "    .dataframe tbody tr th:only-of-type {\n",
       "        vertical-align: middle;\n",
       "    }\n",
       "\n",
       "    .dataframe tbody tr th {\n",
       "        vertical-align: top;\n",
       "    }\n",
       "\n",
       "    .dataframe thead th {\n",
       "        text-align: right;\n",
       "    }\n",
       "</style>\n",
       "<table border=\"1\" class=\"dataframe\">\n",
       "  <thead>\n",
       "    <tr style=\"text-align: right;\">\n",
       "      <th></th>\n",
       "      <th>Name</th>\n",
       "      <th>Symbol</th>\n",
       "      <th># of Shares</th>\n",
       "      <th>Close</th>\n",
       "      <th>Day</th>\n",
       "      <th>Value</th>\n",
       "    </tr>\n",
       "  </thead>\n",
       "  <tbody>\n",
       "    <tr>\n",
       "      <th>0</th>\n",
       "      <td>Estelle Genest</td>\n",
       "      <td>BRK-B</td>\n",
       "      <td>27.496448</td>\n",
       "      <td>218.210007</td>\n",
       "      <td>2020-09-18</td>\n",
       "      <td>6000.000000</td>\n",
       "    </tr>\n",
       "    <tr>\n",
       "      <th>1</th>\n",
       "      <td>Estelle Genest</td>\n",
       "      <td>BRK-B</td>\n",
       "      <td>27.496448</td>\n",
       "      <td>213.020004</td>\n",
       "      <td>2020-09-21</td>\n",
       "      <td>5857.293370</td>\n",
       "    </tr>\n",
       "    <tr>\n",
       "      <th>2</th>\n",
       "      <td>Estelle Genest</td>\n",
       "      <td>BRK-B</td>\n",
       "      <td>27.496448</td>\n",
       "      <td>214.160004</td>\n",
       "      <td>2020-09-22</td>\n",
       "      <td>5888.639304</td>\n",
       "    </tr>\n",
       "    <tr>\n",
       "      <th>3</th>\n",
       "      <td>Estelle Genest</td>\n",
       "      <td>BRK-B</td>\n",
       "      <td>27.496448</td>\n",
       "      <td>209.610001</td>\n",
       "      <td>2020-09-23</td>\n",
       "      <td>5763.530383</td>\n",
       "    </tr>\n",
       "    <tr>\n",
       "      <th>4</th>\n",
       "      <td>Estelle Genest</td>\n",
       "      <td>BRK-B</td>\n",
       "      <td>27.496448</td>\n",
       "      <td>208.720001</td>\n",
       "      <td>2020-09-24</td>\n",
       "      <td>5739.058562</td>\n",
       "    </tr>\n",
       "  </tbody>\n",
       "</table>\n",
       "</div>"
      ],
      "text/plain": [
       "             Name Symbol  # of Shares       Close        Day        Value\n",
       "0  Estelle Genest  BRK-B    27.496448  218.210007 2020-09-18  6000.000000\n",
       "1  Estelle Genest  BRK-B    27.496448  213.020004 2020-09-21  5857.293370\n",
       "2  Estelle Genest  BRK-B    27.496448  214.160004 2020-09-22  5888.639304\n",
       "3  Estelle Genest  BRK-B    27.496448  209.610001 2020-09-23  5763.530383\n",
       "4  Estelle Genest  BRK-B    27.496448  208.720001 2020-09-24  5739.058562"
      ]
     },
     "execution_count": 33,
     "metadata": {},
     "output_type": "execute_result"
    }
   ],
   "source": [
    "historical['Value'] = historical['# of Shares'] * historical['Close']\n",
    "historical.head()"
   ]
  },
  {
   "cell_type": "code",
   "execution_count": 34,
   "metadata": {
    "collapsed": true
   },
   "outputs": [],
   "source": [
    "trend_data = historical.groupby(['Name', 'Day'])['Value'].sum().reset_index().sort_values(['Name', 'Day'])"
   ]
  },
  {
   "cell_type": "code",
   "execution_count": 35,
   "metadata": {},
   "outputs": [
    {
     "data": {
      "text/html": [
       "<div>\n",
       "<style scoped>\n",
       "    .dataframe tbody tr th:only-of-type {\n",
       "        vertical-align: middle;\n",
       "    }\n",
       "\n",
       "    .dataframe tbody tr th {\n",
       "        vertical-align: top;\n",
       "    }\n",
       "\n",
       "    .dataframe thead th {\n",
       "        text-align: right;\n",
       "    }\n",
       "</style>\n",
       "<table border=\"1\" class=\"dataframe\">\n",
       "  <thead>\n",
       "    <tr style=\"text-align: right;\">\n",
       "      <th></th>\n",
       "      <th>Name</th>\n",
       "      <th>Day</th>\n",
       "      <th>Value</th>\n",
       "    </tr>\n",
       "  </thead>\n",
       "  <tbody>\n",
       "    <tr>\n",
       "      <th>0</th>\n",
       "      <td>Alexandra Sautin</td>\n",
       "      <td>2020-09-18</td>\n",
       "      <td>200000.000000</td>\n",
       "    </tr>\n",
       "    <tr>\n",
       "      <th>1</th>\n",
       "      <td>Alexandra Sautin</td>\n",
       "      <td>2020-09-21</td>\n",
       "      <td>198162.070155</td>\n",
       "    </tr>\n",
       "    <tr>\n",
       "      <th>2</th>\n",
       "      <td>Alexandra Sautin</td>\n",
       "      <td>2020-09-22</td>\n",
       "      <td>200718.928114</td>\n",
       "    </tr>\n",
       "    <tr>\n",
       "      <th>3</th>\n",
       "      <td>Alexandra Sautin</td>\n",
       "      <td>2020-09-23</td>\n",
       "      <td>195646.528215</td>\n",
       "    </tr>\n",
       "    <tr>\n",
       "      <th>4</th>\n",
       "      <td>Alexandra Sautin</td>\n",
       "      <td>2020-09-24</td>\n",
       "      <td>195794.595865</td>\n",
       "    </tr>\n",
       "  </tbody>\n",
       "</table>\n",
       "</div>"
      ],
      "text/plain": [
       "               Name        Day          Value\n",
       "0  Alexandra Sautin 2020-09-18  200000.000000\n",
       "1  Alexandra Sautin 2020-09-21  198162.070155\n",
       "2  Alexandra Sautin 2020-09-22  200718.928114\n",
       "3  Alexandra Sautin 2020-09-23  195646.528215\n",
       "4  Alexandra Sautin 2020-09-24  195794.595865"
      ]
     },
     "execution_count": 35,
     "metadata": {},
     "output_type": "execute_result"
    }
   ],
   "source": [
    "trend_data.head()"
   ]
  },
  {
   "cell_type": "code",
   "execution_count": 87,
   "metadata": {
    "collapsed": true
   },
   "outputs": [],
   "source": [
    "import chart_studio.plotly as py\n",
    "import plotly.graph_objs as go\n",
    "from plotly.offline import iplot, init_notebook_mode"
   ]
  },
  {
   "cell_type": "code",
   "execution_count": 36,
   "metadata": {
    "collapsed": true
   },
   "outputs": [],
   "source": [
    "import plotly.express as px\n",
    "\n"
   ]
  },
  {
   "cell_type": "code",
   "execution_count": 37,
   "metadata": {},
   "outputs": [
    {
     "name": "stderr",
     "output_type": "stream",
     "text": [
      "IOPub data rate exceeded.\n",
      "The notebook server will temporarily stop sending output\n",
      "to the client in order to avoid crashing it.\n",
      "To change this limit, set the config variable\n",
      "`--NotebookApp.iopub_data_rate_limit`.\n"
     ]
    },
    {
     "data": {
      "application/vnd.plotly.v1+json": {
       "config": {
        "plotlyServerURL": "https://plot.ly"
       },
       "data": [
        {
         "hoverlabel": {
          "namelength": 0
         },
         "hovertemplate": "Name=%{x}<br>Value=%{y}",
         "legendgroup": "Name=Alexandra Sautin",
         "line": {
          "color": "#636efa",
          "dash": "solid"
         },
         "mode": "lines",
         "name": "Name=Alexandra Sautin",
         "showlegend": true,
         "type": "scatter",
         "x": [
          "Alexandra Sautin",
          "Alexandra Sautin",
          "Alexandra Sautin",
          "Alexandra Sautin",
          "Alexandra Sautin",
          "Alexandra Sautin",
          "Alexandra Sautin",
          "Alexandra Sautin",
          "Alexandra Sautin",
          "Alexandra Sautin",
          "Alexandra Sautin",
          "Alexandra Sautin",
          "Alexandra Sautin",
          "Alexandra Sautin"
         ],
         "xaxis": "x",
         "y": [
          200000,
          198162.0701545297,
          200718.92811431838,
          195646.52821488422,
          195794.59586539428,
          198847.62731383607,
          201543.45049897276,
          201310.19150137657,
          201885.41321746563,
          202745.92255231456,
          200581.40420767386,
          203769.36008027574,
          200251.30147674654,
          203226.88626553118
         ],
         "yaxis": "y"
        },
        {
         "hoverlabel": {
          "namelength": 0
         },
         "hovertemplate": "Name=%{x}<br>Value=%{y}",
         "legendgroup": "Name=Amy Acerra",
         "line": {
          "color": "#EF553B",
          "dash": "solid"
         },
         "mode": "lines",
         "name": "Name=Amy Acerra",
         "showlegend": true,
         "type": "scatter",
         "x": [
          "Amy Acerra",
          "Amy Acerra",
          "Amy Acerra",
          "Amy Acerra",
          "Amy Acerra",
          "Amy Acerra",
          "Amy Acerra",
          "Amy Acerra",
          "Amy Acerra",
          "Amy Acerra",
          "Amy Acerra",
          "Amy Acerra",
          "Amy Acerra",
          "Amy Acerra"
         ],
         "xaxis": "x",
         "y": [
          200000,
          201271.71175662795,
          196070.03810879373,
          181353.36153447954,
          183488.56649875068,
          190318.24027523716,
          195737.581969303,
          194425.01335639734,
          197573.48717911885,
          204178.87201802744,
          193859.0490249395,
          198200.08072379505,
          193689.1150141263,
          198545.8481337968
         ],
         "yaxis": "y"
        },
        {
         "hoverlabel": {
          "namelength": 0
         },
         "hovertemplate": "Name=%{x}<br>Value=%{y}",
         "legendgroup": "Name=Angela Calsolaro",
         "line": {
          "color": "#00cc96",
          "dash": "solid"
         },
         "mode": "lines",
         "name": "Name=Angela Calsolaro",
         "showlegend": true,
         "type": "scatter",
         "x": [
          "Angela Calsolaro",
          "Angela Calsolaro",
          "Angela Calsolaro",
          "Angela Calsolaro",
          "Angela Calsolaro",
          "Angela Calsolaro",
          "Angela Calsolaro",
          "Angela Calsolaro",
          "Angela Calsolaro",
          "Angela Calsolaro",
          "Angela Calsolaro",
          "Angela Calsolaro",
          "Angela Calsolaro",
          "Angela Calsolaro"
         ],
         "xaxis": "x",
         "y": [
          190000,
          189445.31248220764,
          190238.5542361528,
          183835.3277999558,
          183535.84434067496,
          187574.49540106734,
          190283.86488337634,
          190359.73723444075,
          191702.84489284817,
          193874.9787474759,
          193385.90714345107,
          195437.7977865206,
          190945.2886398713,
          194114.4679043105
         ],
         "yaxis": "y"
        },
        {
         "hoverlabel": {
          "namelength": 0
         },
         "hovertemplate": "Name=%{x}<br>Value=%{y}",
         "legendgroup": "Name=Barbaranne Way",
         "line": {
          "color": "#ab63fa",
          "dash": "solid"
         },
         "mode": "lines",
         "name": "Name=Barbaranne Way",
         "showlegend": true,
         "type": "scatter",
         "x": [
          "Barbaranne Way",
          "Barbaranne Way",
          "Barbaranne Way",
          "Barbaranne Way",
          "Barbaranne Way",
          "Barbaranne Way",
          "Barbaranne Way",
          "Barbaranne Way",
          "Barbaranne Way",
          "Barbaranne Way",
          "Barbaranne Way",
          "Barbaranne Way",
          "Barbaranne Way",
          "Barbaranne Way"
         ],
         "xaxis": "x",
         "y": [
          200000,
          201995.92963307342,
          201448.03025913486,
          192407.95220395806,
          189344.34516934064,
          192733.0004822144,
          192697.72949904148,
          192037.65504094496,
          193061.43144781265,
          196837.4629216778,
          195685.04293823158,
          199311.91210573423,
          196140.74995262283,
          199590.96909620607
         ],
         "yaxis": "y"
        },
        {
         "hoverlabel": {
          "namelength": 0
         },
         "hovertemplate": "Name=%{x}<br>Value=%{y}",
         "legendgroup": "Name=Bradley Bonfante",
         "line": {
          "color": "#FFA15A",
          "dash": "solid"
         },
         "mode": "lines",
         "name": "Name=Bradley Bonfante",
         "showlegend": true,
         "type": "scatter",
         "x": [
          "Bradley Bonfante",
          "Bradley Bonfante",
          "Bradley Bonfante",
          "Bradley Bonfante",
          "Bradley Bonfante",
          "Bradley Bonfante",
          "Bradley Bonfante",
          "Bradley Bonfante",
          "Bradley Bonfante",
          "Bradley Bonfante",
          "Bradley Bonfante",
          "Bradley Bonfante",
          "Bradley Bonfante",
          "Bradley Bonfante"
         ],
         "xaxis": "x",
         "y": [
          200000,
          200281.18805899235,
          205742.0289826964,
          199762.96673402243,
          198012.675362408,
          202752.36564217138,
          207304.90928899194,
          207202.7592480859,
          210145.22422619647,
          211254.03215557002,
          207761.00241743252,
          211765.01042492045,
          207933.23797695027,
          211434.42876513774
         ],
         "yaxis": "y"
        },
        {
         "hoverlabel": {
          "namelength": 0
         },
         "hovertemplate": "Name=%{x}<br>Value=%{y}",
         "legendgroup": "Name=Claire Moylan",
         "line": {
          "color": "#19d3f3",
          "dash": "solid"
         },
         "mode": "lines",
         "name": "Name=Claire Moylan",
         "showlegend": true,
         "type": "scatter",
         "x": [
          "Claire Moylan",
          "Claire Moylan",
          "Claire Moylan",
          "Claire Moylan",
          "Claire Moylan",
          "Claire Moylan",
          "Claire Moylan",
          "Claire Moylan",
          "Claire Moylan",
          "Claire Moylan",
          "Claire Moylan",
          "Claire Moylan",
          "Claire Moylan",
          "Claire Moylan"
         ],
         "xaxis": "x",
         "y": [
          200000,
          198472.96709792828,
          202543.42531899983,
          197126.8231472709,
          195851.3300970074,
          197875.59078349714,
          202354.9813161644,
          201545.75061085884,
          202629.89530391517,
          207611.86395968377,
          205475.3867209647,
          209930.67750474665,
          206583.1910103909,
          211678.21832720703
         ],
         "yaxis": "y"
        },
        {
         "hoverlabel": {
          "namelength": 0
         },
         "hovertemplate": "Name=%{x}<br>Value=%{y}",
         "legendgroup": "Name=Dan Cancelliere",
         "line": {
          "color": "#FF6692",
          "dash": "solid"
         },
         "mode": "lines",
         "name": "Name=Dan Cancelliere",
         "showlegend": true,
         "type": "scatter",
         "x": [
          "Dan Cancelliere",
          "Dan Cancelliere",
          "Dan Cancelliere",
          "Dan Cancelliere",
          "Dan Cancelliere",
          "Dan Cancelliere",
          "Dan Cancelliere",
          "Dan Cancelliere",
          "Dan Cancelliere",
          "Dan Cancelliere",
          "Dan Cancelliere",
          "Dan Cancelliere",
          "Dan Cancelliere",
          "Dan Cancelliere"
         ],
         "xaxis": "x",
         "y": [
          200000,
          191988.94959544754,
          191491.59741477412,
          185578.29411623516,
          183657.6671240248,
          191347.84771973005,
          195431.03188815477,
          193100.32447441726,
          195909.86139441188,
          198764.7817489016,
          196907.9999991316,
          197596.2028794362,
          194942.14615554648,
          200285.99560236427
         ],
         "yaxis": "y"
        },
        {
         "hoverlabel": {
          "namelength": 0
         },
         "hovertemplate": "Name=%{x}<br>Value=%{y}",
         "legendgroup": "Name=Danish Sharpe",
         "line": {
          "color": "#B6E880",
          "dash": "solid"
         },
         "mode": "lines",
         "name": "Name=Danish Sharpe",
         "showlegend": true,
         "type": "scatter",
         "x": [
          "Danish Sharpe",
          "Danish Sharpe",
          "Danish Sharpe",
          "Danish Sharpe",
          "Danish Sharpe",
          "Danish Sharpe",
          "Danish Sharpe",
          "Danish Sharpe",
          "Danish Sharpe",
          "Danish Sharpe",
          "Danish Sharpe",
          "Danish Sharpe",
          "Danish Sharpe",
          "Danish Sharpe"
         ],
         "xaxis": "x",
         "y": [
          200000,
          202889.31007005283,
          207277.45847989782,
          204031.87048105296,
          199235.94256306745,
          204882.55068628964,
          205751.53995592744,
          204015.65593360417,
          204867.59510605913,
          209727.60681155822,
          206735.75825560346,
          209400.55392066727,
          206310.92976765643,
          208784.8063907283
         ],
         "yaxis": "y"
        },
        {
         "hoverlabel": {
          "namelength": 0
         },
         "hovertemplate": "Name=%{x}<br>Value=%{y}",
         "legendgroup": "Name=David Hunn",
         "line": {
          "color": "#FF97FF",
          "dash": "solid"
         },
         "mode": "lines",
         "name": "Name=David Hunn",
         "showlegend": true,
         "type": "scatter",
         "x": [
          "David Hunn",
          "David Hunn",
          "David Hunn",
          "David Hunn",
          "David Hunn",
          "David Hunn",
          "David Hunn",
          "David Hunn",
          "David Hunn",
          "David Hunn",
          "David Hunn",
          "David Hunn",
          "David Hunn",
          "David Hunn"
         ],
         "xaxis": "x",
         "y": [
          200000,
          185741.20958187743,
          186249.48853352398,
          172557.90927807993,
          170524.31439134505,
          172026.07550384605,
          174392.24085776485,
          171601.1127361295,
          174255.3611908522,
          177644.28898091835,
          178871.73122168792,
          181824.84175345022,
          178870.1752840208,
          184418.67059536238
         ],
         "yaxis": "y"
        },
        {
         "hoverlabel": {
          "namelength": 0
         },
         "hovertemplate": "Name=%{x}<br>Value=%{y}",
         "legendgroup": "Name=Eli Rabinowitz",
         "line": {
          "color": "#FECB52",
          "dash": "solid"
         },
         "mode": "lines",
         "name": "Name=Eli Rabinowitz",
         "showlegend": true,
         "type": "scatter",
         "x": [
          "Eli Rabinowitz",
          "Eli Rabinowitz",
          "Eli Rabinowitz",
          "Eli Rabinowitz",
          "Eli Rabinowitz",
          "Eli Rabinowitz",
          "Eli Rabinowitz",
          "Eli Rabinowitz",
          "Eli Rabinowitz",
          "Eli Rabinowitz",
          "Eli Rabinowitz",
          "Eli Rabinowitz",
          "Eli Rabinowitz",
          "Eli Rabinowitz"
         ],
         "xaxis": "x",
         "y": [
          200000,
          190741.57197819895,
          192916.99193579188,
          185732.63518456815,
          183378.213078667,
          187043.7276270776,
          192369.01485620186,
          192074.47830302993,
          196670.64630216302,
          199147.03982649674,
          200799.07031555605,
          201141.81738107084,
          196341.5288117871,
          197085.58822919856
         ],
         "yaxis": "y"
        },
        {
         "hoverlabel": {
          "namelength": 0
         },
         "hovertemplate": "Name=%{x}<br>Value=%{y}",
         "legendgroup": "Name=Estelle Genest",
         "line": {
          "color": "#636efa",
          "dash": "solid"
         },
         "mode": "lines",
         "name": "Name=Estelle Genest",
         "showlegend": true,
         "type": "scatter",
         "x": [
          "Estelle Genest",
          "Estelle Genest",
          "Estelle Genest",
          "Estelle Genest",
          "Estelle Genest",
          "Estelle Genest",
          "Estelle Genest",
          "Estelle Genest",
          "Estelle Genest",
          "Estelle Genest",
          "Estelle Genest",
          "Estelle Genest",
          "Estelle Genest",
          "Estelle Genest"
         ],
         "xaxis": "x",
         "y": [
          200000,
          198783.73120357987,
          202137.0543514141,
          196570.71291716438,
          196446.31551053823,
          201816.24780411788,
          204589.27823929058,
          203837.46374987962,
          206901.82350298713,
          208658.82753957782,
          204479.16217336935,
          211374.60762740282,
          206256.52039666616,
          210921.11930123024
         ],
         "yaxis": "y"
        },
        {
         "hoverlabel": {
          "namelength": 0
         },
         "hovertemplate": "Name=%{x}<br>Value=%{y}",
         "legendgroup": "Name=Giuseppe Tedesco",
         "line": {
          "color": "#EF553B",
          "dash": "solid"
         },
         "mode": "lines",
         "name": "Name=Giuseppe Tedesco",
         "showlegend": true,
         "type": "scatter",
         "x": [
          "Giuseppe Tedesco",
          "Giuseppe Tedesco",
          "Giuseppe Tedesco",
          "Giuseppe Tedesco",
          "Giuseppe Tedesco",
          "Giuseppe Tedesco",
          "Giuseppe Tedesco",
          "Giuseppe Tedesco",
          "Giuseppe Tedesco",
          "Giuseppe Tedesco",
          "Giuseppe Tedesco",
          "Giuseppe Tedesco",
          "Giuseppe Tedesco",
          "Giuseppe Tedesco"
         ],
         "xaxis": "x",
         "y": [
          200000,
          199541.8278995987,
          205728.59698485475,
          200995.13359419798,
          200666.5283344222,
          204841.8406717116,
          207221.3314559286,
          206503.37634233854,
          205693.58098650273,
          208052.06261439386,
          206076.326006354,
          212703.86826129418,
          207071.91128798894,
          211095.86344892185
         ],
         "yaxis": "y"
        },
        {
         "hoverlabel": {
          "namelength": 0
         },
         "hovertemplate": "Name=%{x}<br>Value=%{y}",
         "legendgroup": "Name=Jacqueline Lorenz",
         "line": {
          "color": "#00cc96",
          "dash": "solid"
         },
         "mode": "lines",
         "name": "Name=Jacqueline Lorenz",
         "showlegend": true,
         "type": "scatter",
         "x": [
          "Jacqueline Lorenz",
          "Jacqueline Lorenz",
          "Jacqueline Lorenz",
          "Jacqueline Lorenz",
          "Jacqueline Lorenz",
          "Jacqueline Lorenz",
          "Jacqueline Lorenz",
          "Jacqueline Lorenz",
          "Jacqueline Lorenz",
          "Jacqueline Lorenz",
          "Jacqueline Lorenz",
          "Jacqueline Lorenz",
          "Jacqueline Lorenz",
          "Jacqueline Lorenz"
         ],
         "xaxis": "x",
         "y": [
          200000,
          200071.67260376233,
          205658.15748121805,
          194834.41173912463,
          192887.59250258128,
          200516.3922087289,
          208491.9127281856,
          207316.64341029746,
          208900.49616660646,
          211380.4314310687,
          203597.14937296137,
          208164.98495217954,
          204691.92105521812,
          208060.4577529391
         ],
         "yaxis": "y"
        },
        {
         "hoverlabel": {
          "namelength": 0
         },
         "hovertemplate": "Name=%{x}<br>Value=%{y}",
         "legendgroup": "Name=Jennah Hebert",
         "line": {
          "color": "#ab63fa",
          "dash": "solid"
         },
         "mode": "lines",
         "name": "Name=Jennah Hebert",
         "showlegend": true,
         "type": "scatter",
         "x": [
          "Jennah Hebert",
          "Jennah Hebert",
          "Jennah Hebert",
          "Jennah Hebert",
          "Jennah Hebert",
          "Jennah Hebert",
          "Jennah Hebert",
          "Jennah Hebert",
          "Jennah Hebert",
          "Jennah Hebert",
          "Jennah Hebert",
          "Jennah Hebert",
          "Jennah Hebert",
          "Jennah Hebert"
         ],
         "xaxis": "x",
         "y": [
          200000,
          203274.91613791502,
          191894.1611862369,
          172050.2049540283,
          175411.0658817337,
          184254.21325834355,
          190523.5861229672,
          189560.10996681408,
          194056.32282607895,
          202718.53888887854,
          187759.81095459248,
          192550.03892432075,
          187257.72552345603,
          192378.14934474
         ],
         "yaxis": "y"
        },
        {
         "hoverlabel": {
          "namelength": 0
         },
         "hovertemplate": "Name=%{x}<br>Value=%{y}",
         "legendgroup": "Name=Jennah Hebert v2",
         "line": {
          "color": "#FFA15A",
          "dash": "solid"
         },
         "mode": "lines",
         "name": "Name=Jennah Hebert v2",
         "showlegend": true,
         "type": "scatter",
         "x": [
          "Jennah Hebert v2",
          "Jennah Hebert v2",
          "Jennah Hebert v2",
          "Jennah Hebert v2",
          "Jennah Hebert v2",
          "Jennah Hebert v2",
          "Jennah Hebert v2",
          "Jennah Hebert v2",
          "Jennah Hebert v2",
          "Jennah Hebert v2",
          "Jennah Hebert v2",
          "Jennah Hebert v2",
          "Jennah Hebert v2",
          "Jennah Hebert v2"
         ],
         "xaxis": "x",
         "y": [
          200000,
          205769.3166693,
          213013.2979226413,
          211358.77951367322,
          204409.6641900194,
          211554.9939386942,
          212167.32140692702,
          210679.31502474123,
          215442.72452565352,
          219648.68369148675,
          220849.8915926496,
          224557.96329082554,
          221080.0265962466,
          226243.42696738726
         ],
         "yaxis": "y"
        },
        {
         "hoverlabel": {
          "namelength": 0
         },
         "hovertemplate": "Name=%{x}<br>Value=%{y}",
         "legendgroup": "Name=Joe Geis",
         "line": {
          "color": "#19d3f3",
          "dash": "solid"
         },
         "mode": "lines",
         "name": "Name=Joe Geis",
         "showlegend": true,
         "type": "scatter",
         "x": [
          "Joe Geis",
          "Joe Geis",
          "Joe Geis",
          "Joe Geis",
          "Joe Geis",
          "Joe Geis",
          "Joe Geis",
          "Joe Geis",
          "Joe Geis",
          "Joe Geis",
          "Joe Geis",
          "Joe Geis",
          "Joe Geis",
          "Joe Geis"
         ],
         "xaxis": "x",
         "y": [
          200000,
          197884.7156257216,
          198856.41999348902,
          186531.1946890211,
          190807.87812873785,
          195387.84339033774,
          205078.46945028353,
          206813.8906780623,
          206395.95311410917,
          206945.85237920439,
          196871.64316101928,
          203563.18605623898,
          202092.68591984973,
          205198.20010434662
         ],
         "yaxis": "y"
        },
        {
         "hoverlabel": {
          "namelength": 0
         },
         "hovertemplate": "Name=%{x}<br>Value=%{y}",
         "legendgroup": "Name=Joseph Lindner",
         "line": {
          "color": "#FF6692",
          "dash": "solid"
         },
         "mode": "lines",
         "name": "Name=Joseph Lindner",
         "showlegend": true,
         "type": "scatter",
         "x": [
          "Joseph Lindner",
          "Joseph Lindner",
          "Joseph Lindner",
          "Joseph Lindner",
          "Joseph Lindner",
          "Joseph Lindner",
          "Joseph Lindner",
          "Joseph Lindner",
          "Joseph Lindner",
          "Joseph Lindner",
          "Joseph Lindner",
          "Joseph Lindner",
          "Joseph Lindner",
          "Joseph Lindner"
         ],
         "xaxis": "x",
         "y": [
          200000,
          198104.0989092531,
          201990.91356796314,
          199739.4376501357,
          209524.86166694906,
          217538.5934715825,
          218531.95795170162,
          220530.33779905646,
          219954.05225913037,
          224696.03515698155,
          222000.74333630042,
          226724.77280696997,
          224225.6483319279,
          229341.9789110898
         ],
         "yaxis": "y"
        },
        {
         "hoverlabel": {
          "namelength": 0
         },
         "hovertemplate": "Name=%{x}<br>Value=%{y}",
         "legendgroup": "Name=Kelly Nicholson",
         "line": {
          "color": "#B6E880",
          "dash": "solid"
         },
         "mode": "lines",
         "name": "Name=Kelly Nicholson",
         "showlegend": true,
         "type": "scatter",
         "x": [
          "Kelly Nicholson",
          "Kelly Nicholson",
          "Kelly Nicholson",
          "Kelly Nicholson",
          "Kelly Nicholson",
          "Kelly Nicholson",
          "Kelly Nicholson",
          "Kelly Nicholson",
          "Kelly Nicholson",
          "Kelly Nicholson",
          "Kelly Nicholson",
          "Kelly Nicholson",
          "Kelly Nicholson",
          "Kelly Nicholson"
         ],
         "xaxis": "x",
         "y": [
          200000,
          203487.62486042973,
          200218.58169543662,
          211646.15168358703,
          207568.90460765245,
          204688.05624471692,
          200059.3955206258,
          199001.81309885066,
          198271.82312890404,
          194851.06660597346,
          200645.6310049261,
          195259.5624313228,
          202113.99311880194,
          198442.6138130243
         ],
         "yaxis": "y"
        },
        {
         "hoverlabel": {
          "namelength": 0
         },
         "hovertemplate": "Name=%{x}<br>Value=%{y}",
         "legendgroup": "Name=Kristen Kiefer",
         "line": {
          "color": "#FF97FF",
          "dash": "solid"
         },
         "mode": "lines",
         "name": "Name=Kristen Kiefer",
         "showlegend": true,
         "type": "scatter",
         "x": [
          "Kristen Kiefer",
          "Kristen Kiefer",
          "Kristen Kiefer",
          "Kristen Kiefer",
          "Kristen Kiefer",
          "Kristen Kiefer",
          "Kristen Kiefer",
          "Kristen Kiefer",
          "Kristen Kiefer",
          "Kristen Kiefer",
          "Kristen Kiefer",
          "Kristen Kiefer",
          "Kristen Kiefer",
          "Kristen Kiefer"
         ],
         "xaxis": "x",
         "y": [
          200000,
          202101.27648904314,
          206967.69482112082,
          199718.49778274426,
          200704.64988779905,
          204960.7180298402,
          208426.14633953798,
          207080.31665739603,
          208441.4193204955,
          212045.24603127816,
          204971.67986379517,
          209602.56202270472,
          204591.2098749925,
          207154.02194552813
         ],
         "yaxis": "y"
        },
        {
         "hoverlabel": {
          "namelength": 0
         },
         "hovertemplate": "Name=%{x}<br>Value=%{y}",
         "legendgroup": "Name=Kwun Chan",
         "line": {
          "color": "#FECB52",
          "dash": "solid"
         },
         "mode": "lines",
         "name": "Name=Kwun Chan",
         "showlegend": true,
         "type": "scatter",
         "x": [
          "Kwun Chan",
          "Kwun Chan",
          "Kwun Chan",
          "Kwun Chan",
          "Kwun Chan",
          "Kwun Chan",
          "Kwun Chan",
          "Kwun Chan",
          "Kwun Chan",
          "Kwun Chan",
          "Kwun Chan",
          "Kwun Chan",
          "Kwun Chan",
          "Kwun Chan"
         ],
         "xaxis": "x",
         "y": [
          200000,
          202457.98173661553,
          205408.70629131692,
          197402.91809389915,
          198248.08850527852,
          205260.7892400765,
          208747.1458051349,
          208541.4210829624,
          210446.08139276603,
          213532.45033636116,
          207871.46813022456,
          213567.10684799007,
          209907.56473409486,
          214814.01574461837
         ],
         "yaxis": "y"
        },
        {
         "hoverlabel": {
          "namelength": 0
         },
         "hovertemplate": "Name=%{x}<br>Value=%{y}",
         "legendgroup": "Name=Linday Sheridan",
         "line": {
          "color": "#636efa",
          "dash": "solid"
         },
         "mode": "lines",
         "name": "Name=Linday Sheridan",
         "showlegend": true,
         "type": "scatter",
         "x": [
          "Linday Sheridan",
          "Linday Sheridan",
          "Linday Sheridan",
          "Linday Sheridan",
          "Linday Sheridan",
          "Linday Sheridan",
          "Linday Sheridan",
          "Linday Sheridan",
          "Linday Sheridan",
          "Linday Sheridan",
          "Linday Sheridan",
          "Linday Sheridan",
          "Linday Sheridan",
          "Linday Sheridan"
         ],
         "xaxis": "x",
         "y": [
          200000,
          197894.83853125531,
          198691.73621848138,
          192417.1769288982,
          192893.9523562909,
          195313.41982806934,
          198545.40174963046,
          198939.9057069481,
          199429.0865146894,
          199826.28523160645,
          198313.48638626566,
          202235.37788627777,
          199325.02180739577,
          201033.32770003442
         ],
         "yaxis": "y"
        },
        {
         "hoverlabel": {
          "namelength": 0
         },
         "hovertemplate": "Name=%{x}<br>Value=%{y}",
         "legendgroup": "Name=Lindsey Pelerin",
         "line": {
          "color": "#EF553B",
          "dash": "solid"
         },
         "mode": "lines",
         "name": "Name=Lindsey Pelerin",
         "showlegend": true,
         "type": "scatter",
         "x": [
          "Lindsey Pelerin",
          "Lindsey Pelerin",
          "Lindsey Pelerin",
          "Lindsey Pelerin",
          "Lindsey Pelerin",
          "Lindsey Pelerin",
          "Lindsey Pelerin",
          "Lindsey Pelerin",
          "Lindsey Pelerin",
          "Lindsey Pelerin",
          "Lindsey Pelerin",
          "Lindsey Pelerin",
          "Lindsey Pelerin",
          "Lindsey Pelerin"
         ],
         "xaxis": "x",
         "y": [
          200000,
          195542.3325974861,
          203874.54925500858,
          192100.36999044882,
          196670.67420041346,
          200161.98800890107,
          211753.63749065748,
          214399.79517891834,
          211142.58806949604,
          210455.48394842888,
          200381.18777211558,
          208267.25843862066,
          207033.78328916046,
          210648.4727608834
         ],
         "yaxis": "y"
        },
        {
         "hoverlabel": {
          "namelength": 0
         },
         "hovertemplate": "Name=%{x}<br>Value=%{y}",
         "legendgroup": "Name=Luke Scarchilli",
         "line": {
          "color": "#00cc96",
          "dash": "solid"
         },
         "mode": "lines",
         "name": "Name=Luke Scarchilli",
         "showlegend": true,
         "type": "scatter",
         "x": [
          "Luke Scarchilli",
          "Luke Scarchilli",
          "Luke Scarchilli",
          "Luke Scarchilli",
          "Luke Scarchilli",
          "Luke Scarchilli",
          "Luke Scarchilli",
          "Luke Scarchilli",
          "Luke Scarchilli",
          "Luke Scarchilli",
          "Luke Scarchilli",
          "Luke Scarchilli",
          "Luke Scarchilli",
          "Luke Scarchilli"
         ],
         "xaxis": "x",
         "y": [
          200000,
          196840.51281859018,
          199510.26399254776,
          194579.56730130044,
          193538.52100382297,
          197056.69628202784,
          200375.37478205148,
          199478.2847886549,
          200773.79479244683,
          202111.01537243655,
          201035.75087454534,
          203867.53318561745,
          200211.76947339764,
          204134.06005344877
         ],
         "yaxis": "y"
        },
        {
         "hoverlabel": {
          "namelength": 0
         },
         "hovertemplate": "Name=%{x}<br>Value=%{y}",
         "legendgroup": "Name=Maggie Mahota",
         "line": {
          "color": "#ab63fa",
          "dash": "solid"
         },
         "mode": "lines",
         "name": "Name=Maggie Mahota",
         "showlegend": true,
         "type": "scatter",
         "x": [
          "Maggie Mahota",
          "Maggie Mahota",
          "Maggie Mahota",
          "Maggie Mahota",
          "Maggie Mahota",
          "Maggie Mahota",
          "Maggie Mahota",
          "Maggie Mahota",
          "Maggie Mahota",
          "Maggie Mahota",
          "Maggie Mahota",
          "Maggie Mahota",
          "Maggie Mahota",
          "Maggie Mahota"
         ],
         "xaxis": "x",
         "y": [
          200000,
          198963.3010997555,
          208003.22185837268,
          202183.93864747242,
          201113.01690510553,
          206315.3339405581,
          210376.88642789566,
          208689.29625796786,
          208973.57821515767,
          215566.51730748606,
          213152.36877939143,
          216054.47264762534,
          210923.39429118478,
          215250.13550997752
         ],
         "yaxis": "y"
        },
        {
         "hoverlabel": {
          "namelength": 0
         },
         "hovertemplate": "Name=%{x}<br>Value=%{y}",
         "legendgroup": "Name=Melissa Lomaestro",
         "line": {
          "color": "#FFA15A",
          "dash": "solid"
         },
         "mode": "lines",
         "name": "Name=Melissa Lomaestro",
         "showlegend": true,
         "type": "scatter",
         "x": [
          "Melissa Lomaestro",
          "Melissa Lomaestro",
          "Melissa Lomaestro",
          "Melissa Lomaestro",
          "Melissa Lomaestro",
          "Melissa Lomaestro",
          "Melissa Lomaestro",
          "Melissa Lomaestro",
          "Melissa Lomaestro",
          "Melissa Lomaestro",
          "Melissa Lomaestro",
          "Melissa Lomaestro",
          "Melissa Lomaestro",
          "Melissa Lomaestro"
         ],
         "xaxis": "x",
         "y": [
          200000,
          198762.5001837287,
          203348.810846145,
          198867.82337979216,
          197800.35438430213,
          203023.98163879893,
          206163.30280236073,
          204447.9881955724,
          206176.73004966494,
          209133.22187895732,
          207319.1806411874,
          209978.07155977114,
          205566.1741381656,
          208261.160275366
         ],
         "yaxis": "y"
        },
        {
         "hoverlabel": {
          "namelength": 0
         },
         "hovertemplate": "Name=%{x}<br>Value=%{y}",
         "legendgroup": "Name=Melissa Stamper",
         "line": {
          "color": "#19d3f3",
          "dash": "solid"
         },
         "mode": "lines",
         "name": "Name=Melissa Stamper",
         "showlegend": true,
         "type": "scatter",
         "x": [
          "Melissa Stamper",
          "Melissa Stamper",
          "Melissa Stamper",
          "Melissa Stamper",
          "Melissa Stamper",
          "Melissa Stamper",
          "Melissa Stamper",
          "Melissa Stamper",
          "Melissa Stamper",
          "Melissa Stamper",
          "Melissa Stamper",
          "Melissa Stamper",
          "Melissa Stamper",
          "Melissa Stamper"
         ],
         "xaxis": "x",
         "y": [
          200000,
          197164.77898496203,
          199978.37017895424,
          194064.85426536523,
          194232.25752804047,
          201163.06013304286,
          205140.325765046,
          204885.250320019,
          205727.15018109165,
          207082.76407131035,
          206090.91839705006,
          211316.3869619017,
          211553.97868339578,
          217388.06635624255
         ],
         "yaxis": "y"
        },
        {
         "hoverlabel": {
          "namelength": 0
         },
         "hovertemplate": "Name=%{x}<br>Value=%{y}",
         "legendgroup": "Name=Michael Brandt",
         "line": {
          "color": "#FF6692",
          "dash": "solid"
         },
         "mode": "lines",
         "name": "Name=Michael Brandt",
         "showlegend": true,
         "type": "scatter",
         "x": [
          "Michael Brandt",
          "Michael Brandt",
          "Michael Brandt",
          "Michael Brandt",
          "Michael Brandt",
          "Michael Brandt",
          "Michael Brandt",
          "Michael Brandt",
          "Michael Brandt",
          "Michael Brandt",
          "Michael Brandt",
          "Michael Brandt",
          "Michael Brandt",
          "Michael Brandt"
         ],
         "xaxis": "x",
         "y": [
          200000,
          192732.14361372287,
          198071.9533676009,
          189220.7276199431,
          183499.49930010768,
          192453.3415623367,
          199639.25105761745,
          193707.44907867914,
          196816.24965832857,
          205317.71719332255,
          214012.4975484402,
          214673.04413939704,
          205997.3832408281,
          210549.29579944626
         ],
         "yaxis": "y"
        },
        {
         "hoverlabel": {
          "namelength": 0
         },
         "hovertemplate": "Name=%{x}<br>Value=%{y}",
         "legendgroup": "Name=Nicholas Capullo",
         "line": {
          "color": "#B6E880",
          "dash": "solid"
         },
         "mode": "lines",
         "name": "Name=Nicholas Capullo",
         "showlegend": true,
         "type": "scatter",
         "x": [
          "Nicholas Capullo",
          "Nicholas Capullo",
          "Nicholas Capullo",
          "Nicholas Capullo",
          "Nicholas Capullo",
          "Nicholas Capullo",
          "Nicholas Capullo",
          "Nicholas Capullo",
          "Nicholas Capullo",
          "Nicholas Capullo",
          "Nicholas Capullo",
          "Nicholas Capullo",
          "Nicholas Capullo",
          "Nicholas Capullo"
         ],
         "xaxis": "x",
         "y": [
          200000,
          201157.90366452056,
          197865.6242914255,
          183581.87834595836,
          185884.11143339053,
          192451.81580679637,
          197711.0880873897,
          198675.56000488842,
          202081.52876742202,
          207622.1603704106,
          197942.08386485794,
          202250.93130889078,
          196785.61738029434,
          201818.62705650256
         ],
         "yaxis": "y"
        },
        {
         "hoverlabel": {
          "namelength": 0
         },
         "hovertemplate": "Name=%{x}<br>Value=%{y}",
         "legendgroup": "Name=Nori Lansing",
         "line": {
          "color": "#FF97FF",
          "dash": "solid"
         },
         "mode": "lines",
         "name": "Name=Nori Lansing",
         "showlegend": true,
         "type": "scatter",
         "x": [
          "Nori Lansing",
          "Nori Lansing",
          "Nori Lansing",
          "Nori Lansing",
          "Nori Lansing",
          "Nori Lansing",
          "Nori Lansing",
          "Nori Lansing",
          "Nori Lansing",
          "Nori Lansing",
          "Nori Lansing",
          "Nori Lansing",
          "Nori Lansing",
          "Nori Lansing"
         ],
         "xaxis": "x",
         "y": [
          200000,
          196712.69557980594,
          201529.33081692862,
          196004.45881431713,
          198049.5784414317,
          204397.69066816103,
          206011.984312479,
          206979.6208393046,
          205823.58666541014,
          209866.49234440541,
          207015.40628993115,
          212378.84636003617,
          213749.01632461557,
          222754.4261155397
         ],
         "yaxis": "y"
        },
        {
         "hoverlabel": {
          "namelength": 0
         },
         "hovertemplate": "Name=%{x}<br>Value=%{y}",
         "legendgroup": "Name=Pete Lindner",
         "line": {
          "color": "#FECB52",
          "dash": "solid"
         },
         "mode": "lines",
         "name": "Name=Pete Lindner",
         "showlegend": true,
         "type": "scatter",
         "x": [
          "Pete Lindner",
          "Pete Lindner",
          "Pete Lindner",
          "Pete Lindner",
          "Pete Lindner",
          "Pete Lindner",
          "Pete Lindner",
          "Pete Lindner",
          "Pete Lindner",
          "Pete Lindner",
          "Pete Lindner",
          "Pete Lindner",
          "Pete Lindner",
          "Pete Lindner"
         ],
         "xaxis": "x",
         "y": [
          200000,
          198031.53843196755,
          193633.55876756206,
          185942.5737362941,
          176199.45675612343,
          180847.89054164744,
          187765.8132451354,
          198670.3801968951,
          191098.5338879296,
          183823.13206457486,
          172526.85535426284,
          174788.96658114824,
          166296.96638210083,
          156630.05339716532
         ],
         "yaxis": "y"
        },
        {
         "hoverlabel": {
          "namelength": 0
         },
         "hovertemplate": "Name=%{x}<br>Value=%{y}",
         "legendgroup": "Name=Peter Odell",
         "line": {
          "color": "#636efa",
          "dash": "solid"
         },
         "mode": "lines",
         "name": "Name=Peter Odell",
         "showlegend": true,
         "type": "scatter",
         "x": [
          "Peter Odell",
          "Peter Odell",
          "Peter Odell",
          "Peter Odell",
          "Peter Odell",
          "Peter Odell",
          "Peter Odell",
          "Peter Odell",
          "Peter Odell",
          "Peter Odell",
          "Peter Odell",
          "Peter Odell",
          "Peter Odell",
          "Peter Odell"
         ],
         "xaxis": "x",
         "y": [
          200000,
          203055.5025845669,
          205076.18775797938,
          196153.9647572217,
          196709.02833167318,
          203897.8192629147,
          206434.30912508976,
          205772.5549981941,
          206818.10014257976,
          209835.93262049172,
          202830.16286129892,
          209021.55342389573,
          203985.48222634016,
          207663.4034487526
         ],
         "yaxis": "y"
        },
        {
         "hoverlabel": {
          "namelength": 0
         },
         "hovertemplate": "Name=%{x}<br>Value=%{y}",
         "legendgroup": "Name=Philip Cortese",
         "line": {
          "color": "#EF553B",
          "dash": "solid"
         },
         "mode": "lines",
         "name": "Name=Philip Cortese",
         "showlegend": true,
         "type": "scatter",
         "x": [
          "Philip Cortese",
          "Philip Cortese",
          "Philip Cortese",
          "Philip Cortese",
          "Philip Cortese",
          "Philip Cortese",
          "Philip Cortese",
          "Philip Cortese",
          "Philip Cortese",
          "Philip Cortese",
          "Philip Cortese",
          "Philip Cortese",
          "Philip Cortese",
          "Philip Cortese"
         ],
         "xaxis": "x",
         "y": [
          200000,
          192083.40238056,
          192443.51888243505,
          182200.57123918424,
          182315.5232761785,
          184365.47742436835,
          188849.04896425357,
          187119.15607703064,
          188908.2390794314,
          190276.43022763063,
          188970.32290302456,
          193840.00185698568,
          190958.51265824857,
          194668.47590096536
         ],
         "yaxis": "y"
        },
        {
         "hoverlabel": {
          "namelength": 0
         },
         "hovertemplate": "Name=%{x}<br>Value=%{y}",
         "legendgroup": "Name=Rebecca Curtis",
         "line": {
          "color": "#00cc96",
          "dash": "solid"
         },
         "mode": "lines",
         "name": "Name=Rebecca Curtis",
         "showlegend": true,
         "type": "scatter",
         "x": [
          "Rebecca Curtis",
          "Rebecca Curtis",
          "Rebecca Curtis",
          "Rebecca Curtis",
          "Rebecca Curtis",
          "Rebecca Curtis",
          "Rebecca Curtis",
          "Rebecca Curtis",
          "Rebecca Curtis",
          "Rebecca Curtis",
          "Rebecca Curtis",
          "Rebecca Curtis",
          "Rebecca Curtis",
          "Rebecca Curtis"
         ],
         "xaxis": "x",
         "y": [
          200000,
          200404.76495622945,
          204405.0062081726,
          198010.48473299542,
          198361.06566326454,
          202024.691785253,
          205259.75492439268,
          205384.27640568517,
          205922.07945803693,
          207564.88450764422,
          203508.52598003997,
          205596.90396088985,
          202165.92488565666,
          206706.04695023794
         ],
         "yaxis": "y"
        },
        {
         "hoverlabel": {
          "namelength": 0
         },
         "hovertemplate": "Name=%{x}<br>Value=%{y}",
         "legendgroup": "Name=Schuyler Bull",
         "line": {
          "color": "#ab63fa",
          "dash": "solid"
         },
         "mode": "lines",
         "name": "Name=Schuyler Bull",
         "showlegend": true,
         "type": "scatter",
         "x": [
          "Schuyler Bull",
          "Schuyler Bull",
          "Schuyler Bull",
          "Schuyler Bull",
          "Schuyler Bull",
          "Schuyler Bull",
          "Schuyler Bull",
          "Schuyler Bull",
          "Schuyler Bull",
          "Schuyler Bull",
          "Schuyler Bull",
          "Schuyler Bull",
          "Schuyler Bull",
          "Schuyler Bull"
         ],
         "xaxis": "x",
         "y": [
          200000,
          203299.4920320132,
          208164.93085493371,
          201221.59862833034,
          202143.68109269673,
          209138.6753640902,
          212212.2806480731,
          216415.46573260528,
          216749.31710344506,
          221427.43754288368,
          217350.62527532387,
          224934.6329938565,
          219518.67145952213,
          223708.84798345112
         ],
         "yaxis": "y"
        },
        {
         "hoverlabel": {
          "namelength": 0
         },
         "hovertemplate": "Name=%{x}<br>Value=%{y}",
         "legendgroup": "Name=Sherlock Bacchus",
         "line": {
          "color": "#FFA15A",
          "dash": "solid"
         },
         "mode": "lines",
         "name": "Name=Sherlock Bacchus",
         "showlegend": true,
         "type": "scatter",
         "x": [
          "Sherlock Bacchus",
          "Sherlock Bacchus",
          "Sherlock Bacchus",
          "Sherlock Bacchus",
          "Sherlock Bacchus",
          "Sherlock Bacchus",
          "Sherlock Bacchus",
          "Sherlock Bacchus",
          "Sherlock Bacchus",
          "Sherlock Bacchus",
          "Sherlock Bacchus",
          "Sherlock Bacchus",
          "Sherlock Bacchus",
          "Sherlock Bacchus"
         ],
         "xaxis": "x",
         "y": [
          200000,
          194201.4904182445,
          197855.26985399678,
          191915.71493633266,
          193876.15710897517,
          198446.1276637372,
          199400.61930628613,
          202518.01480067085,
          202403.0671073954,
          199090.19987837723,
          193735.51591433198,
          196634.75405437037,
          190364.6616547642,
          192805.0618756953
         ],
         "yaxis": "y"
        },
        {
         "hoverlabel": {
          "namelength": 0
         },
         "hovertemplate": "Name=%{x}<br>Value=%{y}",
         "legendgroup": "Name=Sherry A Rosekrans",
         "line": {
          "color": "#19d3f3",
          "dash": "solid"
         },
         "mode": "lines",
         "name": "Name=Sherry A Rosekrans",
         "showlegend": true,
         "type": "scatter",
         "x": [
          "Sherry A Rosekrans",
          "Sherry A Rosekrans",
          "Sherry A Rosekrans",
          "Sherry A Rosekrans",
          "Sherry A Rosekrans",
          "Sherry A Rosekrans",
          "Sherry A Rosekrans",
          "Sherry A Rosekrans",
          "Sherry A Rosekrans",
          "Sherry A Rosekrans",
          "Sherry A Rosekrans",
          "Sherry A Rosekrans",
          "Sherry A Rosekrans",
          "Sherry A Rosekrans"
         ],
         "xaxis": "x",
         "y": [
          200000,
          200337.42570525355,
          203908.5016695732,
          198800.49714017462,
          199018.57995980536,
          203076.61241336816,
          206221.3665752119,
          206673.73176077387,
          208156.59872303944,
          211357.21509527398,
          207515.9376955742,
          211729.3687731534,
          209306.09024293837,
          213057.7064091937
         ],
         "yaxis": "y"
        },
        {
         "hoverlabel": {
          "namelength": 0
         },
         "hovertemplate": "Name=%{x}<br>Value=%{y}",
         "legendgroup": "Name=Sue Dymond",
         "line": {
          "color": "#FF6692",
          "dash": "solid"
         },
         "mode": "lines",
         "name": "Name=Sue Dymond",
         "showlegend": true,
         "type": "scatter",
         "x": [
          "Sue Dymond",
          "Sue Dymond",
          "Sue Dymond",
          "Sue Dymond",
          "Sue Dymond",
          "Sue Dymond",
          "Sue Dymond",
          "Sue Dymond",
          "Sue Dymond",
          "Sue Dymond",
          "Sue Dymond",
          "Sue Dymond",
          "Sue Dymond",
          "Sue Dymond"
         ],
         "xaxis": "x",
         "y": [
          150000,
          148390.18917270115,
          149541.973390844,
          142365.70442350965,
          143401.7427543436,
          147067.7243650128,
          152651.89482093166,
          150762.0659978552,
          148675.3859184886,
          149117.855616639,
          146403.69888213612,
          149880.9303503755,
          145808.6920499275,
          148477.31982039017
         ],
         "yaxis": "y"
        },
        {
         "hoverlabel": {
          "namelength": 0
         },
         "hovertemplate": "Name=%{x}<br>Value=%{y}",
         "legendgroup": "Name=Teresa Purcell",
         "line": {
          "color": "#B6E880",
          "dash": "solid"
         },
         "mode": "lines",
         "name": "Name=Teresa Purcell",
         "showlegend": true,
         "type": "scatter",
         "x": [
          "Teresa Purcell",
          "Teresa Purcell",
          "Teresa Purcell",
          "Teresa Purcell",
          "Teresa Purcell",
          "Teresa Purcell",
          "Teresa Purcell",
          "Teresa Purcell",
          "Teresa Purcell",
          "Teresa Purcell",
          "Teresa Purcell",
          "Teresa Purcell",
          "Teresa Purcell",
          "Teresa Purcell"
         ],
         "xaxis": "x",
         "y": [
          200000,
          196342.32752783995,
          196424.68344465224,
          188040.26276932016,
          188938.74358851093,
          191310.6560123679,
          195096.02910243647,
          196177.83212194976,
          194884.20126749133,
          197850.78376391772,
          195159.12532549954,
          198443.00185582612,
          193844.9621990414,
          196363.10894722337
         ],
         "yaxis": "y"
        },
        {
         "hoverlabel": {
          "namelength": 0
         },
         "hovertemplate": "Name=%{x}<br>Value=%{y}",
         "legendgroup": "Name=Trudy Seeber",
         "line": {
          "color": "#FF97FF",
          "dash": "solid"
         },
         "mode": "lines",
         "name": "Name=Trudy Seeber",
         "showlegend": true,
         "type": "scatter",
         "x": [
          "Trudy Seeber",
          "Trudy Seeber",
          "Trudy Seeber",
          "Trudy Seeber",
          "Trudy Seeber",
          "Trudy Seeber",
          "Trudy Seeber",
          "Trudy Seeber",
          "Trudy Seeber",
          "Trudy Seeber",
          "Trudy Seeber",
          "Trudy Seeber",
          "Trudy Seeber",
          "Trudy Seeber"
         ],
         "xaxis": "x",
         "y": [
          200000,
          201114.0018208602,
          207147.49161144352,
          202949.8806702576,
          201677.87169707235,
          205169.57016423336,
          211327.26941813773,
          214959.05067929378,
          214397.8524608831,
          222840.0091143943,
          227098.40546978306,
          240515.12636246442,
          237949.1552936447,
          255840.47131222428
         ],
         "yaxis": "y"
        }
       ],
       "layout": {
        "height": 600,
        "legend": {
         "tracegroupgap": 0
        },
        "margin": {
         "t": 60
        },
        "template": {
         "data": {
          "bar": [
           {
            "error_x": {
             "color": "#2a3f5f"
            },
            "error_y": {
             "color": "#2a3f5f"
            },
            "marker": {
             "line": {
              "color": "#E5ECF6",
              "width": 0.5
             }
            },
            "type": "bar"
           }
          ],
          "barpolar": [
           {
            "marker": {
             "line": {
              "color": "#E5ECF6",
              "width": 0.5
             }
            },
            "type": "barpolar"
           }
          ],
          "carpet": [
           {
            "aaxis": {
             "endlinecolor": "#2a3f5f",
             "gridcolor": "white",
             "linecolor": "white",
             "minorgridcolor": "white",
             "startlinecolor": "#2a3f5f"
            },
            "baxis": {
             "endlinecolor": "#2a3f5f",
             "gridcolor": "white",
             "linecolor": "white",
             "minorgridcolor": "white",
             "startlinecolor": "#2a3f5f"
            },
            "type": "carpet"
           }
          ],
          "choropleth": [
           {
            "colorbar": {
             "outlinewidth": 0,
             "ticks": ""
            },
            "type": "choropleth"
           }
          ],
          "contour": [
           {
            "colorbar": {
             "outlinewidth": 0,
             "ticks": ""
            },
            "colorscale": [
             [
              0,
              "#0d0887"
             ],
             [
              0.1111111111111111,
              "#46039f"
             ],
             [
              0.2222222222222222,
              "#7201a8"
             ],
             [
              0.3333333333333333,
              "#9c179e"
             ],
             [
              0.4444444444444444,
              "#bd3786"
             ],
             [
              0.5555555555555556,
              "#d8576b"
             ],
             [
              0.6666666666666666,
              "#ed7953"
             ],
             [
              0.7777777777777778,
              "#fb9f3a"
             ],
             [
              0.8888888888888888,
              "#fdca26"
             ],
             [
              1,
              "#f0f921"
             ]
            ],
            "type": "contour"
           }
          ],
          "contourcarpet": [
           {
            "colorbar": {
             "outlinewidth": 0,
             "ticks": ""
            },
            "type": "contourcarpet"
           }
          ],
          "heatmap": [
           {
            "colorbar": {
             "outlinewidth": 0,
             "ticks": ""
            },
            "colorscale": [
             [
              0,
              "#0d0887"
             ],
             [
              0.1111111111111111,
              "#46039f"
             ],
             [
              0.2222222222222222,
              "#7201a8"
             ],
             [
              0.3333333333333333,
              "#9c179e"
             ],
             [
              0.4444444444444444,
              "#bd3786"
             ],
             [
              0.5555555555555556,
              "#d8576b"
             ],
             [
              0.6666666666666666,
              "#ed7953"
             ],
             [
              0.7777777777777778,
              "#fb9f3a"
             ],
             [
              0.8888888888888888,
              "#fdca26"
             ],
             [
              1,
              "#f0f921"
             ]
            ],
            "type": "heatmap"
           }
          ],
          "heatmapgl": [
           {
            "colorbar": {
             "outlinewidth": 0,
             "ticks": ""
            },
            "colorscale": [
             [
              0,
              "#0d0887"
             ],
             [
              0.1111111111111111,
              "#46039f"
             ],
             [
              0.2222222222222222,
              "#7201a8"
             ],
             [
              0.3333333333333333,
              "#9c179e"
             ],
             [
              0.4444444444444444,
              "#bd3786"
             ],
             [
              0.5555555555555556,
              "#d8576b"
             ],
             [
              0.6666666666666666,
              "#ed7953"
             ],
             [
              0.7777777777777778,
              "#fb9f3a"
             ],
             [
              0.8888888888888888,
              "#fdca26"
             ],
             [
              1,
              "#f0f921"
             ]
            ],
            "type": "heatmapgl"
           }
          ],
          "histogram": [
           {
            "marker": {
             "colorbar": {
              "outlinewidth": 0,
              "ticks": ""
             }
            },
            "type": "histogram"
           }
          ],
          "histogram2d": [
           {
            "colorbar": {
             "outlinewidth": 0,
             "ticks": ""
            },
            "colorscale": [
             [
              0,
              "#0d0887"
             ],
             [
              0.1111111111111111,
              "#46039f"
             ],
             [
              0.2222222222222222,
              "#7201a8"
             ],
             [
              0.3333333333333333,
              "#9c179e"
             ],
             [
              0.4444444444444444,
              "#bd3786"
             ],
             [
              0.5555555555555556,
              "#d8576b"
             ],
             [
              0.6666666666666666,
              "#ed7953"
             ],
             [
              0.7777777777777778,
              "#fb9f3a"
             ],
             [
              0.8888888888888888,
              "#fdca26"
             ],
             [
              1,
              "#f0f921"
             ]
            ],
            "type": "histogram2d"
           }
          ],
          "histogram2dcontour": [
           {
            "colorbar": {
             "outlinewidth": 0,
             "ticks": ""
            },
            "colorscale": [
             [
              0,
              "#0d0887"
             ],
             [
              0.1111111111111111,
              "#46039f"
             ],
             [
              0.2222222222222222,
              "#7201a8"
             ],
             [
              0.3333333333333333,
              "#9c179e"
             ],
             [
              0.4444444444444444,
              "#bd3786"
             ],
             [
              0.5555555555555556,
              "#d8576b"
             ],
             [
              0.6666666666666666,
              "#ed7953"
             ],
             [
              0.7777777777777778,
              "#fb9f3a"
             ],
             [
              0.8888888888888888,
              "#fdca26"
             ],
             [
              1,
              "#f0f921"
             ]
            ],
            "type": "histogram2dcontour"
           }
          ],
          "mesh3d": [
           {
            "colorbar": {
             "outlinewidth": 0,
             "ticks": ""
            },
            "type": "mesh3d"
           }
          ],
          "parcoords": [
           {
            "line": {
             "colorbar": {
              "outlinewidth": 0,
              "ticks": ""
             }
            },
            "type": "parcoords"
           }
          ],
          "scatter": [
           {
            "marker": {
             "colorbar": {
              "outlinewidth": 0,
              "ticks": ""
             }
            },
            "type": "scatter"
           }
          ],
          "scatter3d": [
           {
            "line": {
             "colorbar": {
              "outlinewidth": 0,
              "ticks": ""
             }
            },
            "marker": {
             "colorbar": {
              "outlinewidth": 0,
              "ticks": ""
             }
            },
            "type": "scatter3d"
           }
          ],
          "scattercarpet": [
           {
            "marker": {
             "colorbar": {
              "outlinewidth": 0,
              "ticks": ""
             }
            },
            "type": "scattercarpet"
           }
          ],
          "scattergeo": [
           {
            "marker": {
             "colorbar": {
              "outlinewidth": 0,
              "ticks": ""
             }
            },
            "type": "scattergeo"
           }
          ],
          "scattergl": [
           {
            "marker": {
             "colorbar": {
              "outlinewidth": 0,
              "ticks": ""
             }
            },
            "type": "scattergl"
           }
          ],
          "scattermapbox": [
           {
            "marker": {
             "colorbar": {
              "outlinewidth": 0,
              "ticks": ""
             }
            },
            "type": "scattermapbox"
           }
          ],
          "scatterpolar": [
           {
            "marker": {
             "colorbar": {
              "outlinewidth": 0,
              "ticks": ""
             }
            },
            "type": "scatterpolar"
           }
          ],
          "scatterpolargl": [
           {
            "marker": {
             "colorbar": {
              "outlinewidth": 0,
              "ticks": ""
             }
            },
            "type": "scatterpolargl"
           }
          ],
          "scatterternary": [
           {
            "marker": {
             "colorbar": {
              "outlinewidth": 0,
              "ticks": ""
             }
            },
            "type": "scatterternary"
           }
          ],
          "surface": [
           {
            "colorbar": {
             "outlinewidth": 0,
             "ticks": ""
            },
            "colorscale": [
             [
              0,
              "#0d0887"
             ],
             [
              0.1111111111111111,
              "#46039f"
             ],
             [
              0.2222222222222222,
              "#7201a8"
             ],
             [
              0.3333333333333333,
              "#9c179e"
             ],
             [
              0.4444444444444444,
              "#bd3786"
             ],
             [
              0.5555555555555556,
              "#d8576b"
             ],
             [
              0.6666666666666666,
              "#ed7953"
             ],
             [
              0.7777777777777778,
              "#fb9f3a"
             ],
             [
              0.8888888888888888,
              "#fdca26"
             ],
             [
              1,
              "#f0f921"
             ]
            ],
            "type": "surface"
           }
          ],
          "table": [
           {
            "cells": {
             "fill": {
              "color": "#EBF0F8"
             },
             "line": {
              "color": "white"
             }
            },
            "header": {
             "fill": {
              "color": "#C8D4E3"
             },
             "line": {
              "color": "white"
             }
            },
            "type": "table"
           }
          ]
         },
         "layout": {
          "annotationdefaults": {
           "arrowcolor": "#2a3f5f",
           "arrowhead": 0,
           "arrowwidth": 1
          },
          "colorscale": {
           "diverging": [
            [
             0,
             "#8e0152"
            ],
            [
             0.1,
             "#c51b7d"
            ],
            [
             0.2,
             "#de77ae"
            ],
            [
             0.3,
             "#f1b6da"
            ],
            [
             0.4,
             "#fde0ef"
            ],
            [
             0.5,
             "#f7f7f7"
            ],
            [
             0.6,
             "#e6f5d0"
            ],
            [
             0.7,
             "#b8e186"
            ],
            [
             0.8,
             "#7fbc41"
            ],
            [
             0.9,
             "#4d9221"
            ],
            [
             1,
             "#276419"
            ]
           ],
           "sequential": [
            [
             0,
             "#0d0887"
            ],
            [
             0.1111111111111111,
             "#46039f"
            ],
            [
             0.2222222222222222,
             "#7201a8"
            ],
            [
             0.3333333333333333,
             "#9c179e"
            ],
            [
             0.4444444444444444,
             "#bd3786"
            ],
            [
             0.5555555555555556,
             "#d8576b"
            ],
            [
             0.6666666666666666,
             "#ed7953"
            ],
            [
             0.7777777777777778,
             "#fb9f3a"
            ],
            [
             0.8888888888888888,
             "#fdca26"
            ],
            [
             1,
             "#f0f921"
            ]
           ],
           "sequentialminus": [
            [
             0,
             "#0d0887"
            ],
            [
             0.1111111111111111,
             "#46039f"
            ],
            [
             0.2222222222222222,
             "#7201a8"
            ],
            [
             0.3333333333333333,
             "#9c179e"
            ],
            [
             0.4444444444444444,
             "#bd3786"
            ],
            [
             0.5555555555555556,
             "#d8576b"
            ],
            [
             0.6666666666666666,
             "#ed7953"
            ],
            [
             0.7777777777777778,
             "#fb9f3a"
            ],
            [
             0.8888888888888888,
             "#fdca26"
            ],
            [
             1,
             "#f0f921"
            ]
           ]
          },
          "colorway": [
           "#636efa",
           "#EF553B",
           "#00cc96",
           "#ab63fa",
           "#FFA15A",
           "#19d3f3",
           "#FF6692",
           "#B6E880",
           "#FF97FF",
           "#FECB52"
          ],
          "font": {
           "color": "#2a3f5f"
          },
          "geo": {
           "bgcolor": "white",
           "lakecolor": "white",
           "landcolor": "#E5ECF6",
           "showlakes": true,
           "showland": true,
           "subunitcolor": "white"
          },
          "hoverlabel": {
           "align": "left"
          },
          "hovermode": "closest",
          "mapbox": {
           "style": "light"
          },
          "paper_bgcolor": "white",
          "plot_bgcolor": "#E5ECF6",
          "polar": {
           "angularaxis": {
            "gridcolor": "white",
            "linecolor": "white",
            "ticks": ""
           },
           "bgcolor": "#E5ECF6",
           "radialaxis": {
            "gridcolor": "white",
            "linecolor": "white",
            "ticks": ""
           }
          },
          "scene": {
           "xaxis": {
            "backgroundcolor": "#E5ECF6",
            "gridcolor": "white",
            "gridwidth": 2,
            "linecolor": "white",
            "showbackground": true,
            "ticks": "",
            "zerolinecolor": "white"
           },
           "yaxis": {
            "backgroundcolor": "#E5ECF6",
            "gridcolor": "white",
            "gridwidth": 2,
            "linecolor": "white",
            "showbackground": true,
            "ticks": "",
            "zerolinecolor": "white"
           },
           "zaxis": {
            "backgroundcolor": "#E5ECF6",
            "gridcolor": "white",
            "gridwidth": 2,
            "linecolor": "white",
            "showbackground": true,
            "ticks": "",
            "zerolinecolor": "white"
           }
          },
          "shapedefaults": {
           "line": {
            "color": "#2a3f5f"
           }
          },
          "ternary": {
           "aaxis": {
            "gridcolor": "white",
            "linecolor": "white",
            "ticks": ""
           },
           "baxis": {
            "gridcolor": "white",
            "linecolor": "white",
            "ticks": ""
           },
           "bgcolor": "#E5ECF6",
           "caxis": {
            "gridcolor": "white",
            "linecolor": "white",
            "ticks": ""
           }
          },
          "title": {
           "x": 0.05
          },
          "xaxis": {
           "automargin": true,
           "gridcolor": "white",
           "linecolor": "white",
           "ticks": "",
           "zerolinecolor": "white",
           "zerolinewidth": 2
          },
          "yaxis": {
           "automargin": true,
           "gridcolor": "white",
           "linecolor": "white",
           "ticks": "",
           "zerolinecolor": "white",
           "zerolinewidth": 2
          }
         }
        },
        "xaxis": {
         "anchor": "y",
         "categoryarray": [
          "Alexandra Sautin",
          "Amy Acerra",
          "Angela Calsolaro",
          "Barbaranne Way",
          "Bradley Bonfante",
          "Claire Moylan",
          "Dan Cancelliere",
          "Danish Sharpe",
          "David Hunn",
          "Eli Rabinowitz",
          "Estelle Genest",
          "Giuseppe Tedesco",
          "Jacqueline Lorenz",
          "Jennah Hebert",
          "Jennah Hebert v2",
          "Joe Geis",
          "Joseph Lindner",
          "Kelly Nicholson",
          "Kristen Kiefer",
          "Kwun Chan",
          "Linday Sheridan",
          "Lindsey Pelerin",
          "Luke Scarchilli",
          "Maggie Mahota",
          "Melissa Lomaestro",
          "Melissa Stamper",
          "Michael Brandt",
          "Nicholas Capullo",
          "Nori Lansing",
          "Pete Lindner",
          "Peter Odell",
          "Philip Cortese",
          "Rebecca Curtis",
          "Schuyler Bull",
          "Sherlock Bacchus",
          "Sherry A Rosekrans",
          "Sue Dymond",
          "Teresa Purcell",
          "Trudy Seeber"
         ],
         "categoryorder": "array",
         "domain": [
          0,
          0.98
         ],
         "title": {
          "text": "Name"
         }
        },
        "yaxis": {
         "anchor": "x",
         "domain": [
          0,
          1
         ],
         "title": {
          "text": "Value"
         }
        }
       }
      },
      "text/html": [
       "<div>\n",
       "        \n",
       "        \n",
       "            <div id=\"c64f68c5-701d-4334-9366-58a5090c5b28\" class=\"plotly-graph-div\" style=\"height:600px; width:100%;\"></div>\n",
       "            <script type=\"text/javascript\">\n",
       "                require([\"plotly\"], function(Plotly) {\n",
       "                    window.PLOTLYENV=window.PLOTLYENV || {};\n",
       "                    \n",
       "                if (document.getElementById(\"c64f68c5-701d-4334-9366-58a5090c5b28\")) {\n",
       "                    Plotly.newPlot(\n",
       "                        'c64f68c5-701d-4334-9366-58a5090c5b28',\n",
       "                        [{\"hoverlabel\": {\"namelength\": 0}, \"hovertemplate\": \"Name=%{x}<br>Value=%{y}\", \"legendgroup\": \"Name=Alexandra Sautin\", \"line\": {\"color\": \"#636efa\", \"dash\": \"solid\"}, \"mode\": \"lines\", \"name\": \"Name=Alexandra Sautin\", \"showlegend\": true, \"type\": \"scatter\", \"x\": [\"Alexandra Sautin\", \"Alexandra Sautin\", \"Alexandra Sautin\", \"Alexandra Sautin\", \"Alexandra Sautin\", \"Alexandra Sautin\", \"Alexandra Sautin\", \"Alexandra Sautin\", \"Alexandra Sautin\", \"Alexandra Sautin\", \"Alexandra Sautin\", \"Alexandra Sautin\", \"Alexandra Sautin\", \"Alexandra Sautin\"], \"xaxis\": \"x\", \"y\": [200000.0, 198162.0701545297, 200718.92811431838, 195646.52821488422, 195794.59586539428, 198847.62731383607, 201543.45049897276, 201310.19150137657, 201885.41321746563, 202745.92255231456, 200581.40420767386, 203769.36008027574, 200251.30147674654, 203226.88626553118], \"yaxis\": \"y\"}, {\"hoverlabel\": {\"namelength\": 0}, \"hovertemplate\": \"Name=%{x}<br>Value=%{y}\", \"legendgroup\": \"Name=Amy Acerra\", \"line\": {\"color\": \"#EF553B\", \"dash\": \"solid\"}, \"mode\": \"lines\", \"name\": \"Name=Amy Acerra\", \"showlegend\": true, \"type\": \"scatter\", \"x\": [\"Amy Acerra\", \"Amy Acerra\", \"Amy Acerra\", \"Amy Acerra\", \"Amy Acerra\", \"Amy Acerra\", \"Amy Acerra\", \"Amy Acerra\", \"Amy Acerra\", \"Amy Acerra\", \"Amy Acerra\", \"Amy Acerra\", \"Amy Acerra\", \"Amy Acerra\"], \"xaxis\": \"x\", \"y\": [200000.0, 201271.71175662795, 196070.03810879373, 181353.36153447954, 183488.56649875068, 190318.24027523716, 195737.581969303, 194425.01335639734, 197573.48717911885, 204178.87201802744, 193859.0490249395, 198200.08072379505, 193689.1150141263, 198545.8481337968], \"yaxis\": \"y\"}, {\"hoverlabel\": {\"namelength\": 0}, \"hovertemplate\": \"Name=%{x}<br>Value=%{y}\", \"legendgroup\": \"Name=Angela Calsolaro\", \"line\": {\"color\": \"#00cc96\", \"dash\": \"solid\"}, \"mode\": \"lines\", \"name\": \"Name=Angela Calsolaro\", \"showlegend\": true, \"type\": \"scatter\", \"x\": [\"Angela Calsolaro\", \"Angela Calsolaro\", \"Angela Calsolaro\", \"Angela Calsolaro\", \"Angela Calsolaro\", \"Angela Calsolaro\", \"Angela Calsolaro\", \"Angela Calsolaro\", \"Angela Calsolaro\", \"Angela Calsolaro\", \"Angela Calsolaro\", \"Angela Calsolaro\", \"Angela Calsolaro\", \"Angela Calsolaro\"], \"xaxis\": \"x\", \"y\": [190000.0, 189445.31248220764, 190238.5542361528, 183835.3277999558, 183535.84434067496, 187574.49540106734, 190283.86488337634, 190359.73723444075, 191702.84489284817, 193874.9787474759, 193385.90714345107, 195437.7977865206, 190945.2886398713, 194114.4679043105], \"yaxis\": \"y\"}, {\"hoverlabel\": {\"namelength\": 0}, \"hovertemplate\": \"Name=%{x}<br>Value=%{y}\", \"legendgroup\": \"Name=Barbaranne Way\", \"line\": {\"color\": \"#ab63fa\", \"dash\": \"solid\"}, \"mode\": \"lines\", \"name\": \"Name=Barbaranne Way\", \"showlegend\": true, \"type\": \"scatter\", \"x\": [\"Barbaranne Way\", \"Barbaranne Way\", \"Barbaranne Way\", \"Barbaranne Way\", \"Barbaranne Way\", \"Barbaranne Way\", \"Barbaranne Way\", \"Barbaranne Way\", \"Barbaranne Way\", \"Barbaranne Way\", \"Barbaranne Way\", \"Barbaranne Way\", \"Barbaranne Way\", \"Barbaranne Way\"], \"xaxis\": \"x\", \"y\": [200000.0, 201995.92963307342, 201448.03025913486, 192407.95220395806, 189344.34516934064, 192733.0004822144, 192697.72949904148, 192037.65504094496, 193061.43144781265, 196837.4629216778, 195685.04293823158, 199311.91210573423, 196140.74995262283, 199590.96909620607], \"yaxis\": \"y\"}, {\"hoverlabel\": {\"namelength\": 0}, \"hovertemplate\": \"Name=%{x}<br>Value=%{y}\", \"legendgroup\": \"Name=Bradley Bonfante\", \"line\": {\"color\": \"#FFA15A\", \"dash\": \"solid\"}, \"mode\": \"lines\", \"name\": \"Name=Bradley Bonfante\", \"showlegend\": true, \"type\": \"scatter\", \"x\": [\"Bradley Bonfante\", \"Bradley Bonfante\", \"Bradley Bonfante\", \"Bradley Bonfante\", \"Bradley Bonfante\", \"Bradley Bonfante\", \"Bradley Bonfante\", \"Bradley Bonfante\", \"Bradley Bonfante\", \"Bradley Bonfante\", \"Bradley Bonfante\", \"Bradley Bonfante\", \"Bradley Bonfante\", \"Bradley Bonfante\"], \"xaxis\": \"x\", \"y\": [200000.0, 200281.18805899235, 205742.0289826964, 199762.96673402243, 198012.675362408, 202752.36564217138, 207304.90928899194, 207202.7592480859, 210145.22422619647, 211254.03215557002, 207761.00241743252, 211765.01042492045, 207933.23797695027, 211434.42876513774], \"yaxis\": \"y\"}, {\"hoverlabel\": {\"namelength\": 0}, \"hovertemplate\": \"Name=%{x}<br>Value=%{y}\", \"legendgroup\": \"Name=Claire Moylan\", \"line\": {\"color\": \"#19d3f3\", \"dash\": \"solid\"}, \"mode\": \"lines\", \"name\": \"Name=Claire Moylan\", \"showlegend\": true, \"type\": \"scatter\", \"x\": [\"Claire Moylan\", \"Claire Moylan\", \"Claire Moylan\", \"Claire Moylan\", \"Claire Moylan\", \"Claire Moylan\", \"Claire Moylan\", \"Claire Moylan\", \"Claire Moylan\", \"Claire Moylan\", \"Claire Moylan\", \"Claire Moylan\", \"Claire Moylan\", \"Claire Moylan\"], \"xaxis\": \"x\", \"y\": [200000.0, 198472.96709792828, 202543.42531899983, 197126.8231472709, 195851.3300970074, 197875.59078349714, 202354.9813161644, 201545.75061085884, 202629.89530391517, 207611.86395968377, 205475.3867209647, 209930.67750474665, 206583.1910103909, 211678.21832720703], \"yaxis\": \"y\"}, {\"hoverlabel\": {\"namelength\": 0}, \"hovertemplate\": \"Name=%{x}<br>Value=%{y}\", \"legendgroup\": \"Name=Dan Cancelliere\", \"line\": {\"color\": \"#FF6692\", \"dash\": \"solid\"}, \"mode\": \"lines\", \"name\": \"Name=Dan Cancelliere\", \"showlegend\": true, \"type\": \"scatter\", \"x\": [\"Dan Cancelliere\", \"Dan Cancelliere\", \"Dan Cancelliere\", \"Dan Cancelliere\", \"Dan Cancelliere\", \"Dan Cancelliere\", \"Dan Cancelliere\", \"Dan Cancelliere\", \"Dan Cancelliere\", \"Dan Cancelliere\", \"Dan Cancelliere\", \"Dan Cancelliere\", \"Dan Cancelliere\", \"Dan Cancelliere\"], \"xaxis\": \"x\", \"y\": [200000.0, 191988.94959544754, 191491.59741477412, 185578.29411623516, 183657.6671240248, 191347.84771973005, 195431.03188815477, 193100.32447441726, 195909.86139441188, 198764.7817489016, 196907.9999991316, 197596.2028794362, 194942.14615554648, 200285.99560236427], \"yaxis\": \"y\"}, {\"hoverlabel\": {\"namelength\": 0}, \"hovertemplate\": \"Name=%{x}<br>Value=%{y}\", \"legendgroup\": \"Name=Danish Sharpe\", \"line\": {\"color\": \"#B6E880\", \"dash\": \"solid\"}, \"mode\": \"lines\", \"name\": \"Name=Danish Sharpe\", \"showlegend\": true, \"type\": \"scatter\", \"x\": [\"Danish Sharpe\", \"Danish Sharpe\", \"Danish Sharpe\", \"Danish Sharpe\", \"Danish Sharpe\", \"Danish Sharpe\", \"Danish Sharpe\", \"Danish Sharpe\", \"Danish Sharpe\", \"Danish Sharpe\", \"Danish Sharpe\", \"Danish Sharpe\", \"Danish Sharpe\", \"Danish Sharpe\"], \"xaxis\": \"x\", \"y\": [200000.0, 202889.31007005283, 207277.45847989782, 204031.87048105296, 199235.94256306745, 204882.55068628964, 205751.53995592744, 204015.65593360417, 204867.59510605913, 209727.60681155822, 206735.75825560346, 209400.55392066727, 206310.92976765643, 208784.8063907283], \"yaxis\": \"y\"}, {\"hoverlabel\": {\"namelength\": 0}, \"hovertemplate\": \"Name=%{x}<br>Value=%{y}\", \"legendgroup\": \"Name=David Hunn\", \"line\": {\"color\": \"#FF97FF\", \"dash\": \"solid\"}, \"mode\": \"lines\", \"name\": \"Name=David Hunn\", \"showlegend\": true, \"type\": \"scatter\", \"x\": [\"David Hunn\", \"David Hunn\", \"David Hunn\", \"David Hunn\", \"David Hunn\", \"David Hunn\", \"David Hunn\", \"David Hunn\", \"David Hunn\", \"David Hunn\", \"David Hunn\", \"David Hunn\", \"David Hunn\", \"David Hunn\"], \"xaxis\": \"x\", \"y\": [200000.0, 185741.20958187743, 186249.48853352398, 172557.90927807993, 170524.31439134505, 172026.07550384605, 174392.24085776485, 171601.1127361295, 174255.3611908522, 177644.28898091835, 178871.73122168792, 181824.84175345022, 178870.1752840208, 184418.67059536238], \"yaxis\": \"y\"}, {\"hoverlabel\": {\"namelength\": 0}, \"hovertemplate\": \"Name=%{x}<br>Value=%{y}\", \"legendgroup\": \"Name=Eli Rabinowitz\", \"line\": {\"color\": \"#FECB52\", \"dash\": \"solid\"}, \"mode\": \"lines\", \"name\": \"Name=Eli Rabinowitz\", \"showlegend\": true, \"type\": \"scatter\", \"x\": [\"Eli Rabinowitz\", \"Eli Rabinowitz\", \"Eli Rabinowitz\", \"Eli Rabinowitz\", \"Eli Rabinowitz\", \"Eli Rabinowitz\", \"Eli Rabinowitz\", \"Eli Rabinowitz\", \"Eli Rabinowitz\", \"Eli Rabinowitz\", \"Eli Rabinowitz\", \"Eli Rabinowitz\", \"Eli Rabinowitz\", \"Eli Rabinowitz\"], \"xaxis\": \"x\", \"y\": [200000.0, 190741.57197819895, 192916.99193579188, 185732.63518456815, 183378.213078667, 187043.7276270776, 192369.01485620186, 192074.47830302993, 196670.64630216302, 199147.03982649674, 200799.07031555605, 201141.81738107084, 196341.5288117871, 197085.58822919856], \"yaxis\": \"y\"}, {\"hoverlabel\": {\"namelength\": 0}, \"hovertemplate\": \"Name=%{x}<br>Value=%{y}\", \"legendgroup\": \"Name=Estelle Genest\", \"line\": {\"color\": \"#636efa\", \"dash\": \"solid\"}, \"mode\": \"lines\", \"name\": \"Name=Estelle Genest\", \"showlegend\": true, \"type\": \"scatter\", \"x\": [\"Estelle Genest\", \"Estelle Genest\", \"Estelle Genest\", \"Estelle Genest\", \"Estelle Genest\", \"Estelle Genest\", \"Estelle Genest\", \"Estelle Genest\", \"Estelle Genest\", \"Estelle Genest\", \"Estelle Genest\", \"Estelle Genest\", \"Estelle Genest\", \"Estelle Genest\"], \"xaxis\": \"x\", \"y\": [200000.0, 198783.73120357987, 202137.0543514141, 196570.71291716438, 196446.31551053823, 201816.24780411788, 204589.27823929058, 203837.46374987962, 206901.82350298713, 208658.82753957782, 204479.16217336935, 211374.60762740282, 206256.52039666616, 210921.11930123024], \"yaxis\": \"y\"}, {\"hoverlabel\": {\"namelength\": 0}, \"hovertemplate\": \"Name=%{x}<br>Value=%{y}\", \"legendgroup\": \"Name=Giuseppe Tedesco\", \"line\": {\"color\": \"#EF553B\", \"dash\": \"solid\"}, \"mode\": \"lines\", \"name\": \"Name=Giuseppe Tedesco\", \"showlegend\": true, \"type\": \"scatter\", \"x\": [\"Giuseppe Tedesco\", \"Giuseppe Tedesco\", \"Giuseppe Tedesco\", \"Giuseppe Tedesco\", \"Giuseppe Tedesco\", \"Giuseppe Tedesco\", \"Giuseppe Tedesco\", \"Giuseppe Tedesco\", \"Giuseppe Tedesco\", \"Giuseppe Tedesco\", \"Giuseppe Tedesco\", \"Giuseppe Tedesco\", \"Giuseppe Tedesco\", \"Giuseppe Tedesco\"], \"xaxis\": \"x\", \"y\": [200000.0, 199541.8278995987, 205728.59698485475, 200995.13359419798, 200666.5283344222, 204841.8406717116, 207221.3314559286, 206503.37634233854, 205693.58098650273, 208052.06261439386, 206076.326006354, 212703.86826129418, 207071.91128798894, 211095.86344892185], \"yaxis\": \"y\"}, {\"hoverlabel\": {\"namelength\": 0}, \"hovertemplate\": \"Name=%{x}<br>Value=%{y}\", \"legendgroup\": \"Name=Jacqueline Lorenz\", \"line\": {\"color\": \"#00cc96\", \"dash\": \"solid\"}, \"mode\": \"lines\", \"name\": \"Name=Jacqueline Lorenz\", \"showlegend\": true, \"type\": \"scatter\", \"x\": [\"Jacqueline Lorenz\", \"Jacqueline Lorenz\", \"Jacqueline Lorenz\", \"Jacqueline Lorenz\", \"Jacqueline Lorenz\", \"Jacqueline Lorenz\", \"Jacqueline Lorenz\", \"Jacqueline Lorenz\", \"Jacqueline Lorenz\", \"Jacqueline Lorenz\", \"Jacqueline Lorenz\", \"Jacqueline Lorenz\", \"Jacqueline Lorenz\", \"Jacqueline Lorenz\"], \"xaxis\": \"x\", \"y\": [200000.0, 200071.67260376233, 205658.15748121805, 194834.41173912463, 192887.59250258128, 200516.3922087289, 208491.9127281856, 207316.64341029746, 208900.49616660646, 211380.4314310687, 203597.14937296137, 208164.98495217954, 204691.92105521812, 208060.4577529391], \"yaxis\": \"y\"}, {\"hoverlabel\": {\"namelength\": 0}, \"hovertemplate\": \"Name=%{x}<br>Value=%{y}\", \"legendgroup\": \"Name=Jennah Hebert\", \"line\": {\"color\": \"#ab63fa\", \"dash\": \"solid\"}, \"mode\": \"lines\", \"name\": \"Name=Jennah Hebert\", \"showlegend\": true, \"type\": \"scatter\", \"x\": [\"Jennah Hebert\", \"Jennah Hebert\", \"Jennah Hebert\", \"Jennah Hebert\", \"Jennah Hebert\", \"Jennah Hebert\", \"Jennah Hebert\", \"Jennah Hebert\", \"Jennah Hebert\", \"Jennah Hebert\", \"Jennah Hebert\", \"Jennah Hebert\", \"Jennah Hebert\", \"Jennah Hebert\"], \"xaxis\": \"x\", \"y\": [200000.0, 203274.91613791502, 191894.1611862369, 172050.2049540283, 175411.0658817337, 184254.21325834355, 190523.5861229672, 189560.10996681408, 194056.32282607895, 202718.53888887854, 187759.81095459248, 192550.03892432075, 187257.72552345603, 192378.14934474], \"yaxis\": \"y\"}, {\"hoverlabel\": {\"namelength\": 0}, \"hovertemplate\": \"Name=%{x}<br>Value=%{y}\", \"legendgroup\": \"Name=Jennah Hebert v2\", \"line\": {\"color\": \"#FFA15A\", \"dash\": \"solid\"}, \"mode\": \"lines\", \"name\": \"Name=Jennah Hebert v2\", \"showlegend\": true, \"type\": \"scatter\", \"x\": [\"Jennah Hebert v2\", \"Jennah Hebert v2\", \"Jennah Hebert v2\", \"Jennah Hebert v2\", \"Jennah Hebert v2\", \"Jennah Hebert v2\", \"Jennah Hebert v2\", \"Jennah Hebert v2\", \"Jennah Hebert v2\", \"Jennah Hebert v2\", \"Jennah Hebert v2\", \"Jennah Hebert v2\", \"Jennah Hebert v2\", \"Jennah Hebert v2\"], \"xaxis\": \"x\", \"y\": [200000.0, 205769.3166693, 213013.2979226413, 211358.77951367322, 204409.6641900194, 211554.9939386942, 212167.32140692702, 210679.31502474123, 215442.72452565352, 219648.68369148675, 220849.8915926496, 224557.96329082554, 221080.0265962466, 226243.42696738726], \"yaxis\": \"y\"}, {\"hoverlabel\": {\"namelength\": 0}, \"hovertemplate\": \"Name=%{x}<br>Value=%{y}\", \"legendgroup\": \"Name=Joe Geis\", \"line\": {\"color\": \"#19d3f3\", \"dash\": \"solid\"}, \"mode\": \"lines\", \"name\": \"Name=Joe Geis\", \"showlegend\": true, \"type\": \"scatter\", \"x\": [\"Joe Geis\", \"Joe Geis\", \"Joe Geis\", \"Joe Geis\", \"Joe Geis\", \"Joe Geis\", \"Joe Geis\", \"Joe Geis\", \"Joe Geis\", \"Joe Geis\", \"Joe Geis\", \"Joe Geis\", \"Joe Geis\", \"Joe Geis\"], \"xaxis\": \"x\", \"y\": [200000.0, 197884.7156257216, 198856.41999348902, 186531.1946890211, 190807.87812873785, 195387.84339033774, 205078.46945028353, 206813.8906780623, 206395.95311410917, 206945.85237920439, 196871.64316101928, 203563.18605623898, 202092.68591984973, 205198.20010434662], \"yaxis\": \"y\"}, {\"hoverlabel\": {\"namelength\": 0}, \"hovertemplate\": \"Name=%{x}<br>Value=%{y}\", \"legendgroup\": \"Name=Joseph Lindner\", \"line\": {\"color\": \"#FF6692\", \"dash\": \"solid\"}, \"mode\": \"lines\", \"name\": \"Name=Joseph Lindner\", \"showlegend\": true, \"type\": \"scatter\", \"x\": [\"Joseph Lindner\", \"Joseph Lindner\", \"Joseph Lindner\", \"Joseph Lindner\", \"Joseph Lindner\", \"Joseph Lindner\", \"Joseph Lindner\", \"Joseph Lindner\", \"Joseph Lindner\", \"Joseph Lindner\", \"Joseph Lindner\", \"Joseph Lindner\", \"Joseph Lindner\", \"Joseph Lindner\"], \"xaxis\": \"x\", \"y\": [200000.0, 198104.0989092531, 201990.91356796314, 199739.4376501357, 209524.86166694906, 217538.5934715825, 218531.95795170162, 220530.33779905646, 219954.05225913037, 224696.03515698155, 222000.74333630042, 226724.77280696997, 224225.6483319279, 229341.9789110898], \"yaxis\": \"y\"}, {\"hoverlabel\": {\"namelength\": 0}, \"hovertemplate\": \"Name=%{x}<br>Value=%{y}\", \"legendgroup\": \"Name=Kelly Nicholson\", \"line\": {\"color\": \"#B6E880\", \"dash\": \"solid\"}, \"mode\": \"lines\", \"name\": \"Name=Kelly Nicholson\", \"showlegend\": true, \"type\": \"scatter\", \"x\": [\"Kelly Nicholson\", \"Kelly Nicholson\", \"Kelly Nicholson\", \"Kelly Nicholson\", \"Kelly Nicholson\", \"Kelly Nicholson\", \"Kelly Nicholson\", \"Kelly Nicholson\", \"Kelly Nicholson\", \"Kelly Nicholson\", \"Kelly Nicholson\", \"Kelly Nicholson\", \"Kelly Nicholson\", \"Kelly Nicholson\"], \"xaxis\": \"x\", \"y\": [200000.0, 203487.62486042973, 200218.58169543662, 211646.15168358703, 207568.90460765245, 204688.05624471692, 200059.3955206258, 199001.81309885066, 198271.82312890404, 194851.06660597346, 200645.6310049261, 195259.5624313228, 202113.99311880194, 198442.6138130243], \"yaxis\": \"y\"}, {\"hoverlabel\": {\"namelength\": 0}, \"hovertemplate\": \"Name=%{x}<br>Value=%{y}\", \"legendgroup\": \"Name=Kristen Kiefer\", \"line\": {\"color\": \"#FF97FF\", \"dash\": \"solid\"}, \"mode\": \"lines\", \"name\": \"Name=Kristen Kiefer\", \"showlegend\": true, \"type\": \"scatter\", \"x\": [\"Kristen Kiefer\", \"Kristen Kiefer\", \"Kristen Kiefer\", \"Kristen Kiefer\", \"Kristen Kiefer\", \"Kristen Kiefer\", \"Kristen Kiefer\", \"Kristen Kiefer\", \"Kristen Kiefer\", \"Kristen Kiefer\", \"Kristen Kiefer\", \"Kristen Kiefer\", \"Kristen Kiefer\", \"Kristen Kiefer\"], \"xaxis\": \"x\", \"y\": [200000.0, 202101.27648904314, 206967.69482112082, 199718.49778274426, 200704.64988779905, 204960.7180298402, 208426.14633953798, 207080.31665739603, 208441.4193204955, 212045.24603127816, 204971.67986379517, 209602.56202270472, 204591.2098749925, 207154.02194552813], \"yaxis\": \"y\"}, {\"hoverlabel\": {\"namelength\": 0}, \"hovertemplate\": \"Name=%{x}<br>Value=%{y}\", \"legendgroup\": \"Name=Kwun Chan\", \"line\": {\"color\": \"#FECB52\", \"dash\": \"solid\"}, \"mode\": \"lines\", \"name\": \"Name=Kwun Chan\", \"showlegend\": true, \"type\": \"scatter\", \"x\": [\"Kwun Chan\", \"Kwun Chan\", \"Kwun Chan\", \"Kwun Chan\", \"Kwun Chan\", \"Kwun Chan\", \"Kwun Chan\", \"Kwun Chan\", \"Kwun Chan\", \"Kwun Chan\", \"Kwun Chan\", \"Kwun Chan\", \"Kwun Chan\", \"Kwun Chan\"], \"xaxis\": \"x\", \"y\": [200000.0, 202457.98173661553, 205408.70629131692, 197402.91809389915, 198248.08850527852, 205260.7892400765, 208747.1458051349, 208541.4210829624, 210446.08139276603, 213532.45033636116, 207871.46813022456, 213567.10684799007, 209907.56473409486, 214814.01574461837], \"yaxis\": \"y\"}, {\"hoverlabel\": {\"namelength\": 0}, \"hovertemplate\": \"Name=%{x}<br>Value=%{y}\", \"legendgroup\": \"Name=Linday Sheridan\", \"line\": {\"color\": \"#636efa\", \"dash\": \"solid\"}, \"mode\": \"lines\", \"name\": \"Name=Linday Sheridan\", \"showlegend\": true, \"type\": \"scatter\", \"x\": [\"Linday Sheridan\", \"Linday Sheridan\", \"Linday Sheridan\", \"Linday Sheridan\", \"Linday Sheridan\", \"Linday Sheridan\", \"Linday Sheridan\", \"Linday Sheridan\", \"Linday Sheridan\", \"Linday Sheridan\", \"Linday Sheridan\", \"Linday Sheridan\", \"Linday Sheridan\", \"Linday Sheridan\"], \"xaxis\": \"x\", \"y\": [200000.0, 197894.83853125531, 198691.73621848138, 192417.1769288982, 192893.9523562909, 195313.41982806934, 198545.40174963046, 198939.9057069481, 199429.0865146894, 199826.28523160645, 198313.48638626566, 202235.37788627777, 199325.02180739577, 201033.32770003442], \"yaxis\": \"y\"}, {\"hoverlabel\": {\"namelength\": 0}, \"hovertemplate\": \"Name=%{x}<br>Value=%{y}\", \"legendgroup\": \"Name=Lindsey Pelerin\", \"line\": {\"color\": \"#EF553B\", \"dash\": \"solid\"}, \"mode\": \"lines\", \"name\": \"Name=Lindsey Pelerin\", \"showlegend\": true, \"type\": \"scatter\", \"x\": [\"Lindsey Pelerin\", \"Lindsey Pelerin\", \"Lindsey Pelerin\", \"Lindsey Pelerin\", \"Lindsey Pelerin\", \"Lindsey Pelerin\", \"Lindsey Pelerin\", \"Lindsey Pelerin\", \"Lindsey Pelerin\", \"Lindsey Pelerin\", \"Lindsey Pelerin\", \"Lindsey Pelerin\", \"Lindsey Pelerin\", \"Lindsey Pelerin\"], \"xaxis\": \"x\", \"y\": [200000.0, 195542.3325974861, 203874.54925500858, 192100.36999044882, 196670.67420041346, 200161.98800890107, 211753.63749065748, 214399.79517891834, 211142.58806949604, 210455.48394842888, 200381.18777211558, 208267.25843862066, 207033.78328916046, 210648.4727608834], \"yaxis\": \"y\"}, {\"hoverlabel\": {\"namelength\": 0}, \"hovertemplate\": \"Name=%{x}<br>Value=%{y}\", \"legendgroup\": \"Name=Luke Scarchilli\", \"line\": {\"color\": \"#00cc96\", \"dash\": \"solid\"}, \"mode\": \"lines\", \"name\": \"Name=Luke Scarchilli\", \"showlegend\": true, \"type\": \"scatter\", \"x\": [\"Luke Scarchilli\", \"Luke Scarchilli\", \"Luke Scarchilli\", \"Luke Scarchilli\", \"Luke Scarchilli\", \"Luke Scarchilli\", \"Luke Scarchilli\", \"Luke Scarchilli\", \"Luke Scarchilli\", \"Luke Scarchilli\", \"Luke Scarchilli\", \"Luke Scarchilli\", \"Luke Scarchilli\", \"Luke Scarchilli\"], \"xaxis\": \"x\", \"y\": [200000.0, 196840.51281859018, 199510.26399254776, 194579.56730130044, 193538.52100382297, 197056.69628202784, 200375.37478205148, 199478.2847886549, 200773.79479244683, 202111.01537243655, 201035.75087454534, 203867.53318561745, 200211.76947339764, 204134.06005344877], \"yaxis\": \"y\"}, {\"hoverlabel\": {\"namelength\": 0}, \"hovertemplate\": \"Name=%{x}<br>Value=%{y}\", \"legendgroup\": \"Name=Maggie Mahota\", \"line\": {\"color\": \"#ab63fa\", \"dash\": \"solid\"}, \"mode\": \"lines\", \"name\": \"Name=Maggie Mahota\", \"showlegend\": true, \"type\": \"scatter\", \"x\": [\"Maggie Mahota\", \"Maggie Mahota\", \"Maggie Mahota\", \"Maggie Mahota\", \"Maggie Mahota\", \"Maggie Mahota\", \"Maggie Mahota\", \"Maggie Mahota\", \"Maggie Mahota\", \"Maggie Mahota\", \"Maggie Mahota\", \"Maggie Mahota\", \"Maggie Mahota\", \"Maggie Mahota\"], \"xaxis\": \"x\", \"y\": [200000.0, 198963.3010997555, 208003.22185837268, 202183.93864747242, 201113.01690510553, 206315.3339405581, 210376.88642789566, 208689.29625796786, 208973.57821515767, 215566.51730748606, 213152.36877939143, 216054.47264762534, 210923.39429118478, 215250.13550997752], \"yaxis\": \"y\"}, {\"hoverlabel\": {\"namelength\": 0}, \"hovertemplate\": \"Name=%{x}<br>Value=%{y}\", \"legendgroup\": \"Name=Melissa Lomaestro\", \"line\": {\"color\": \"#FFA15A\", \"dash\": \"solid\"}, \"mode\": \"lines\", \"name\": \"Name=Melissa Lomaestro\", \"showlegend\": true, \"type\": \"scatter\", \"x\": [\"Melissa Lomaestro\", \"Melissa Lomaestro\", \"Melissa Lomaestro\", \"Melissa Lomaestro\", \"Melissa Lomaestro\", \"Melissa Lomaestro\", \"Melissa Lomaestro\", \"Melissa Lomaestro\", \"Melissa Lomaestro\", \"Melissa Lomaestro\", \"Melissa Lomaestro\", \"Melissa Lomaestro\", \"Melissa Lomaestro\", \"Melissa Lomaestro\"], \"xaxis\": \"x\", \"y\": [200000.0, 198762.5001837287, 203348.810846145, 198867.82337979216, 197800.35438430213, 203023.98163879893, 206163.30280236073, 204447.9881955724, 206176.73004966494, 209133.22187895732, 207319.1806411874, 209978.07155977114, 205566.1741381656, 208261.160275366], \"yaxis\": \"y\"}, {\"hoverlabel\": {\"namelength\": 0}, \"hovertemplate\": \"Name=%{x}<br>Value=%{y}\", \"legendgroup\": \"Name=Melissa Stamper\", \"line\": {\"color\": \"#19d3f3\", \"dash\": \"solid\"}, \"mode\": \"lines\", \"name\": \"Name=Melissa Stamper\", \"showlegend\": true, \"type\": \"scatter\", \"x\": [\"Melissa Stamper\", \"Melissa Stamper\", \"Melissa Stamper\", \"Melissa Stamper\", \"Melissa Stamper\", \"Melissa Stamper\", \"Melissa Stamper\", \"Melissa Stamper\", \"Melissa Stamper\", \"Melissa Stamper\", \"Melissa Stamper\", \"Melissa Stamper\", \"Melissa Stamper\", \"Melissa Stamper\"], \"xaxis\": \"x\", \"y\": [200000.0, 197164.77898496203, 199978.37017895424, 194064.85426536523, 194232.25752804047, 201163.06013304286, 205140.325765046, 204885.250320019, 205727.15018109165, 207082.76407131035, 206090.91839705006, 211316.3869619017, 211553.97868339578, 217388.06635624255], \"yaxis\": \"y\"}, {\"hoverlabel\": {\"namelength\": 0}, \"hovertemplate\": \"Name=%{x}<br>Value=%{y}\", \"legendgroup\": \"Name=Michael Brandt\", \"line\": {\"color\": \"#FF6692\", \"dash\": \"solid\"}, \"mode\": \"lines\", \"name\": \"Name=Michael Brandt\", \"showlegend\": true, \"type\": \"scatter\", \"x\": [\"Michael Brandt\", \"Michael Brandt\", \"Michael Brandt\", \"Michael Brandt\", \"Michael Brandt\", \"Michael Brandt\", \"Michael Brandt\", \"Michael Brandt\", \"Michael Brandt\", \"Michael Brandt\", \"Michael Brandt\", \"Michael Brandt\", \"Michael Brandt\", \"Michael Brandt\"], \"xaxis\": \"x\", \"y\": [200000.0, 192732.14361372287, 198071.9533676009, 189220.7276199431, 183499.49930010768, 192453.3415623367, 199639.25105761745, 193707.44907867914, 196816.24965832857, 205317.71719332255, 214012.4975484402, 214673.04413939704, 205997.3832408281, 210549.29579944626], \"yaxis\": \"y\"}, {\"hoverlabel\": {\"namelength\": 0}, \"hovertemplate\": \"Name=%{x}<br>Value=%{y}\", \"legendgroup\": \"Name=Nicholas Capullo\", \"line\": {\"color\": \"#B6E880\", \"dash\": \"solid\"}, \"mode\": \"lines\", \"name\": \"Name=Nicholas Capullo\", \"showlegend\": true, \"type\": \"scatter\", \"x\": [\"Nicholas Capullo\", \"Nicholas Capullo\", \"Nicholas Capullo\", \"Nicholas Capullo\", \"Nicholas Capullo\", \"Nicholas Capullo\", \"Nicholas Capullo\", \"Nicholas Capullo\", \"Nicholas Capullo\", \"Nicholas Capullo\", \"Nicholas Capullo\", \"Nicholas Capullo\", \"Nicholas Capullo\", \"Nicholas Capullo\"], \"xaxis\": \"x\", \"y\": [200000.0, 201157.90366452056, 197865.6242914255, 183581.87834595836, 185884.11143339053, 192451.81580679637, 197711.0880873897, 198675.56000488842, 202081.52876742202, 207622.1603704106, 197942.08386485794, 202250.93130889078, 196785.61738029434, 201818.62705650256], \"yaxis\": \"y\"}, {\"hoverlabel\": {\"namelength\": 0}, \"hovertemplate\": \"Name=%{x}<br>Value=%{y}\", \"legendgroup\": \"Name=Nori Lansing\", \"line\": {\"color\": \"#FF97FF\", \"dash\": \"solid\"}, \"mode\": \"lines\", \"name\": \"Name=Nori Lansing\", \"showlegend\": true, \"type\": \"scatter\", \"x\": [\"Nori Lansing\", \"Nori Lansing\", \"Nori Lansing\", \"Nori Lansing\", \"Nori Lansing\", \"Nori Lansing\", \"Nori Lansing\", \"Nori Lansing\", \"Nori Lansing\", \"Nori Lansing\", \"Nori Lansing\", \"Nori Lansing\", \"Nori Lansing\", \"Nori Lansing\"], \"xaxis\": \"x\", \"y\": [200000.0, 196712.69557980594, 201529.33081692862, 196004.45881431713, 198049.5784414317, 204397.69066816103, 206011.984312479, 206979.6208393046, 205823.58666541014, 209866.49234440541, 207015.40628993115, 212378.84636003617, 213749.01632461557, 222754.4261155397], \"yaxis\": \"y\"}, {\"hoverlabel\": {\"namelength\": 0}, \"hovertemplate\": \"Name=%{x}<br>Value=%{y}\", \"legendgroup\": \"Name=Pete Lindner\", \"line\": {\"color\": \"#FECB52\", \"dash\": \"solid\"}, \"mode\": \"lines\", \"name\": \"Name=Pete Lindner\", \"showlegend\": true, \"type\": \"scatter\", \"x\": [\"Pete Lindner\", \"Pete Lindner\", \"Pete Lindner\", \"Pete Lindner\", \"Pete Lindner\", \"Pete Lindner\", \"Pete Lindner\", \"Pete Lindner\", \"Pete Lindner\", \"Pete Lindner\", \"Pete Lindner\", \"Pete Lindner\", \"Pete Lindner\", \"Pete Lindner\"], \"xaxis\": \"x\", \"y\": [200000.0, 198031.53843196755, 193633.55876756206, 185942.5737362941, 176199.45675612343, 180847.89054164744, 187765.8132451354, 198670.3801968951, 191098.5338879296, 183823.13206457486, 172526.85535426284, 174788.96658114824, 166296.96638210083, 156630.05339716532], \"yaxis\": \"y\"}, {\"hoverlabel\": {\"namelength\": 0}, \"hovertemplate\": \"Name=%{x}<br>Value=%{y}\", \"legendgroup\": \"Name=Peter Odell\", \"line\": {\"color\": \"#636efa\", \"dash\": \"solid\"}, \"mode\": \"lines\", \"name\": \"Name=Peter Odell\", \"showlegend\": true, \"type\": \"scatter\", \"x\": [\"Peter Odell\", \"Peter Odell\", \"Peter Odell\", \"Peter Odell\", \"Peter Odell\", \"Peter Odell\", \"Peter Odell\", \"Peter Odell\", \"Peter Odell\", \"Peter Odell\", \"Peter Odell\", \"Peter Odell\", \"Peter Odell\", \"Peter Odell\"], \"xaxis\": \"x\", \"y\": [200000.0, 203055.5025845669, 205076.18775797938, 196153.9647572217, 196709.02833167318, 203897.8192629147, 206434.30912508976, 205772.5549981941, 206818.10014257976, 209835.93262049172, 202830.16286129892, 209021.55342389573, 203985.48222634016, 207663.4034487526], \"yaxis\": \"y\"}, {\"hoverlabel\": {\"namelength\": 0}, \"hovertemplate\": \"Name=%{x}<br>Value=%{y}\", \"legendgroup\": \"Name=Philip Cortese\", \"line\": {\"color\": \"#EF553B\", \"dash\": \"solid\"}, \"mode\": \"lines\", \"name\": \"Name=Philip Cortese\", \"showlegend\": true, \"type\": \"scatter\", \"x\": [\"Philip Cortese\", \"Philip Cortese\", \"Philip Cortese\", \"Philip Cortese\", \"Philip Cortese\", \"Philip Cortese\", \"Philip Cortese\", \"Philip Cortese\", \"Philip Cortese\", \"Philip Cortese\", \"Philip Cortese\", \"Philip Cortese\", \"Philip Cortese\", \"Philip Cortese\"], \"xaxis\": \"x\", \"y\": [200000.0, 192083.40238056, 192443.51888243505, 182200.57123918424, 182315.5232761785, 184365.47742436835, 188849.04896425357, 187119.15607703064, 188908.2390794314, 190276.43022763063, 188970.32290302456, 193840.00185698568, 190958.51265824857, 194668.47590096536], \"yaxis\": \"y\"}, {\"hoverlabel\": {\"namelength\": 0}, \"hovertemplate\": \"Name=%{x}<br>Value=%{y}\", \"legendgroup\": \"Name=Rebecca Curtis\", \"line\": {\"color\": \"#00cc96\", \"dash\": \"solid\"}, \"mode\": \"lines\", \"name\": \"Name=Rebecca Curtis\", \"showlegend\": true, \"type\": \"scatter\", \"x\": [\"Rebecca Curtis\", \"Rebecca Curtis\", \"Rebecca Curtis\", \"Rebecca Curtis\", \"Rebecca Curtis\", \"Rebecca Curtis\", \"Rebecca Curtis\", \"Rebecca Curtis\", \"Rebecca Curtis\", \"Rebecca Curtis\", \"Rebecca Curtis\", \"Rebecca Curtis\", \"Rebecca Curtis\", \"Rebecca Curtis\"], \"xaxis\": \"x\", \"y\": [200000.0, 200404.76495622945, 204405.0062081726, 198010.48473299542, 198361.06566326454, 202024.691785253, 205259.75492439268, 205384.27640568517, 205922.07945803693, 207564.88450764422, 203508.52598003997, 205596.90396088985, 202165.92488565666, 206706.04695023794], \"yaxis\": \"y\"}, {\"hoverlabel\": {\"namelength\": 0}, \"hovertemplate\": \"Name=%{x}<br>Value=%{y}\", \"legendgroup\": \"Name=Schuyler Bull\", \"line\": {\"color\": \"#ab63fa\", \"dash\": \"solid\"}, \"mode\": \"lines\", \"name\": \"Name=Schuyler Bull\", \"showlegend\": true, \"type\": \"scatter\", \"x\": [\"Schuyler Bull\", \"Schuyler Bull\", \"Schuyler Bull\", \"Schuyler Bull\", \"Schuyler Bull\", \"Schuyler Bull\", \"Schuyler Bull\", \"Schuyler Bull\", \"Schuyler Bull\", \"Schuyler Bull\", \"Schuyler Bull\", \"Schuyler Bull\", \"Schuyler Bull\", \"Schuyler Bull\"], \"xaxis\": \"x\", \"y\": [200000.0, 203299.4920320132, 208164.93085493371, 201221.59862833034, 202143.68109269673, 209138.6753640902, 212212.2806480731, 216415.46573260528, 216749.31710344506, 221427.43754288368, 217350.62527532387, 224934.6329938565, 219518.67145952213, 223708.84798345112], \"yaxis\": \"y\"}, {\"hoverlabel\": {\"namelength\": 0}, \"hovertemplate\": \"Name=%{x}<br>Value=%{y}\", \"legendgroup\": \"Name=Sherlock Bacchus\", \"line\": {\"color\": \"#FFA15A\", \"dash\": \"solid\"}, \"mode\": \"lines\", \"name\": \"Name=Sherlock Bacchus\", \"showlegend\": true, \"type\": \"scatter\", \"x\": [\"Sherlock Bacchus\", \"Sherlock Bacchus\", \"Sherlock Bacchus\", \"Sherlock Bacchus\", \"Sherlock Bacchus\", \"Sherlock Bacchus\", \"Sherlock Bacchus\", \"Sherlock Bacchus\", \"Sherlock Bacchus\", \"Sherlock Bacchus\", \"Sherlock Bacchus\", \"Sherlock Bacchus\", \"Sherlock Bacchus\", \"Sherlock Bacchus\"], \"xaxis\": \"x\", \"y\": [200000.0, 194201.4904182445, 197855.26985399678, 191915.71493633266, 193876.15710897517, 198446.1276637372, 199400.61930628613, 202518.01480067085, 202403.0671073954, 199090.19987837723, 193735.51591433198, 196634.75405437037, 190364.6616547642, 192805.0618756953], \"yaxis\": \"y\"}, {\"hoverlabel\": {\"namelength\": 0}, \"hovertemplate\": \"Name=%{x}<br>Value=%{y}\", \"legendgroup\": \"Name=Sherry A Rosekrans\", \"line\": {\"color\": \"#19d3f3\", \"dash\": \"solid\"}, \"mode\": \"lines\", \"name\": \"Name=Sherry A Rosekrans\", \"showlegend\": true, \"type\": \"scatter\", \"x\": [\"Sherry A Rosekrans\", \"Sherry A Rosekrans\", \"Sherry A Rosekrans\", \"Sherry A Rosekrans\", \"Sherry A Rosekrans\", \"Sherry A Rosekrans\", \"Sherry A Rosekrans\", \"Sherry A Rosekrans\", \"Sherry A Rosekrans\", \"Sherry A Rosekrans\", \"Sherry A Rosekrans\", \"Sherry A Rosekrans\", \"Sherry A Rosekrans\", \"Sherry A Rosekrans\"], \"xaxis\": \"x\", \"y\": [200000.0, 200337.42570525355, 203908.5016695732, 198800.49714017462, 199018.57995980536, 203076.61241336816, 206221.3665752119, 206673.73176077387, 208156.59872303944, 211357.21509527398, 207515.9376955742, 211729.3687731534, 209306.09024293837, 213057.7064091937], \"yaxis\": \"y\"}, {\"hoverlabel\": {\"namelength\": 0}, \"hovertemplate\": \"Name=%{x}<br>Value=%{y}\", \"legendgroup\": \"Name=Sue Dymond\", \"line\": {\"color\": \"#FF6692\", \"dash\": \"solid\"}, \"mode\": \"lines\", \"name\": \"Name=Sue Dymond\", \"showlegend\": true, \"type\": \"scatter\", \"x\": [\"Sue Dymond\", \"Sue Dymond\", \"Sue Dymond\", \"Sue Dymond\", \"Sue Dymond\", \"Sue Dymond\", \"Sue Dymond\", \"Sue Dymond\", \"Sue Dymond\", \"Sue Dymond\", \"Sue Dymond\", \"Sue Dymond\", \"Sue Dymond\", \"Sue Dymond\"], \"xaxis\": \"x\", \"y\": [150000.0, 148390.18917270115, 149541.973390844, 142365.70442350965, 143401.7427543436, 147067.7243650128, 152651.89482093166, 150762.0659978552, 148675.3859184886, 149117.855616639, 146403.69888213612, 149880.9303503755, 145808.6920499275, 148477.31982039017], \"yaxis\": \"y\"}, {\"hoverlabel\": {\"namelength\": 0}, \"hovertemplate\": \"Name=%{x}<br>Value=%{y}\", \"legendgroup\": \"Name=Teresa Purcell\", \"line\": {\"color\": \"#B6E880\", \"dash\": \"solid\"}, \"mode\": \"lines\", \"name\": \"Name=Teresa Purcell\", \"showlegend\": true, \"type\": \"scatter\", \"x\": [\"Teresa Purcell\", \"Teresa Purcell\", \"Teresa Purcell\", \"Teresa Purcell\", \"Teresa Purcell\", \"Teresa Purcell\", \"Teresa Purcell\", \"Teresa Purcell\", \"Teresa Purcell\", \"Teresa Purcell\", \"Teresa Purcell\", \"Teresa Purcell\", \"Teresa Purcell\", \"Teresa Purcell\"], \"xaxis\": \"x\", \"y\": [200000.0, 196342.32752783995, 196424.68344465224, 188040.26276932016, 188938.74358851093, 191310.6560123679, 195096.02910243647, 196177.83212194976, 194884.20126749133, 197850.78376391772, 195159.12532549954, 198443.00185582612, 193844.9621990414, 196363.10894722337], \"yaxis\": \"y\"}, {\"hoverlabel\": {\"namelength\": 0}, \"hovertemplate\": \"Name=%{x}<br>Value=%{y}\", \"legendgroup\": \"Name=Trudy Seeber\", \"line\": {\"color\": \"#FF97FF\", \"dash\": \"solid\"}, \"mode\": \"lines\", \"name\": \"Name=Trudy Seeber\", \"showlegend\": true, \"type\": \"scatter\", \"x\": [\"Trudy Seeber\", \"Trudy Seeber\", \"Trudy Seeber\", \"Trudy Seeber\", \"Trudy Seeber\", \"Trudy Seeber\", \"Trudy Seeber\", \"Trudy Seeber\", \"Trudy Seeber\", \"Trudy Seeber\", \"Trudy Seeber\", \"Trudy Seeber\", \"Trudy Seeber\", \"Trudy Seeber\"], \"xaxis\": \"x\", \"y\": [200000.0, 201114.0018208602, 207147.49161144352, 202949.8806702576, 201677.87169707235, 205169.57016423336, 211327.26941813773, 214959.05067929378, 214397.8524608831, 222840.0091143943, 227098.40546978306, 240515.12636246442, 237949.1552936447, 255840.47131222428], \"yaxis\": \"y\"}],\n",
       "                        {\"height\": 600, \"legend\": {\"tracegroupgap\": 0}, \"margin\": {\"t\": 60}, \"template\": {\"data\": {\"bar\": [{\"error_x\": {\"color\": \"#2a3f5f\"}, \"error_y\": {\"color\": \"#2a3f5f\"}, \"marker\": {\"line\": {\"color\": \"#E5ECF6\", \"width\": 0.5}}, \"type\": \"bar\"}], \"barpolar\": [{\"marker\": {\"line\": {\"color\": \"#E5ECF6\", \"width\": 0.5}}, \"type\": \"barpolar\"}], \"carpet\": [{\"aaxis\": {\"endlinecolor\": \"#2a3f5f\", \"gridcolor\": \"white\", \"linecolor\": \"white\", \"minorgridcolor\": \"white\", \"startlinecolor\": \"#2a3f5f\"}, \"baxis\": {\"endlinecolor\": \"#2a3f5f\", \"gridcolor\": \"white\", \"linecolor\": \"white\", \"minorgridcolor\": \"white\", \"startlinecolor\": \"#2a3f5f\"}, \"type\": \"carpet\"}], \"choropleth\": [{\"colorbar\": {\"outlinewidth\": 0, \"ticks\": \"\"}, \"type\": \"choropleth\"}], \"contour\": [{\"colorbar\": {\"outlinewidth\": 0, \"ticks\": \"\"}, \"colorscale\": [[0.0, \"#0d0887\"], [0.1111111111111111, \"#46039f\"], [0.2222222222222222, \"#7201a8\"], [0.3333333333333333, \"#9c179e\"], [0.4444444444444444, \"#bd3786\"], [0.5555555555555556, \"#d8576b\"], [0.6666666666666666, \"#ed7953\"], [0.7777777777777778, \"#fb9f3a\"], [0.8888888888888888, \"#fdca26\"], [1.0, \"#f0f921\"]], \"type\": \"contour\"}], \"contourcarpet\": [{\"colorbar\": {\"outlinewidth\": 0, \"ticks\": \"\"}, \"type\": \"contourcarpet\"}], \"heatmap\": [{\"colorbar\": {\"outlinewidth\": 0, \"ticks\": \"\"}, \"colorscale\": [[0.0, \"#0d0887\"], [0.1111111111111111, \"#46039f\"], [0.2222222222222222, \"#7201a8\"], [0.3333333333333333, \"#9c179e\"], [0.4444444444444444, \"#bd3786\"], [0.5555555555555556, \"#d8576b\"], [0.6666666666666666, \"#ed7953\"], [0.7777777777777778, \"#fb9f3a\"], [0.8888888888888888, \"#fdca26\"], [1.0, \"#f0f921\"]], \"type\": \"heatmap\"}], \"heatmapgl\": [{\"colorbar\": {\"outlinewidth\": 0, \"ticks\": \"\"}, \"colorscale\": [[0.0, \"#0d0887\"], [0.1111111111111111, \"#46039f\"], [0.2222222222222222, \"#7201a8\"], [0.3333333333333333, \"#9c179e\"], [0.4444444444444444, \"#bd3786\"], [0.5555555555555556, \"#d8576b\"], [0.6666666666666666, \"#ed7953\"], [0.7777777777777778, \"#fb9f3a\"], [0.8888888888888888, \"#fdca26\"], [1.0, \"#f0f921\"]], \"type\": \"heatmapgl\"}], \"histogram\": [{\"marker\": {\"colorbar\": {\"outlinewidth\": 0, \"ticks\": \"\"}}, \"type\": \"histogram\"}], \"histogram2d\": [{\"colorbar\": {\"outlinewidth\": 0, \"ticks\": \"\"}, \"colorscale\": [[0.0, \"#0d0887\"], [0.1111111111111111, \"#46039f\"], [0.2222222222222222, \"#7201a8\"], [0.3333333333333333, \"#9c179e\"], [0.4444444444444444, \"#bd3786\"], [0.5555555555555556, \"#d8576b\"], [0.6666666666666666, \"#ed7953\"], [0.7777777777777778, \"#fb9f3a\"], [0.8888888888888888, \"#fdca26\"], [1.0, \"#f0f921\"]], \"type\": \"histogram2d\"}], \"histogram2dcontour\": [{\"colorbar\": {\"outlinewidth\": 0, \"ticks\": \"\"}, \"colorscale\": [[0.0, \"#0d0887\"], [0.1111111111111111, \"#46039f\"], [0.2222222222222222, \"#7201a8\"], [0.3333333333333333, \"#9c179e\"], [0.4444444444444444, \"#bd3786\"], [0.5555555555555556, \"#d8576b\"], [0.6666666666666666, \"#ed7953\"], [0.7777777777777778, \"#fb9f3a\"], [0.8888888888888888, \"#fdca26\"], [1.0, \"#f0f921\"]], \"type\": \"histogram2dcontour\"}], \"mesh3d\": [{\"colorbar\": {\"outlinewidth\": 0, \"ticks\": \"\"}, \"type\": \"mesh3d\"}], \"parcoords\": [{\"line\": {\"colorbar\": {\"outlinewidth\": 0, \"ticks\": \"\"}}, \"type\": \"parcoords\"}], \"scatter\": [{\"marker\": {\"colorbar\": {\"outlinewidth\": 0, \"ticks\": \"\"}}, \"type\": \"scatter\"}], \"scatter3d\": [{\"line\": {\"colorbar\": {\"outlinewidth\": 0, \"ticks\": \"\"}}, \"marker\": {\"colorbar\": {\"outlinewidth\": 0, \"ticks\": \"\"}}, \"type\": \"scatter3d\"}], \"scattercarpet\": [{\"marker\": {\"colorbar\": {\"outlinewidth\": 0, \"ticks\": \"\"}}, \"type\": \"scattercarpet\"}], \"scattergeo\": [{\"marker\": {\"colorbar\": {\"outlinewidth\": 0, \"ticks\": \"\"}}, \"type\": \"scattergeo\"}], \"scattergl\": [{\"marker\": {\"colorbar\": {\"outlinewidth\": 0, \"ticks\": \"\"}}, \"type\": \"scattergl\"}], \"scattermapbox\": [{\"marker\": {\"colorbar\": {\"outlinewidth\": 0, \"ticks\": \"\"}}, \"type\": \"scattermapbox\"}], \"scatterpolar\": [{\"marker\": {\"colorbar\": {\"outlinewidth\": 0, \"ticks\": \"\"}}, \"type\": \"scatterpolar\"}], \"scatterpolargl\": [{\"marker\": {\"colorbar\": {\"outlinewidth\": 0, \"ticks\": \"\"}}, \"type\": \"scatterpolargl\"}], \"scatterternary\": [{\"marker\": {\"colorbar\": {\"outlinewidth\": 0, \"ticks\": \"\"}}, \"type\": \"scatterternary\"}], \"surface\": [{\"colorbar\": {\"outlinewidth\": 0, \"ticks\": \"\"}, \"colorscale\": [[0.0, \"#0d0887\"], [0.1111111111111111, \"#46039f\"], [0.2222222222222222, \"#7201a8\"], [0.3333333333333333, \"#9c179e\"], [0.4444444444444444, \"#bd3786\"], [0.5555555555555556, \"#d8576b\"], [0.6666666666666666, \"#ed7953\"], [0.7777777777777778, \"#fb9f3a\"], [0.8888888888888888, \"#fdca26\"], [1.0, \"#f0f921\"]], \"type\": \"surface\"}], \"table\": [{\"cells\": {\"fill\": {\"color\": \"#EBF0F8\"}, \"line\": {\"color\": \"white\"}}, \"header\": {\"fill\": {\"color\": \"#C8D4E3\"}, \"line\": {\"color\": \"white\"}}, \"type\": \"table\"}]}, \"layout\": {\"annotationdefaults\": {\"arrowcolor\": \"#2a3f5f\", \"arrowhead\": 0, \"arrowwidth\": 1}, \"colorscale\": {\"diverging\": [[0, \"#8e0152\"], [0.1, \"#c51b7d\"], [0.2, \"#de77ae\"], [0.3, \"#f1b6da\"], [0.4, \"#fde0ef\"], [0.5, \"#f7f7f7\"], [0.6, \"#e6f5d0\"], [0.7, \"#b8e186\"], [0.8, \"#7fbc41\"], [0.9, \"#4d9221\"], [1, \"#276419\"]], \"sequential\": [[0.0, \"#0d0887\"], [0.1111111111111111, \"#46039f\"], [0.2222222222222222, \"#7201a8\"], [0.3333333333333333, \"#9c179e\"], [0.4444444444444444, \"#bd3786\"], [0.5555555555555556, \"#d8576b\"], [0.6666666666666666, \"#ed7953\"], [0.7777777777777778, \"#fb9f3a\"], [0.8888888888888888, \"#fdca26\"], [1.0, \"#f0f921\"]], \"sequentialminus\": [[0.0, \"#0d0887\"], [0.1111111111111111, \"#46039f\"], [0.2222222222222222, \"#7201a8\"], [0.3333333333333333, \"#9c179e\"], [0.4444444444444444, \"#bd3786\"], [0.5555555555555556, \"#d8576b\"], [0.6666666666666666, \"#ed7953\"], [0.7777777777777778, \"#fb9f3a\"], [0.8888888888888888, \"#fdca26\"], [1.0, \"#f0f921\"]]}, \"colorway\": [\"#636efa\", \"#EF553B\", \"#00cc96\", \"#ab63fa\", \"#FFA15A\", \"#19d3f3\", \"#FF6692\", \"#B6E880\", \"#FF97FF\", \"#FECB52\"], \"font\": {\"color\": \"#2a3f5f\"}, \"geo\": {\"bgcolor\": \"white\", \"lakecolor\": \"white\", \"landcolor\": \"#E5ECF6\", \"showlakes\": true, \"showland\": true, \"subunitcolor\": \"white\"}, \"hoverlabel\": {\"align\": \"left\"}, \"hovermode\": \"closest\", \"mapbox\": {\"style\": \"light\"}, \"paper_bgcolor\": \"white\", \"plot_bgcolor\": \"#E5ECF6\", \"polar\": {\"angularaxis\": {\"gridcolor\": \"white\", \"linecolor\": \"white\", \"ticks\": \"\"}, \"bgcolor\": \"#E5ECF6\", \"radialaxis\": {\"gridcolor\": \"white\", \"linecolor\": \"white\", \"ticks\": \"\"}}, \"scene\": {\"xaxis\": {\"backgroundcolor\": \"#E5ECF6\", \"gridcolor\": \"white\", \"gridwidth\": 2, \"linecolor\": \"white\", \"showbackground\": true, \"ticks\": \"\", \"zerolinecolor\": \"white\"}, \"yaxis\": {\"backgroundcolor\": \"#E5ECF6\", \"gridcolor\": \"white\", \"gridwidth\": 2, \"linecolor\": \"white\", \"showbackground\": true, \"ticks\": \"\", \"zerolinecolor\": \"white\"}, \"zaxis\": {\"backgroundcolor\": \"#E5ECF6\", \"gridcolor\": \"white\", \"gridwidth\": 2, \"linecolor\": \"white\", \"showbackground\": true, \"ticks\": \"\", \"zerolinecolor\": \"white\"}}, \"shapedefaults\": {\"line\": {\"color\": \"#2a3f5f\"}}, \"ternary\": {\"aaxis\": {\"gridcolor\": \"white\", \"linecolor\": \"white\", \"ticks\": \"\"}, \"baxis\": {\"gridcolor\": \"white\", \"linecolor\": \"white\", \"ticks\": \"\"}, \"bgcolor\": \"#E5ECF6\", \"caxis\": {\"gridcolor\": \"white\", \"linecolor\": \"white\", \"ticks\": \"\"}}, \"title\": {\"x\": 0.05}, \"xaxis\": {\"automargin\": true, \"gridcolor\": \"white\", \"linecolor\": \"white\", \"ticks\": \"\", \"zerolinecolor\": \"white\", \"zerolinewidth\": 2}, \"yaxis\": {\"automargin\": true, \"gridcolor\": \"white\", \"linecolor\": \"white\", \"ticks\": \"\", \"zerolinecolor\": \"white\", \"zerolinewidth\": 2}}}, \"xaxis\": {\"anchor\": \"y\", \"categoryarray\": [\"Alexandra Sautin\", \"Amy Acerra\", \"Angela Calsolaro\", \"Barbaranne Way\", \"Bradley Bonfante\", \"Claire Moylan\", \"Dan Cancelliere\", \"Danish Sharpe\", \"David Hunn\", \"Eli Rabinowitz\", \"Estelle Genest\", \"Giuseppe Tedesco\", \"Jacqueline Lorenz\", \"Jennah Hebert\", \"Jennah Hebert v2\", \"Joe Geis\", \"Joseph Lindner\", \"Kelly Nicholson\", \"Kristen Kiefer\", \"Kwun Chan\", \"Linday Sheridan\", \"Lindsey Pelerin\", \"Luke Scarchilli\", \"Maggie Mahota\", \"Melissa Lomaestro\", \"Melissa Stamper\", \"Michael Brandt\", \"Nicholas Capullo\", \"Nori Lansing\", \"Pete Lindner\", \"Peter Odell\", \"Philip Cortese\", \"Rebecca Curtis\", \"Schuyler Bull\", \"Sherlock Bacchus\", \"Sherry A Rosekrans\", \"Sue Dymond\", \"Teresa Purcell\", \"Trudy Seeber\"], \"categoryorder\": \"array\", \"domain\": [0.0, 0.98], \"title\": {\"text\": \"Name\"}}, \"yaxis\": {\"anchor\": \"x\", \"domain\": [0.0, 1.0], \"title\": {\"text\": \"Value\"}}},\n",
       "                        {\"responsive\": true}\n",
       "                    ).then(function(){\n",
       "                            \n",
       "var gd = document.getElementById('c64f68c5-701d-4334-9366-58a5090c5b28');\n",
       "var x = new MutationObserver(function (mutations, observer) {{\n",
       "        var display = window.getComputedStyle(gd).display;\n",
       "        if (!display || display === 'none') {{\n",
       "            console.log([gd, 'removed!']);\n",
       "            Plotly.purge(gd);\n",
       "            observer.disconnect();\n",
       "        }}\n",
       "}});\n",
       "\n",
       "// Listen for the removal of the full notebook cells\n",
       "var notebookContainer = gd.closest('#notebook-container');\n",
       "if (notebookContainer) {{\n",
       "    x.observe(notebookContainer, {childList: true});\n",
       "}}\n",
       "\n",
       "// Listen for the clearing of the current output cell\n",
       "var outputEl = gd.closest('.output');\n",
       "if (outputEl) {{\n",
       "    x.observe(outputEl, {childList: true});\n",
       "}}\n",
       "\n",
       "                        })\n",
       "                };\n",
       "                });\n",
       "            </script>\n",
       "        </div>"
      ]
     },
     "metadata": {},
     "output_type": "display_data"
    }
   ],
   "source": [
    "fig = px.line(trend_data, x=\"Name\", y=\"Value\", color='Name')\n",
    "fig.show()"
   ]
  }
 ],
 "metadata": {
  "kernelspec": {
   "display_name": "Python 3",
   "language": "python",
   "name": "python3"
  },
  "language_info": {
   "codemirror_mode": {
    "name": "ipython",
    "version": 3
   },
   "file_extension": ".py",
   "mimetype": "text/x-python",
   "name": "python",
   "nbconvert_exporter": "python",
   "pygments_lexer": "ipython3",
   "version": "3.6.2"
  }
 },
 "nbformat": 4,
 "nbformat_minor": 2
}
