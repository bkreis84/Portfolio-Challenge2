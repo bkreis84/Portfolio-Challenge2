{
 "cells": [
  {
   "cell_type": "code",
   "execution_count": 2,
   "metadata": {
    "collapsed": true,
    "scrolled": true
   },
   "outputs": [],
   "source": [
    "import os\n",
    "import pandas as pd\n",
    "import numpy as np\n",
    "import pandas_datareader\n",
    "from pandas_datareader import data as pdr\n",
    "from datetime import datetime, timedelta\n",
    "import yfinance as yf\n",
    "\n",
    "def stockData(sList, stDate, endDate):\n",
    "    \"\"\"Take list of stocks and pull data for that stock and create technical indicator variables\n",
    "    sList requires list of stocks, dates should be entered in format 'YYYY-MM-DD' \"\"\"\n",
    "   \n",
    "    data = []\n",
    "    for element in sList:\n",
    "        try:\n",
    "            temp = pdr.get_data_yahoo(element, start = stDate, end = endDate)\n",
    "            #add an indentifier\n",
    "            temp['Symbol'] = element\n",
    "            temp['Close'] = temp['Close']\n",
    "        except: \n",
    "            #If stock symbol cannot be found make it $1\n",
    "            print (element)\n",
    "            temp['Symbol'] = element\n",
    "            temp['Close'] = 1\n",
    "        else:\n",
    "        #add data to list \n",
    "            data.append(temp)\n",
    "        #convert to dataframe    \n",
    "        df = pd.concat(data)\n",
    "        #drop rows for which we will not have all data points calculated\n",
    "        df = df.dropna()\n",
    "        #dates above what user entered\n",
    "        df = df.loc[stDate : endDate]\n",
    "        #order and limit columns to those needed\n",
    "        df = df.loc[:, ['Symbol', 'Close']]\n",
    "        df['Day'] = pd.to_datetime(df.index)\n",
    "\n",
    "    \n",
    "    return(df)\n",
    "\n"
   ]
  },
  {
   "cell_type": "code",
   "execution_count": 3,
   "metadata": {
    "collapsed": true
   },
   "outputs": [],
   "source": [
    "#set working directory \n",
    "os.chdir(\"/Users/bkrei/Desktop/Programming/Portfolio-Challenge2\")"
   ]
  },
  {
   "cell_type": "code",
   "execution_count": 4,
   "metadata": {},
   "outputs": [],
   "source": [
    "#Read in individual portfolios\n",
    "portfolios = pd.read_csv(\"https://raw.githubusercontent.com/bkreis84/Portfolio-Challenge2/master/Portfolios.csv\")"
   ]
  },
  {
   "cell_type": "code",
   "execution_count": 5,
   "metadata": {},
   "outputs": [
    {
     "data": {
      "text/plain": [
       "0      BRK-B\n",
       "1         BX\n",
       "2        RXL\n",
       "3        ROM\n",
       "4       AMZN\n",
       "5       REGN\n",
       "6        NEW\n",
       "7        WMT\n",
       "8       AAPL\n",
       "9       GRUB\n",
       "10      DKMR\n",
       "11      VXRT\n",
       "12      DELL\n",
       "13        BA\n",
       "14       LOW\n",
       "15      UBER\n",
       "16       HDS\n",
       "17      MSFT\n",
       "18      EXEL\n",
       "19     BGSAX\n",
       "20     TWCIX\n",
       "21     TRBCX\n",
       "25     GOOGL\n",
       "26      ATVI\n",
       "27     BKRRF\n",
       "28      BLFE\n",
       "29      CHTR\n",
       "30      ADBE\n",
       "31      QCOM\n",
       "32      PENN\n",
       "       ...  \n",
       "225      CCL\n",
       "226     ARKQ\n",
       "231     TWTR\n",
       "232     NFLX\n",
       "234     CRWD\n",
       "237     VIRT\n",
       "238      SNY\n",
       "239      NVS\n",
       "242      RDN\n",
       "243       SQ\n",
       "244     PYPL\n",
       "245      SNE\n",
       "247      LUV\n",
       "249     NCLH\n",
       "254     INTC\n",
       "256       MA\n",
       "257     QDEL\n",
       "258      BIG\n",
       "259      APT\n",
       "260      LPX\n",
       "261       DQ\n",
       "267     SHOP\n",
       "269     REGI\n",
       "274       GM\n",
       "275     ORLY\n",
       "276      EWH\n",
       "279     ORCL\n",
       "280      PKI\n",
       "281     EPAM\n",
       "282      CWH\n",
       "Name: Symbol, Length: 181, dtype: object"
      ]
     },
     "execution_count": 5,
     "metadata": {},
     "output_type": "execute_result"
    }
   ],
   "source": [
    "#List of all ticker symbols\n",
    "symbols = portfolios['Symbol'].drop_duplicates()\n",
    "symbols.head(300)"
   ]
  },
  {
   "cell_type": "code",
   "execution_count": 6,
   "metadata": {
    "collapsed": true
   },
   "outputs": [],
   "source": [
    "symbols.to_csv(\"symbols.csv\", header = False)\n",
    "#symbols = pd.read_csv(\"https://raw.githubusercontent.com/bkreis84/Portfolio-Challenge2/master/symbols.csv\", header=None)\n"
   ]
  },
  {
   "cell_type": "code",
   "execution_count": null,
   "metadata": {},
   "outputs": [],
   "source": [
    "#Pass the ticker list to the function, print invalid stock symbols and create dataframe with intial prices\n",
    "beg_prices = stockData(symbols, '2020-09-18', '2020-09-18')\n",
    "beg_prices.shape"
   ]
  },
  {
   "cell_type": "code",
   "execution_count": 92,
   "metadata": {
    "collapsed": true
   },
   "outputs": [],
   "source": [
    "beg_prices"
   ]
  },
  {
   "cell_type": "code",
   "execution_count": 88,
   "metadata": {},
   "outputs": [
    {
     "name": "stdout",
     "output_type": "stream",
     "text": [
      "BLFE\n",
      "DMY\n",
      "PGE\n",
      "OSTX\n",
      "PETM\n",
      "VF\n",
      "GXI\n",
      "GMG\n"
     ]
    }
   ],
   "source": [
    "#Pull SNAP which for some reason is the only stock with an issue.\n",
    "er = stockData(['DKMR', 'BLFE', 'DMY', 'PGE', 'OSTX', 'PETM', 'VF','GXI','GMG'], '2019-09-06', '2019-09-06')"
   ]
  },
  {
   "cell_type": "code",
   "execution_count": 100,
   "metadata": {
    "collapsed": true
   },
   "outputs": [],
   "source": [
    "#Combine the main and SNAP dataframes\n",
    "frames = [beg_prices, er]\n",
    "beg_prices = pd.concat(frames, sort=True).drop_duplicates(subset='Symbol')"
   ]
  },
  {
   "cell_type": "code",
   "execution_count": 101,
   "metadata": {
    "collapsed": true
   },
   "outputs": [],
   "source": [
    "beg_prices.to_csv(\"beg_prices.csv\")"
   ]
  },
  {
   "cell_type": "code",
   "execution_count": 102,
   "metadata": {
    "collapsed": true,
    "scrolled": true
   },
   "outputs": [],
   "source": [
    "beg_prices = pd.read_csv(\"https://raw.githubusercontent.com/bkreis84/Portfolio-Challenge2/master/beg_prices.csv\")\n",
    "combined = pd.merge(portfolios, beg_prices, how = 'left', on = \"Symbol\", validate=\"many_to_one\")"
   ]
  },
  {
   "cell_type": "code",
   "execution_count": 103,
   "metadata": {
    "scrolled": true
   },
   "outputs": [
    {
     "data": {
      "text/html": [
       "<div>\n",
       "<style scoped>\n",
       "    .dataframe tbody tr th:only-of-type {\n",
       "        vertical-align: middle;\n",
       "    }\n",
       "\n",
       "    .dataframe tbody tr th {\n",
       "        vertical-align: top;\n",
       "    }\n",
       "\n",
       "    .dataframe thead th {\n",
       "        text-align: right;\n",
       "    }\n",
       "</style>\n",
       "<table border=\"1\" class=\"dataframe\">\n",
       "  <thead>\n",
       "    <tr style=\"text-align: right;\">\n",
       "      <th></th>\n",
       "      <th>Name</th>\n",
       "      <th>Symbol</th>\n",
       "      <th>% of Portfolio</th>\n",
       "      <th>Cost Basis</th>\n",
       "      <th>Unnamed: 0</th>\n",
       "      <th>Close</th>\n",
       "      <th>Date</th>\n",
       "      <th>Day</th>\n",
       "    </tr>\n",
       "  </thead>\n",
       "  <tbody>\n",
       "    <tr>\n",
       "      <th>0</th>\n",
       "      <td>Estelle Genest</td>\n",
       "      <td>BRK-B</td>\n",
       "      <td>0.03</td>\n",
       "      <td>6000</td>\n",
       "      <td>0.0</td>\n",
       "      <td>218.210007</td>\n",
       "      <td>2020-09-18</td>\n",
       "      <td>2020-09-18</td>\n",
       "    </tr>\n",
       "    <tr>\n",
       "      <th>1</th>\n",
       "      <td>Estelle Genest</td>\n",
       "      <td>BX</td>\n",
       "      <td>0.05</td>\n",
       "      <td>10000</td>\n",
       "      <td>1.0</td>\n",
       "      <td>52.700001</td>\n",
       "      <td>2020-09-18</td>\n",
       "      <td>2020-09-18</td>\n",
       "    </tr>\n",
       "    <tr>\n",
       "      <th>2</th>\n",
       "      <td>Estelle Genest</td>\n",
       "      <td>RXL</td>\n",
       "      <td>0.30</td>\n",
       "      <td>60000</td>\n",
       "      <td>2.0</td>\n",
       "      <td>129.130005</td>\n",
       "      <td>2020-09-18</td>\n",
       "      <td>2020-09-18</td>\n",
       "    </tr>\n",
       "    <tr>\n",
       "      <th>3</th>\n",
       "      <td>Estelle Genest</td>\n",
       "      <td>ROM</td>\n",
       "      <td>0.10</td>\n",
       "      <td>20000</td>\n",
       "      <td>3.0</td>\n",
       "      <td>51.900002</td>\n",
       "      <td>2020-09-18</td>\n",
       "      <td>2020-09-18</td>\n",
       "    </tr>\n",
       "    <tr>\n",
       "      <th>4</th>\n",
       "      <td>Estelle Genest</td>\n",
       "      <td>AMZN</td>\n",
       "      <td>0.10</td>\n",
       "      <td>20000</td>\n",
       "      <td>4.0</td>\n",
       "      <td>2954.909912</td>\n",
       "      <td>2020-09-18</td>\n",
       "      <td>2020-09-18</td>\n",
       "    </tr>\n",
       "  </tbody>\n",
       "</table>\n",
       "</div>"
      ],
      "text/plain": [
       "             Name Symbol  % of Portfolio  Cost Basis  Unnamed: 0        Close  \\\n",
       "0  Estelle Genest  BRK-B            0.03        6000         0.0   218.210007   \n",
       "1  Estelle Genest     BX            0.05       10000         1.0    52.700001   \n",
       "2  Estelle Genest    RXL            0.30       60000         2.0   129.130005   \n",
       "3  Estelle Genest    ROM            0.10       20000         3.0    51.900002   \n",
       "4  Estelle Genest   AMZN            0.10       20000         4.0  2954.909912   \n",
       "\n",
       "         Date         Day  \n",
       "0  2020-09-18  2020-09-18  \n",
       "1  2020-09-18  2020-09-18  \n",
       "2  2020-09-18  2020-09-18  \n",
       "3  2020-09-18  2020-09-18  \n",
       "4  2020-09-18  2020-09-18  "
      ]
     },
     "execution_count": 103,
     "metadata": {},
     "output_type": "execute_result"
    }
   ],
   "source": [
    "combined.head(5)"
   ]
  },
  {
   "cell_type": "code",
   "execution_count": 104,
   "metadata": {
    "collapsed": true
   },
   "outputs": [],
   "source": [
    "#Calc # of shares purchased\n",
    "combined[\"# of Shares\"] = combined[\"Cost Basis\"]/ combined[\"Close\"]\n",
    "#Convert names to proper case\n",
    "#combined['Name'] = list(map(lambda x: x.title(), combined['Name']))\n",
    "#combined.head()"
   ]
  },
  {
   "cell_type": "code",
   "execution_count": 105,
   "metadata": {
    "collapsed": true
   },
   "outputs": [],
   "source": [
    "#combined.to_csv(\"initial portfolios.csv\")"
   ]
  },
  {
   "cell_type": "code",
   "execution_count": 106,
   "metadata": {
    "collapsed": true
   },
   "outputs": [],
   "source": [
    "initportfolios = pd.read_csv(\"https://raw.githubusercontent.com/bkreis84/Portfolio-Challenge2/master/initial%20portfolios.csv\")"
   ]
  },
  {
   "cell_type": "markdown",
   "metadata": {},
   "source": [
    "# Simple Comparison (Initial vs Current Value) START HERE TO UPDATE"
   ]
  },
  {
   "cell_type": "code",
   "execution_count": 114,
   "metadata": {},
   "outputs": [
    {
     "name": "stdout",
     "output_type": "stream",
     "text": [
      "BLFE\n",
      "DMY\n",
      "PGE\n",
      "OSTX\n",
      "PETM\n",
      "VF\n",
      "GXI\n",
      "GMG\n"
     ]
    }
   ],
   "source": [
    "#Select date to compare to initial prices\n",
    "\n",
    "cur_prices = stockData(symbols, '2020-09-28', '2020-09-28')"
   ]
  },
  {
   "cell_type": "code",
   "execution_count": 124,
   "metadata": {},
   "outputs": [
    {
     "name": "stdout",
     "output_type": "stream",
     "text": [
      "BLFE\n",
      "DMY\n",
      "PGE\n",
      "OSTX\n",
      "PETM\n",
      "VF\n",
      "GXI\n",
      "GMG\n"
     ]
    }
   ],
   "source": [
    "#Pull SNAP which for some reason is the only stock with an issue.\n",
    "er2 = stockData(['DKMR', 'BLFE', 'DMY', 'PGE', 'OSTX', 'PETM', 'VF','GXI','GMG'], '2020-09-28', '2020-09-28')\n"
   ]
  },
  {
   "cell_type": "code",
   "execution_count": 125,
   "metadata": {
    "collapsed": true
   },
   "outputs": [],
   "source": [
    "#Combine the main and SNAP dataframes\n",
    "frames2 = [cur_prices, er2]\n",
    "cur_prices = pd.concat(frames2)"
   ]
  },
  {
   "cell_type": "code",
   "execution_count": 126,
   "metadata": {
    "collapsed": true
   },
   "outputs": [],
   "source": [
    "cur_prices.sort_values(\"Symbol\", inplace = True)\n",
    "cur_prices.drop_duplicates(subset = \"Symbol\", inplace = True)"
   ]
  },
  {
   "cell_type": "code",
   "execution_count": 127,
   "metadata": {
    "collapsed": true
   },
   "outputs": [],
   "source": [
    "cur_prices.to_csv(\"cur_prices.csv\")"
   ]
  },
  {
   "cell_type": "code",
   "execution_count": 128,
   "metadata": {},
   "outputs": [
    {
     "data": {
      "text/html": [
       "<div>\n",
       "<style scoped>\n",
       "    .dataframe tbody tr th:only-of-type {\n",
       "        vertical-align: middle;\n",
       "    }\n",
       "\n",
       "    .dataframe tbody tr th {\n",
       "        vertical-align: top;\n",
       "    }\n",
       "\n",
       "    .dataframe thead th {\n",
       "        text-align: right;\n",
       "    }\n",
       "</style>\n",
       "<table border=\"1\" class=\"dataframe\">\n",
       "  <thead>\n",
       "    <tr style=\"text-align: right;\">\n",
       "      <th></th>\n",
       "      <th>Date</th>\n",
       "      <th>Symbol</th>\n",
       "      <th>Close</th>\n",
       "      <th>Day</th>\n",
       "    </tr>\n",
       "  </thead>\n",
       "  <tbody>\n",
       "    <tr>\n",
       "      <th>0</th>\n",
       "      <td>2020-09-28</td>\n",
       "      <td>AAPL</td>\n",
       "      <td>114.959999</td>\n",
       "      <td>2020-09-28</td>\n",
       "    </tr>\n",
       "    <tr>\n",
       "      <th>1</th>\n",
       "      <td>2020-09-28</td>\n",
       "      <td>ADBE</td>\n",
       "      <td>488.510010</td>\n",
       "      <td>2020-09-28</td>\n",
       "    </tr>\n",
       "    <tr>\n",
       "      <th>2</th>\n",
       "      <td>2020-09-28</td>\n",
       "      <td>AFL</td>\n",
       "      <td>36.330002</td>\n",
       "      <td>2020-09-28</td>\n",
       "    </tr>\n",
       "    <tr>\n",
       "      <th>3</th>\n",
       "      <td>2020-09-28</td>\n",
       "      <td>ALB</td>\n",
       "      <td>84.839996</td>\n",
       "      <td>2020-09-28</td>\n",
       "    </tr>\n",
       "    <tr>\n",
       "      <th>4</th>\n",
       "      <td>2020-09-28</td>\n",
       "      <td>AMD</td>\n",
       "      <td>79.480003</td>\n",
       "      <td>2020-09-28</td>\n",
       "    </tr>\n",
       "  </tbody>\n",
       "</table>\n",
       "</div>"
      ],
      "text/plain": [
       "         Date Symbol       Close         Day\n",
       "0  2020-09-28   AAPL  114.959999  2020-09-28\n",
       "1  2020-09-28   ADBE  488.510010  2020-09-28\n",
       "2  2020-09-28    AFL   36.330002  2020-09-28\n",
       "3  2020-09-28    ALB   84.839996  2020-09-28\n",
       "4  2020-09-28    AMD   79.480003  2020-09-28"
      ]
     },
     "execution_count": 128,
     "metadata": {},
     "output_type": "execute_result"
    }
   ],
   "source": [
    "cur_prices= pd.read_csv(\"https://raw.githubusercontent.com/bkreis84/Portfolio-Challenge2/master/cur_prices.csv\")\n",
    "cur_prices.head()\n"
   ]
  },
  {
   "cell_type": "code",
   "execution_count": 129,
   "metadata": {
    "collapsed": true
   },
   "outputs": [],
   "source": [
    "detail = pd.merge(initportfolios, cur_prices, how = 'left', on = \"Symbol\", validate=\"many_to_one\")"
   ]
  },
  {
   "cell_type": "code",
   "execution_count": 130,
   "metadata": {},
   "outputs": [
    {
     "data": {
      "text/html": [
       "<div>\n",
       "<style scoped>\n",
       "    .dataframe tbody tr th:only-of-type {\n",
       "        vertical-align: middle;\n",
       "    }\n",
       "\n",
       "    .dataframe tbody tr th {\n",
       "        vertical-align: top;\n",
       "    }\n",
       "\n",
       "    .dataframe thead th {\n",
       "        text-align: right;\n",
       "    }\n",
       "</style>\n",
       "<table border=\"1\" class=\"dataframe\">\n",
       "  <thead>\n",
       "    <tr style=\"text-align: right;\">\n",
       "      <th></th>\n",
       "      <th>Unnamed: 0</th>\n",
       "      <th>Name</th>\n",
       "      <th>Symbol</th>\n",
       "      <th>% of Portfolio</th>\n",
       "      <th>Cost Basis</th>\n",
       "      <th>Unnamed: 0.1</th>\n",
       "      <th>Close_x</th>\n",
       "      <th>Date_x</th>\n",
       "      <th>Day_x</th>\n",
       "      <th># of Shares</th>\n",
       "      <th>Date_y</th>\n",
       "      <th>Close_y</th>\n",
       "      <th>Day_y</th>\n",
       "    </tr>\n",
       "  </thead>\n",
       "  <tbody>\n",
       "    <tr>\n",
       "      <th>0</th>\n",
       "      <td>0</td>\n",
       "      <td>Estelle Genest</td>\n",
       "      <td>BRK-B</td>\n",
       "      <td>0.03</td>\n",
       "      <td>6000</td>\n",
       "      <td>0.0</td>\n",
       "      <td>218.210007</td>\n",
       "      <td>2020-09-18</td>\n",
       "      <td>2020-09-18</td>\n",
       "      <td>27.496448</td>\n",
       "      <td>2020-09-28</td>\n",
       "      <td>213.539993</td>\n",
       "      <td>2020-09-28</td>\n",
       "    </tr>\n",
       "    <tr>\n",
       "      <th>1</th>\n",
       "      <td>1</td>\n",
       "      <td>Estelle Genest</td>\n",
       "      <td>BX</td>\n",
       "      <td>0.05</td>\n",
       "      <td>10000</td>\n",
       "      <td>1.0</td>\n",
       "      <td>52.700001</td>\n",
       "      <td>2020-09-18</td>\n",
       "      <td>2020-09-18</td>\n",
       "      <td>189.753318</td>\n",
       "      <td>2020-09-28</td>\n",
       "      <td>52.660000</td>\n",
       "      <td>2020-09-28</td>\n",
       "    </tr>\n",
       "    <tr>\n",
       "      <th>2</th>\n",
       "      <td>2</td>\n",
       "      <td>Estelle Genest</td>\n",
       "      <td>RXL</td>\n",
       "      <td>0.30</td>\n",
       "      <td>60000</td>\n",
       "      <td>2.0</td>\n",
       "      <td>129.130005</td>\n",
       "      <td>2020-09-18</td>\n",
       "      <td>2020-09-18</td>\n",
       "      <td>464.648012</td>\n",
       "      <td>2020-09-28</td>\n",
       "      <td>126.059998</td>\n",
       "      <td>2020-09-28</td>\n",
       "    </tr>\n",
       "    <tr>\n",
       "      <th>3</th>\n",
       "      <td>3</td>\n",
       "      <td>Estelle Genest</td>\n",
       "      <td>ROM</td>\n",
       "      <td>0.10</td>\n",
       "      <td>20000</td>\n",
       "      <td>3.0</td>\n",
       "      <td>51.900002</td>\n",
       "      <td>2020-09-18</td>\n",
       "      <td>2020-09-18</td>\n",
       "      <td>385.356443</td>\n",
       "      <td>2020-09-28</td>\n",
       "      <td>56.160000</td>\n",
       "      <td>2020-09-28</td>\n",
       "    </tr>\n",
       "    <tr>\n",
       "      <th>4</th>\n",
       "      <td>4</td>\n",
       "      <td>Estelle Genest</td>\n",
       "      <td>AMZN</td>\n",
       "      <td>0.10</td>\n",
       "      <td>20000</td>\n",
       "      <td>4.0</td>\n",
       "      <td>2954.909912</td>\n",
       "      <td>2020-09-18</td>\n",
       "      <td>2020-09-18</td>\n",
       "      <td>6.768396</td>\n",
       "      <td>2020-09-28</td>\n",
       "      <td>3174.050049</td>\n",
       "      <td>2020-09-28</td>\n",
       "    </tr>\n",
       "  </tbody>\n",
       "</table>\n",
       "</div>"
      ],
      "text/plain": [
       "   Unnamed: 0            Name Symbol  % of Portfolio  Cost Basis  \\\n",
       "0           0  Estelle Genest  BRK-B            0.03        6000   \n",
       "1           1  Estelle Genest     BX            0.05       10000   \n",
       "2           2  Estelle Genest    RXL            0.30       60000   \n",
       "3           3  Estelle Genest    ROM            0.10       20000   \n",
       "4           4  Estelle Genest   AMZN            0.10       20000   \n",
       "\n",
       "   Unnamed: 0.1      Close_x      Date_x       Day_x  # of Shares      Date_y  \\\n",
       "0           0.0   218.210007  2020-09-18  2020-09-18    27.496448  2020-09-28   \n",
       "1           1.0    52.700001  2020-09-18  2020-09-18   189.753318  2020-09-28   \n",
       "2           2.0   129.130005  2020-09-18  2020-09-18   464.648012  2020-09-28   \n",
       "3           3.0    51.900002  2020-09-18  2020-09-18   385.356443  2020-09-28   \n",
       "4           4.0  2954.909912  2020-09-18  2020-09-18     6.768396  2020-09-28   \n",
       "\n",
       "       Close_y       Day_y  \n",
       "0   213.539993  2020-09-28  \n",
       "1    52.660000  2020-09-28  \n",
       "2   126.059998  2020-09-28  \n",
       "3    56.160000  2020-09-28  \n",
       "4  3174.050049  2020-09-28  "
      ]
     },
     "execution_count": 130,
     "metadata": {},
     "output_type": "execute_result"
    }
   ],
   "source": [
    "detail.head()"
   ]
  },
  {
   "cell_type": "code",
   "execution_count": 131,
   "metadata": {},
   "outputs": [
    {
     "data": {
      "text/html": [
       "<div>\n",
       "<style scoped>\n",
       "    .dataframe tbody tr th:only-of-type {\n",
       "        vertical-align: middle;\n",
       "    }\n",
       "\n",
       "    .dataframe tbody tr th {\n",
       "        vertical-align: top;\n",
       "    }\n",
       "\n",
       "    .dataframe thead th {\n",
       "        text-align: right;\n",
       "    }\n",
       "</style>\n",
       "<table border=\"1\" class=\"dataframe\">\n",
       "  <thead>\n",
       "    <tr style=\"text-align: right;\">\n",
       "      <th></th>\n",
       "      <th>Unnamed: 0</th>\n",
       "      <th>Name</th>\n",
       "      <th>Symbol</th>\n",
       "      <th>% of Portfolio</th>\n",
       "      <th>Cost Basis</th>\n",
       "      <th>Unnamed: 0.1</th>\n",
       "      <th>Close_x</th>\n",
       "      <th>Date_x</th>\n",
       "      <th>Day_x</th>\n",
       "      <th># of Shares</th>\n",
       "      <th>Date_y</th>\n",
       "      <th>Close_y</th>\n",
       "      <th>Day_y</th>\n",
       "      <th>Current_Value</th>\n",
       "      <th>Perc_Return</th>\n",
       "    </tr>\n",
       "  </thead>\n",
       "  <tbody>\n",
       "    <tr>\n",
       "      <th>0</th>\n",
       "      <td>0</td>\n",
       "      <td>Estelle Genest</td>\n",
       "      <td>BRK-B</td>\n",
       "      <td>0.03</td>\n",
       "      <td>6000</td>\n",
       "      <td>0.0</td>\n",
       "      <td>218.210007</td>\n",
       "      <td>2020-09-18</td>\n",
       "      <td>2020-09-18</td>\n",
       "      <td>27.496448</td>\n",
       "      <td>2020-09-28</td>\n",
       "      <td>213.539993</td>\n",
       "      <td>2020-09-28</td>\n",
       "      <td>5871.591221</td>\n",
       "      <td>-0.021401</td>\n",
       "    </tr>\n",
       "    <tr>\n",
       "      <th>1</th>\n",
       "      <td>1</td>\n",
       "      <td>Estelle Genest</td>\n",
       "      <td>BX</td>\n",
       "      <td>0.05</td>\n",
       "      <td>10000</td>\n",
       "      <td>1.0</td>\n",
       "      <td>52.700001</td>\n",
       "      <td>2020-09-18</td>\n",
       "      <td>2020-09-18</td>\n",
       "      <td>189.753318</td>\n",
       "      <td>2020-09-28</td>\n",
       "      <td>52.660000</td>\n",
       "      <td>2020-09-28</td>\n",
       "      <td>9992.409694</td>\n",
       "      <td>-0.000759</td>\n",
       "    </tr>\n",
       "    <tr>\n",
       "      <th>2</th>\n",
       "      <td>2</td>\n",
       "      <td>Estelle Genest</td>\n",
       "      <td>RXL</td>\n",
       "      <td>0.30</td>\n",
       "      <td>60000</td>\n",
       "      <td>2.0</td>\n",
       "      <td>129.130005</td>\n",
       "      <td>2020-09-18</td>\n",
       "      <td>2020-09-18</td>\n",
       "      <td>464.648012</td>\n",
       "      <td>2020-09-28</td>\n",
       "      <td>126.059998</td>\n",
       "      <td>2020-09-28</td>\n",
       "      <td>58573.527201</td>\n",
       "      <td>-0.023775</td>\n",
       "    </tr>\n",
       "    <tr>\n",
       "      <th>3</th>\n",
       "      <td>3</td>\n",
       "      <td>Estelle Genest</td>\n",
       "      <td>ROM</td>\n",
       "      <td>0.10</td>\n",
       "      <td>20000</td>\n",
       "      <td>3.0</td>\n",
       "      <td>51.900002</td>\n",
       "      <td>2020-09-18</td>\n",
       "      <td>2020-09-18</td>\n",
       "      <td>385.356443</td>\n",
       "      <td>2020-09-28</td>\n",
       "      <td>56.160000</td>\n",
       "      <td>2020-09-28</td>\n",
       "      <td>21641.617802</td>\n",
       "      <td>0.082081</td>\n",
       "    </tr>\n",
       "    <tr>\n",
       "      <th>4</th>\n",
       "      <td>4</td>\n",
       "      <td>Estelle Genest</td>\n",
       "      <td>AMZN</td>\n",
       "      <td>0.10</td>\n",
       "      <td>20000</td>\n",
       "      <td>4.0</td>\n",
       "      <td>2954.909912</td>\n",
       "      <td>2020-09-18</td>\n",
       "      <td>2020-09-18</td>\n",
       "      <td>6.768396</td>\n",
       "      <td>2020-09-28</td>\n",
       "      <td>3174.050049</td>\n",
       "      <td>2020-09-28</td>\n",
       "      <td>21483.227193</td>\n",
       "      <td>0.074161</td>\n",
       "    </tr>\n",
       "  </tbody>\n",
       "</table>\n",
       "</div>"
      ],
      "text/plain": [
       "   Unnamed: 0            Name Symbol  % of Portfolio  Cost Basis  \\\n",
       "0           0  Estelle Genest  BRK-B            0.03        6000   \n",
       "1           1  Estelle Genest     BX            0.05       10000   \n",
       "2           2  Estelle Genest    RXL            0.30       60000   \n",
       "3           3  Estelle Genest    ROM            0.10       20000   \n",
       "4           4  Estelle Genest   AMZN            0.10       20000   \n",
       "\n",
       "   Unnamed: 0.1      Close_x      Date_x       Day_x  # of Shares      Date_y  \\\n",
       "0           0.0   218.210007  2020-09-18  2020-09-18    27.496448  2020-09-28   \n",
       "1           1.0    52.700001  2020-09-18  2020-09-18   189.753318  2020-09-28   \n",
       "2           2.0   129.130005  2020-09-18  2020-09-18   464.648012  2020-09-28   \n",
       "3           3.0    51.900002  2020-09-18  2020-09-18   385.356443  2020-09-28   \n",
       "4           4.0  2954.909912  2020-09-18  2020-09-18     6.768396  2020-09-28   \n",
       "\n",
       "       Close_y       Day_y  Current_Value  Perc_Return  \n",
       "0   213.539993  2020-09-28    5871.591221    -0.021401  \n",
       "1    52.660000  2020-09-28    9992.409694    -0.000759  \n",
       "2   126.059998  2020-09-28   58573.527201    -0.023775  \n",
       "3    56.160000  2020-09-28   21641.617802     0.082081  \n",
       "4  3174.050049  2020-09-28   21483.227193     0.074161  "
      ]
     },
     "execution_count": 131,
     "metadata": {},
     "output_type": "execute_result"
    }
   ],
   "source": [
    "detail['Current_Value'] = detail['Close_y'] * detail['# of Shares']\n",
    "detail['Perc_Return'] = detail['Close_y']/detail['Close_x']  -1\n",
    "detail.head(5)"
   ]
  },
  {
   "cell_type": "code",
   "execution_count": 132,
   "metadata": {
    "collapsed": true
   },
   "outputs": [],
   "source": [
    "detail.to_csv(\"pt1-detail.csv\")"
   ]
  },
  {
   "cell_type": "markdown",
   "metadata": {},
   "source": [
    "### Individual Performance"
   ]
  },
  {
   "cell_type": "code",
   "execution_count": 133,
   "metadata": {
    "collapsed": true
   },
   "outputs": [],
   "source": [
    "ranking = detail.groupby(\"Name\")['Cost Basis', 'Current_Value'].sum().reset_index().sort_values(\"Current_Value\", ascending=False)"
   ]
  },
  {
   "cell_type": "code",
   "execution_count": 134,
   "metadata": {
    "scrolled": true
   },
   "outputs": [
    {
     "data": {
      "text/html": [
       "<div>\n",
       "<style scoped>\n",
       "    .dataframe tbody tr th:only-of-type {\n",
       "        vertical-align: middle;\n",
       "    }\n",
       "\n",
       "    .dataframe tbody tr th {\n",
       "        vertical-align: top;\n",
       "    }\n",
       "\n",
       "    .dataframe thead th {\n",
       "        text-align: right;\n",
       "    }\n",
       "</style>\n",
       "<table border=\"1\" class=\"dataframe\">\n",
       "  <thead>\n",
       "    <tr style=\"text-align: right;\">\n",
       "      <th></th>\n",
       "      <th>Name</th>\n",
       "      <th>Cost Basis</th>\n",
       "      <th>Current_Value</th>\n",
       "      <th>Perc_Return</th>\n",
       "      <th>Rank</th>\n",
       "    </tr>\n",
       "  </thead>\n",
       "  <tbody>\n",
       "    <tr>\n",
       "      <th>16</th>\n",
       "      <td>Joseph Lindner</td>\n",
       "      <td>200000</td>\n",
       "      <td>218531.957952</td>\n",
       "      <td>0.092660</td>\n",
       "      <td>1.0</td>\n",
       "    </tr>\n",
       "    <tr>\n",
       "      <th>33</th>\n",
       "      <td>Schuyler Bull</td>\n",
       "      <td>200000</td>\n",
       "      <td>212212.280648</td>\n",
       "      <td>0.061061</td>\n",
       "      <td>2.0</td>\n",
       "    </tr>\n",
       "    <tr>\n",
       "      <th>21</th>\n",
       "      <td>Lindsey Pelerin</td>\n",
       "      <td>200000</td>\n",
       "      <td>211753.637491</td>\n",
       "      <td>0.058768</td>\n",
       "      <td>3.0</td>\n",
       "    </tr>\n",
       "    <tr>\n",
       "      <th>38</th>\n",
       "      <td>Trudy Seeber</td>\n",
       "      <td>200000</td>\n",
       "      <td>211327.269418</td>\n",
       "      <td>0.056636</td>\n",
       "      <td>4.0</td>\n",
       "    </tr>\n",
       "    <tr>\n",
       "      <th>19</th>\n",
       "      <td>Kwun Chan</td>\n",
       "      <td>200000</td>\n",
       "      <td>208747.145805</td>\n",
       "      <td>0.043736</td>\n",
       "      <td>5.0</td>\n",
       "    </tr>\n",
       "    <tr>\n",
       "      <th>18</th>\n",
       "      <td>Kristen Kiefer</td>\n",
       "      <td>200000</td>\n",
       "      <td>208426.146340</td>\n",
       "      <td>0.042131</td>\n",
       "      <td>6.0</td>\n",
       "    </tr>\n",
       "    <tr>\n",
       "      <th>11</th>\n",
       "      <td>Giuseppe Tedesco</td>\n",
       "      <td>200000</td>\n",
       "      <td>207221.331456</td>\n",
       "      <td>0.036107</td>\n",
       "      <td>7.0</td>\n",
       "    </tr>\n",
       "    <tr>\n",
       "      <th>30</th>\n",
       "      <td>Peter Odell</td>\n",
       "      <td>200000</td>\n",
       "      <td>206434.309125</td>\n",
       "      <td>0.032172</td>\n",
       "      <td>8.0</td>\n",
       "    </tr>\n",
       "    <tr>\n",
       "      <th>35</th>\n",
       "      <td>Sherry A Rosekrans</td>\n",
       "      <td>200000</td>\n",
       "      <td>206221.366575</td>\n",
       "      <td>0.031107</td>\n",
       "      <td>9.0</td>\n",
       "    </tr>\n",
       "    <tr>\n",
       "      <th>28</th>\n",
       "      <td>Nori Lansing</td>\n",
       "      <td>200000</td>\n",
       "      <td>206011.984312</td>\n",
       "      <td>0.030060</td>\n",
       "      <td>10.0</td>\n",
       "    </tr>\n",
       "    <tr>\n",
       "      <th>7</th>\n",
       "      <td>Danish Sharpe</td>\n",
       "      <td>200000</td>\n",
       "      <td>205751.539956</td>\n",
       "      <td>0.028758</td>\n",
       "      <td>11.0</td>\n",
       "    </tr>\n",
       "    <tr>\n",
       "      <th>32</th>\n",
       "      <td>Rebecca Curtis</td>\n",
       "      <td>200000</td>\n",
       "      <td>205259.754924</td>\n",
       "      <td>0.026299</td>\n",
       "      <td>12.0</td>\n",
       "    </tr>\n",
       "    <tr>\n",
       "      <th>25</th>\n",
       "      <td>Melissa Stamper</td>\n",
       "      <td>200000</td>\n",
       "      <td>205140.325765</td>\n",
       "      <td>0.025702</td>\n",
       "      <td>13.0</td>\n",
       "    </tr>\n",
       "    <tr>\n",
       "      <th>15</th>\n",
       "      <td>Joe Geis</td>\n",
       "      <td>200000</td>\n",
       "      <td>205078.469450</td>\n",
       "      <td>0.025392</td>\n",
       "      <td>14.0</td>\n",
       "    </tr>\n",
       "    <tr>\n",
       "      <th>10</th>\n",
       "      <td>Estelle Genest</td>\n",
       "      <td>200000</td>\n",
       "      <td>204589.278239</td>\n",
       "      <td>0.022946</td>\n",
       "      <td>15.0</td>\n",
       "    </tr>\n",
       "    <tr>\n",
       "      <th>5</th>\n",
       "      <td>Claire Moylan</td>\n",
       "      <td>200000</td>\n",
       "      <td>202354.981316</td>\n",
       "      <td>0.011775</td>\n",
       "      <td>16.0</td>\n",
       "    </tr>\n",
       "    <tr>\n",
       "      <th>0</th>\n",
       "      <td>Alexandra Sautin</td>\n",
       "      <td>200000</td>\n",
       "      <td>201543.450499</td>\n",
       "      <td>0.007717</td>\n",
       "      <td>17.0</td>\n",
       "    </tr>\n",
       "    <tr>\n",
       "      <th>22</th>\n",
       "      <td>Luke Scarchilli</td>\n",
       "      <td>200000</td>\n",
       "      <td>200375.374782</td>\n",
       "      <td>0.001877</td>\n",
       "      <td>18.0</td>\n",
       "    </tr>\n",
       "    <tr>\n",
       "      <th>17</th>\n",
       "      <td>Kelly Nicholson</td>\n",
       "      <td>200000</td>\n",
       "      <td>200059.395521</td>\n",
       "      <td>0.000297</td>\n",
       "      <td>19.0</td>\n",
       "    </tr>\n",
       "    <tr>\n",
       "      <th>34</th>\n",
       "      <td>Sherlock Bacchus</td>\n",
       "      <td>200000</td>\n",
       "      <td>199400.619306</td>\n",
       "      <td>-0.002997</td>\n",
       "      <td>20.0</td>\n",
       "    </tr>\n",
       "    <tr>\n",
       "      <th>20</th>\n",
       "      <td>Linday Sheridan</td>\n",
       "      <td>200000</td>\n",
       "      <td>198545.401750</td>\n",
       "      <td>-0.007273</td>\n",
       "      <td>21.0</td>\n",
       "    </tr>\n",
       "    <tr>\n",
       "      <th>27</th>\n",
       "      <td>Nicholas Capullo</td>\n",
       "      <td>200000</td>\n",
       "      <td>197711.088087</td>\n",
       "      <td>-0.011445</td>\n",
       "      <td>22.0</td>\n",
       "    </tr>\n",
       "    <tr>\n",
       "      <th>6</th>\n",
       "      <td>Dan Cancelliere</td>\n",
       "      <td>200000</td>\n",
       "      <td>195431.031888</td>\n",
       "      <td>-0.022845</td>\n",
       "      <td>23.0</td>\n",
       "    </tr>\n",
       "    <tr>\n",
       "      <th>24</th>\n",
       "      <td>Melissa Lomaestro</td>\n",
       "      <td>200000</td>\n",
       "      <td>195220.061253</td>\n",
       "      <td>-0.023900</td>\n",
       "      <td>24.0</td>\n",
       "    </tr>\n",
       "    <tr>\n",
       "      <th>37</th>\n",
       "      <td>Teresa Purcell</td>\n",
       "      <td>200000</td>\n",
       "      <td>195096.029102</td>\n",
       "      <td>-0.024520</td>\n",
       "      <td>25.0</td>\n",
       "    </tr>\n",
       "  </tbody>\n",
       "</table>\n",
       "</div>"
      ],
      "text/plain": [
       "                  Name  Cost Basis  Current_Value  Perc_Return  Rank\n",
       "16      Joseph Lindner      200000  218531.957952     0.092660   1.0\n",
       "33       Schuyler Bull      200000  212212.280648     0.061061   2.0\n",
       "21     Lindsey Pelerin      200000  211753.637491     0.058768   3.0\n",
       "38        Trudy Seeber      200000  211327.269418     0.056636   4.0\n",
       "19           Kwun Chan      200000  208747.145805     0.043736   5.0\n",
       "18      Kristen Kiefer      200000  208426.146340     0.042131   6.0\n",
       "11    Giuseppe Tedesco      200000  207221.331456     0.036107   7.0\n",
       "30         Peter Odell      200000  206434.309125     0.032172   8.0\n",
       "35  Sherry A Rosekrans      200000  206221.366575     0.031107   9.0\n",
       "28        Nori Lansing      200000  206011.984312     0.030060  10.0\n",
       "7        Danish Sharpe      200000  205751.539956     0.028758  11.0\n",
       "32      Rebecca Curtis      200000  205259.754924     0.026299  12.0\n",
       "25     Melissa Stamper      200000  205140.325765     0.025702  13.0\n",
       "15            Joe Geis      200000  205078.469450     0.025392  14.0\n",
       "10      Estelle Genest      200000  204589.278239     0.022946  15.0\n",
       "5        Claire Moylan      200000  202354.981316     0.011775  16.0\n",
       "0     Alexandra Sautin      200000  201543.450499     0.007717  17.0\n",
       "22     Luke Scarchilli      200000  200375.374782     0.001877  18.0\n",
       "17     Kelly Nicholson      200000  200059.395521     0.000297  19.0\n",
       "34    Sherlock Bacchus      200000  199400.619306    -0.002997  20.0\n",
       "20     Linday Sheridan      200000  198545.401750    -0.007273  21.0\n",
       "27    Nicholas Capullo      200000  197711.088087    -0.011445  22.0\n",
       "6      Dan Cancelliere      200000  195431.031888    -0.022845  23.0\n",
       "24   Melissa Lomaestro      200000  195220.061253    -0.023900  24.0\n",
       "37      Teresa Purcell      200000  195096.029102    -0.024520  25.0"
      ]
     },
     "execution_count": 134,
     "metadata": {},
     "output_type": "execute_result"
    }
   ],
   "source": [
    "ranking['Perc_Return'] = ranking['Current_Value']/ranking['Cost Basis'] -1\n",
    "ranking['Rank'] = ranking['Perc_Return'].rank(ascending=False)\n",
    "ranking.head(25)"
   ]
  },
  {
   "cell_type": "code",
   "execution_count": 135,
   "metadata": {
    "collapsed": true
   },
   "outputs": [],
   "source": [
    "ranking.to_csv(\"individual rankings.csv\")"
   ]
  },
  {
   "cell_type": "markdown",
   "metadata": {},
   "source": [
    "### Best Individual Stock Returns"
   ]
  },
  {
   "cell_type": "code",
   "execution_count": 136,
   "metadata": {
    "collapsed": true
   },
   "outputs": [],
   "source": [
    "best_stocks = detail.drop_duplicates(['Symbol']).reset_index().sort_values(['Perc_Return'], ascending=False)"
   ]
  },
  {
   "cell_type": "code",
   "execution_count": 137,
   "metadata": {},
   "outputs": [
    {
     "data": {
      "text/html": [
       "<div>\n",
       "<style scoped>\n",
       "    .dataframe tbody tr th:only-of-type {\n",
       "        vertical-align: middle;\n",
       "    }\n",
       "\n",
       "    .dataframe tbody tr th {\n",
       "        vertical-align: top;\n",
       "    }\n",
       "\n",
       "    .dataframe thead th {\n",
       "        text-align: right;\n",
       "    }\n",
       "</style>\n",
       "<table border=\"1\" class=\"dataframe\">\n",
       "  <thead>\n",
       "    <tr style=\"text-align: right;\">\n",
       "      <th></th>\n",
       "      <th>Symbol</th>\n",
       "      <th>Perc_Return</th>\n",
       "    </tr>\n",
       "  </thead>\n",
       "  <tbody>\n",
       "    <tr>\n",
       "      <th>141</th>\n",
       "      <td>FROG</td>\n",
       "      <td>0.332973</td>\n",
       "    </tr>\n",
       "    <tr>\n",
       "      <th>37</th>\n",
       "      <td>CVNA</td>\n",
       "      <td>0.323097</td>\n",
       "    </tr>\n",
       "    <tr>\n",
       "      <th>71</th>\n",
       "      <td>EXAS</td>\n",
       "      <td>0.286950</td>\n",
       "    </tr>\n",
       "    <tr>\n",
       "      <th>173</th>\n",
       "      <td>DQ</td>\n",
       "      <td>0.166143</td>\n",
       "    </tr>\n",
       "    <tr>\n",
       "      <th>125</th>\n",
       "      <td>FVRR</td>\n",
       "      <td>0.155797</td>\n",
       "    </tr>\n",
       "    <tr>\n",
       "      <th>103</th>\n",
       "      <td>DUST</td>\n",
       "      <td>0.114962</td>\n",
       "    </tr>\n",
       "    <tr>\n",
       "      <th>77</th>\n",
       "      <td>ZM</td>\n",
       "      <td>0.111526</td>\n",
       "    </tr>\n",
       "    <tr>\n",
       "      <th>35</th>\n",
       "      <td>PINS</td>\n",
       "      <td>0.111171</td>\n",
       "    </tr>\n",
       "    <tr>\n",
       "      <th>162</th>\n",
       "      <td>SQ</td>\n",
       "      <td>0.108613</td>\n",
       "    </tr>\n",
       "    <tr>\n",
       "      <th>91</th>\n",
       "      <td>ETSY</td>\n",
       "      <td>0.106846</td>\n",
       "    </tr>\n",
       "  </tbody>\n",
       "</table>\n",
       "</div>"
      ],
      "text/plain": [
       "    Symbol  Perc_Return\n",
       "141   FROG     0.332973\n",
       "37    CVNA     0.323097\n",
       "71    EXAS     0.286950\n",
       "173     DQ     0.166143\n",
       "125   FVRR     0.155797\n",
       "103   DUST     0.114962\n",
       "77      ZM     0.111526\n",
       "35    PINS     0.111171\n",
       "162     SQ     0.108613\n",
       "91    ETSY     0.106846"
      ]
     },
     "execution_count": 137,
     "metadata": {},
     "output_type": "execute_result"
    }
   ],
   "source": [
    "best_stocks = best_stocks.loc[:, ['Symbol', 'Perc_Return']]\n",
    "best_stocks.head(10)"
   ]
  },
  {
   "cell_type": "code",
   "execution_count": 138,
   "metadata": {
    "collapsed": true
   },
   "outputs": [],
   "source": [
    "best_stocks.to_csv(\"stock ranking.csv\")"
   ]
  },
  {
   "cell_type": "markdown",
   "metadata": {},
   "source": [
    "# Trend"
   ]
  },
  {
   "cell_type": "code",
   "execution_count": null,
   "metadata": {
    "collapsed": true
   },
   "outputs": [],
   "source": [
    "#Pull Only necessary columns\n",
    "combined = combined.loc[:, ['Name', 'Symbol', '# of Shares']]"
   ]
  },
  {
   "cell_type": "code",
   "execution_count": null,
   "metadata": {
    "collapsed": true
   },
   "outputs": [],
   "source": [
    "Price_History = stockData(stocks['Ticker'], '2019-08-01', '2019-09-06')"
   ]
  },
  {
   "cell_type": "code",
   "execution_count": null,
   "metadata": {
    "collapsed": true
   },
   "outputs": [],
   "source": [
    "historical = pd.merge(combined, Price_History, how = 'outer', on = \"Symbol\", validate=\"many_to_many\")\n"
   ]
  },
  {
   "cell_type": "code",
   "execution_count": null,
   "metadata": {
    "collapsed": true
   },
   "outputs": [],
   "source": [
    "historical['Value'] = historical['# of Shares'] * historical['Close']\n",
    "historical.head()"
   ]
  },
  {
   "cell_type": "code",
   "execution_count": null,
   "metadata": {
    "collapsed": true
   },
   "outputs": [],
   "source": [
    "trend_data = historical.groupby(['Name', 'Day'])['Value'].sum().reset_index().sort_values(['Name', 'Day'])"
   ]
  },
  {
   "cell_type": "code",
   "execution_count": null,
   "metadata": {
    "collapsed": true
   },
   "outputs": [],
   "source": [
    "trend_data.head()"
   ]
  },
  {
   "cell_type": "code",
   "execution_count": 1,
   "metadata": {
    "collapsed": true
   },
   "outputs": [],
   "source": [
    "import chart_studio.plotly as py\n",
    "import plotly.graph_objs as go\n",
    "from plotly.offline import iplot, init_notebook_mode"
   ]
  }
 ],
 "metadata": {
  "kernelspec": {
   "display_name": "Python 3",
   "language": "python",
   "name": "python3"
  },
  "language_info": {
   "codemirror_mode": {
    "name": "ipython",
    "version": 3
   },
   "file_extension": ".py",
   "mimetype": "text/x-python",
   "name": "python",
   "nbconvert_exporter": "python",
   "pygments_lexer": "ipython3",
   "version": "3.6.2"
  }
 },
 "nbformat": 4,
 "nbformat_minor": 2
}
